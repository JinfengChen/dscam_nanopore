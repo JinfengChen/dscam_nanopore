{
 "metadata": {
  "name": "",
  "signature": "sha256:a31241f366c9ccbe3e914d4b3963ffc527cd31c712e221888d1221458c3667a7"
 },
 "nbformat": 3,
 "nbformat_minor": 0,
 "worksheets": [
  {
   "cells": [
    {
     "cell_type": "code",
     "collapsed": false,
     "input": [
      "import os\n",
      "import sys"
     ],
     "language": "python",
     "metadata": {},
     "outputs": [],
     "prompt_number": 28
    },
    {
     "cell_type": "code",
     "collapsed": false,
     "input": [
      "'''\n",
      "#LASTDB\n",
      "os.system('lastdb Dscam_exon4.last Dscam_exon4.fasta')\n",
      "os.system('lastdb Dscam_exon6.last Dscam_exon6.fasta')\n",
      "os.system('lastdb Dscam_exon9.last Dscam_exon9.fasta')\n",
      "'''"
     ],
     "language": "python",
     "metadata": {},
     "outputs": []
    },
    {
     "cell_type": "code",
     "collapsed": false,
     "input": [
      "'''\n",
      "#Poretools\n",
      "os.system('poretools fasta downloads/*.fast5 > SpikeIns_020415_20X.fasta')\n",
      "'''"
     ],
     "language": "python",
     "metadata": {},
     "outputs": []
    },
    {
     "cell_type": "code",
     "collapsed": false,
     "input": [
      "'''\n",
      "#LASTAL\n",
      "os.system('lastal DSCAM_EXONS_LASTDB/Dscam_exon4.last SpikeIns_020415_20X.fasta > Spikeins_alignments_exon4_DEFAULTS')\n",
      "os.system('lastal DSCAM_EXONS_LASTDB/Dscam_exon6.last SpikeIns_020415_20X.fasta > Spikeins_alignments_exon6_DEFAULTS')\n",
      "os.system('lastal DSCAM_EXONS_LASTDB/Dscam_exon9.last SpikeIns_020415_20X.fasta > Spikeins_alignments_exon9_DEFAULTS')\n",
      "\n",
      "os.system('lastal -s 2 -T 0 -Q 0 -a 1 DSCAM_EXONS_LASTDB/Dscam_exon4.last SpikeIns_020415_20X.fasta > Spikeins_alignments_exon4')\n",
      "os.system('lastal -s 2 -T 0 -Q 0 -a 1 DSCAM_EXONS_LASTDB/Dscam_exon6.last SpikeIns_020415_20X.fasta > Spikeins_alignments_exon6')\n",
      "os.system('lastal -s 2 -T 0 -Q 0 -a 1 DSCAM_EXONS_LASTDB/Dscam_exon9.last SpikeIns_020415_20X.fasta > Spikeins_alignments_exon9')\n",
      "\n",
      "'''"
     ],
     "language": "python",
     "metadata": {},
     "outputs": [
      {
       "metadata": {},
       "output_type": "pyout",
       "prompt_number": 4,
       "text": [
        "0"
       ]
      }
     ],
     "prompt_number": 4
    },
    {
     "cell_type": "code",
     "collapsed": false,
     "input": [
      "'''\n",
      "#maf-convert\n",
      "os.system('maf-convert.py SAM Spikeins_alignments_exon4_DEFAULTS > SpikeIns_020415_20X_exon4_DEFAULTS.sam')\n",
      "os.system('maf-convert.py SAM Spikeins_alignments_exon6_DEFAULTS > SpikeIns_020415_20X_exon6_DEFAULTS.sam')\n",
      "os.system('maf-convert.py SAM Spikeins_alignments_exon9_DEFAULTS > SpikeIns_020415_20X_exon9_DEFAULTS.sam')\n",
      "'''"
     ],
     "language": "python",
     "metadata": {},
     "outputs": [
      {
       "metadata": {},
       "output_type": "pyout",
       "prompt_number": 5,
       "text": [
        "0"
       ]
      }
     ],
     "prompt_number": 5
    },
    {
     "cell_type": "code",
     "collapsed": false,
     "input": [
      "'''\n",
      "#mv files\n",
      "os.system('mv *.sam SAM/')\n",
      "os.system('mv *_alignments* LAST_ALIGNMENTS/')\n",
      "'''"
     ],
     "language": "python",
     "metadata": {},
     "outputs": [
      {
       "metadata": {},
       "output_type": "pyout",
       "prompt_number": 7,
       "text": [
        "0"
       ]
      }
     ],
     "prompt_number": 7
    },
    {
     "cell_type": "code",
     "collapsed": false,
     "input": [
      "%matplotlib inline\n",
      "import pandas as pd\n",
      "import numpy as np\n",
      "import matplotlib\n",
      "import matplotlib.pyplot as plt\n",
      "from matplotlib.backends.backend_pdf import PdfPages\n",
      "import scipy.stats as stats\n",
      "import scipy.cluster.hierarchy as sch\n",
      "from operator import *\n",
      "pd.core.config.option_context('mode.use_inf_as_null',True)\n",
      "import seaborn\n",
      "rcdefsns = plt.rcParams.copy()\n",
      "import brewer2mpl"
     ],
     "language": "python",
     "metadata": {},
     "outputs": [
      {
       "output_type": "stream",
       "stream": "stderr",
       "text": [
        "/usr/lib/python2.7/dist-packages/pkg_resources.py:1031: UserWarning: /home/mohanb/.python-eggs is writable by group/others and vulnerable to attack when used with get_resource_filename. Consider a more secure location (set with .set_extraction_path or the PYTHON_EGG_CACHE environment variable).\n",
        "  warnings.warn(msg, UserWarning)\n"
       ]
      }
     ],
     "prompt_number": 1
    },
    {
     "cell_type": "code",
     "collapsed": false,
     "input": [
      "align4=pd.read_table('SAM/SpikeIns_020415_20X_exon4.sam',index_col=False,names=['Read_id','Flag','Align_Exon','Start','B','CIGAR','A','P','P2','Read','A2','Mismatches','Score'], skiprows=1)\n",
      "align6=pd.read_table('SAM/SpikeIns_020415_20X_exon6.sam',index_col=False,names=['Read_id','Flag','Align_Exon','Start','B','CIGAR','A','P','P2','Read','A2','Mismatches','Score'], skiprows=1)\n",
      "align9=pd.read_table('SAM/SpikeIns_020415_20X_exon9.sam',index_col=False,names=['Read_id','Flag','Align_Exon','Start','B','CIGAR','A','P','P2','Read','A2','Mismatches','Score'], skiprows=1)"
     ],
     "language": "python",
     "metadata": {},
     "outputs": [],
     "prompt_number": 2
    },
    {
     "cell_type": "code",
     "collapsed": false,
     "input": [
      "align4.head()"
     ],
     "language": "python",
     "metadata": {},
     "outputs": [
      {
       "html": [
        "<div style=\"max-height:1000px;max-width:1500px;overflow:auto;\">\n",
        "<table border=\"1\" class=\"dataframe\">\n",
        "  <thead>\n",
        "    <tr style=\"text-align: right;\">\n",
        "      <th></th>\n",
        "      <th>Read_id</th>\n",
        "      <th>Flag</th>\n",
        "      <th>Align_Exon</th>\n",
        "      <th>Start</th>\n",
        "      <th>B</th>\n",
        "      <th>CIGAR</th>\n",
        "      <th>A</th>\n",
        "      <th>P</th>\n",
        "      <th>P2</th>\n",
        "      <th>Read</th>\n",
        "      <th>A2</th>\n",
        "      <th>Mismatches</th>\n",
        "      <th>Score</th>\n",
        "    </tr>\n",
        "  </thead>\n",
        "  <tbody>\n",
        "    <tr>\n",
        "      <th>0</th>\n",
        "      <td> ch100_file10_twodirections</td>\n",
        "      <td>  0</td>\n",
        "      <td> exon_4.1</td>\n",
        "      <td>  3</td>\n",
        "      <td> 255</td>\n",
        "      <td> 45H19M1I8M2I34M1D1M1D34M1D2M1D1M1D4M1I10M1I8M1...</td>\n",
        "      <td> *</td>\n",
        "      <td> 0</td>\n",
        "      <td> 0</td>\n",
        "      <td> GTTGCCCAATACTACGACCACCGATGTACAAATAAGGCCTATGTAA...</td>\n",
        "      <td> *</td>\n",
        "      <td> NM:i:51</td>\n",
        "      <td>  AS:i:52</td>\n",
        "    </tr>\n",
        "    <tr>\n",
        "      <th>1</th>\n",
        "      <td> ch100_file10_twodirections</td>\n",
        "      <td>  0</td>\n",
        "      <td> exon_4.2</td>\n",
        "      <td>  1</td>\n",
        "      <td> 255</td>\n",
        "      <td> 43H22M1I8M2I25M1D23M1D20M1D7M1D11M1I7M1D8M1I8M...</td>\n",
        "      <td> *</td>\n",
        "      <td> 0</td>\n",
        "      <td> 0</td>\n",
        "      <td> TCGTTGCCCAATACTACGACCACCGATGTACAAATAAGGCCTATGT...</td>\n",
        "      <td> *</td>\n",
        "      <td> NM:i:51</td>\n",
        "      <td>  AS:i:46</td>\n",
        "    </tr>\n",
        "    <tr>\n",
        "      <th>2</th>\n",
        "      <td> ch100_file12_twodirections</td>\n",
        "      <td> 16</td>\n",
        "      <td> exon_4.1</td>\n",
        "      <td>  8</td>\n",
        "      <td> 255</td>\n",
        "      <td> 57H34M3I19M2I3M1I6M2D19M1D8M1I8M1I8M2D3M1I3M1D...</td>\n",
        "      <td> *</td>\n",
        "      <td> 0</td>\n",
        "      <td> 0</td>\n",
        "      <td> CCAGTACTACGAGGCGGATGTTAACAAGGAGCACCACGTTATAAGA...</td>\n",
        "      <td> *</td>\n",
        "      <td> NM:i:25</td>\n",
        "      <td> AS:i:104</td>\n",
        "    </tr>\n",
        "    <tr>\n",
        "      <th>3</th>\n",
        "      <td>    ch100_file10_complement</td>\n",
        "      <td> 16</td>\n",
        "      <td> exon_4.3</td>\n",
        "      <td> 11</td>\n",
        "      <td> 255</td>\n",
        "      <td> 96H12M1D7M3I7M3D8M1I1M1I10M1D3M2D17M1D19M2D6M1...</td>\n",
        "      <td> *</td>\n",
        "      <td> 0</td>\n",
        "      <td> 0</td>\n",
        "      <td> ATATTACGACAGGCTGTAACAAATAAGGGTGTAATACCGACTGCCC...</td>\n",
        "      <td> *</td>\n",
        "      <td> NM:i:42</td>\n",
        "      <td>  AS:i:48</td>\n",
        "    </tr>\n",
        "    <tr>\n",
        "      <th>4</th>\n",
        "      <td> ch100_file12_twodirections</td>\n",
        "      <td> 16</td>\n",
        "      <td> exon_4.9</td>\n",
        "      <td>  3</td>\n",
        "      <td> 255</td>\n",
        "      <td> 51H5M1I34M3I19M1I1M1I2M1I9M1D1M1D15M1D6M1D6M1D...</td>\n",
        "      <td> *</td>\n",
        "      <td> 0</td>\n",
        "      <td> 0</td>\n",
        "      <td> GTCATGCCAGTACTACGAGGCGGATGTTAACAAGGAGCACCACGTT...</td>\n",
        "      <td> *</td>\n",
        "      <td> NM:i:50</td>\n",
        "      <td>  AS:i:44</td>\n",
        "    </tr>\n",
        "  </tbody>\n",
        "</table>\n",
        "</div>"
       ],
       "metadata": {},
       "output_type": "pyout",
       "prompt_number": 4,
       "text": [
        "                      Read_id  Flag Align_Exon  Start    B  \\\n",
        "0  ch100_file10_twodirections     0   exon_4.1      3  255   \n",
        "1  ch100_file10_twodirections     0   exon_4.2      1  255   \n",
        "2  ch100_file12_twodirections    16   exon_4.1      8  255   \n",
        "3     ch100_file10_complement    16   exon_4.3     11  255   \n",
        "4  ch100_file12_twodirections    16   exon_4.9      3  255   \n",
        "\n",
        "                                               CIGAR  A  P  P2  \\\n",
        "0  45H19M1I8M2I34M1D1M1D34M1D2M1D1M1D4M1I10M1I8M1...  *  0   0   \n",
        "1  43H22M1I8M2I25M1D23M1D20M1D7M1D11M1I7M1D8M1I8M...  *  0   0   \n",
        "2  57H34M3I19M2I3M1I6M2D19M1D8M1I8M1I8M2D3M1I3M1D...  *  0   0   \n",
        "3  96H12M1D7M3I7M3D8M1I1M1I10M1D3M2D17M1D19M2D6M1...  *  0   0   \n",
        "4  51H5M1I34M3I19M1I1M1I2M1I9M1D1M1D15M1D6M1D6M1D...  *  0   0   \n",
        "\n",
        "                                                Read A2 Mismatches     Score  \n",
        "0  GTTGCCCAATACTACGACCACCGATGTACAAATAAGGCCTATGTAA...  *    NM:i:51   AS:i:52  \n",
        "1  TCGTTGCCCAATACTACGACCACCGATGTACAAATAAGGCCTATGT...  *    NM:i:51   AS:i:46  \n",
        "2  CCAGTACTACGAGGCGGATGTTAACAAGGAGCACCACGTTATAAGA...  *    NM:i:25  AS:i:104  \n",
        "3  ATATTACGACAGGCTGTAACAAATAAGGGTGTAATACCGACTGCCC...  *    NM:i:42   AS:i:48  \n",
        "4  GTCATGCCAGTACTACGAGGCGGATGTTAACAAGGAGCACCACGTT...  *    NM:i:50   AS:i:44  "
       ]
      }
     ],
     "prompt_number": 4
    },
    {
     "cell_type": "code",
     "collapsed": false,
     "input": [
      "align4.drop(['Flag','B','A','P','P2','A2'],axis=1,inplace=True)\n",
      "align6.drop(['Flag','B','A','P','P2','A2'],axis=1,inplace=True)\n",
      "align9.drop(['Flag','B','A','P','P2','A2'],axis=1,inplace=True)\n",
      "print len(align4),len(align6),len(align9)"
     ],
     "language": "python",
     "metadata": {},
     "outputs": [
      {
       "output_type": "stream",
       "stream": "stdout",
       "text": [
        "23291 11352 26993\n"
       ]
      }
     ],
     "prompt_number": 4
    },
    {
     "cell_type": "code",
     "collapsed": false,
     "input": [
      "#Use for Unique alignments\n",
      "count_appkey = align4.groupby('Read_id')['Read_id'].transform('count')\n",
      "align4=align4[count_appkey==1]\n",
      "count_appkey = align6.groupby('Read_id')['Read_id'].transform('count')\n",
      "align6=align6[count_appkey==1]\n",
      "count_appkey = align9.groupby('Read_id')['Read_id'].transform('count')\n",
      "align9=align9[count_appkey==1]\n",
      "print len(align4),len(align6),len(align9)"
     ],
     "language": "python",
     "metadata": {},
     "outputs": [
      {
       "output_type": "stream",
       "stream": "stdout",
       "text": [
        "5593 4805 5011\n"
       ]
      }
     ],
     "prompt_number": 27
    },
    {
     "cell_type": "code",
     "collapsed": false,
     "input": [
      "align4['Align_Exon']=align4['Align_Exon'].apply(lambda x:x.replace('exon_',''))\n",
      "align6['Align_Exon']=align6['Align_Exon'].apply(lambda x:x.replace('exon_',''))\n",
      "align9['Align_Exon']=align9['Align_Exon'].apply(lambda x:x.replace('exon_',''))\n",
      "align4['Score']=align4['Score'].apply(lambda x:int(x.split(':')[-1]))\n",
      "align6['Score']=align6['Score'].apply(lambda x:int(x.split(':')[-1]))\n",
      "align9['Score']=align9['Score'].apply(lambda x:int(x.split(':')[-1]))\n",
      "align4['Length']=align4['Read'].apply(len)\n",
      "align6['Length']=align6['Read'].apply(len)\n",
      "align9['Length']=align9['Read'].apply(len)"
     ],
     "language": "python",
     "metadata": {},
     "outputs": [],
     "prompt_number": 5
    },
    {
     "cell_type": "code",
     "collapsed": false,
     "input": [
      "align4.sort(columns=['Read_id','Score'], inplace=True, ascending=[False,False])\n",
      "align6.sort(columns=['Read_id','Score'], inplace=True, ascending=[False,False])\n",
      "align9.sort(columns=['Read_id','Score'], inplace=True, ascending=[False,False])\n",
      "align4.head()"
     ],
     "language": "python",
     "metadata": {},
     "outputs": [
      {
       "html": [
        "<div style=\"max-height:1000px;max-width:1500px;overflow:auto;\">\n",
        "<table border=\"1\" class=\"dataframe\">\n",
        "  <thead>\n",
        "    <tr style=\"text-align: right;\">\n",
        "      <th></th>\n",
        "      <th>Read_id</th>\n",
        "      <th>Align_Exon</th>\n",
        "      <th>Start</th>\n",
        "      <th>CIGAR</th>\n",
        "      <th>Read</th>\n",
        "      <th>Mismatches</th>\n",
        "      <th>Score</th>\n",
        "      <th>Length</th>\n",
        "    </tr>\n",
        "  </thead>\n",
        "  <tbody>\n",
        "    <tr>\n",
        "      <th>23290</th>\n",
        "      <td> ch9_file9_twodirections</td>\n",
        "      <td> 4.5</td>\n",
        "      <td> 12</td>\n",
        "      <td> 33H14M1I8M5I4M1I6M1I1M1I5M1D8M1I12M1I15M2D7M2D...</td>\n",
        "      <td> TATTACGAGGCTGAAGGCTGTTTACGCCCCCAGGTTCGTATCATCT...</td>\n",
        "      <td> NM:i:43</td>\n",
        "      <td>  64</td>\n",
        "      <td> 157</td>\n",
        "    </tr>\n",
        "    <tr>\n",
        "      <th>23289</th>\n",
        "      <td>    ch9_file9_complement</td>\n",
        "      <td> 4.5</td>\n",
        "      <td>  1</td>\n",
        "      <td> 21H14M2I14M2I8M2I3M1D3M1D3M1D1M1D7M2D10M1I7M1D...</td>\n",
        "      <td> TCGTGAATCATTATATTACGAGGCTGAGGCGGTGTTTACGCCAGTC...</td>\n",
        "      <td> NM:i:49</td>\n",
        "      <td>  49</td>\n",
        "      <td> 145</td>\n",
        "    </tr>\n",
        "    <tr>\n",
        "      <th>23285</th>\n",
        "      <td> ch9_file8_twodirections</td>\n",
        "      <td> 4.1</td>\n",
        "      <td>  2</td>\n",
        "      <td> 47H10M2I9M1D22M1D8M1I10M1D1M1D5M1D19M1I9M1D8M1...</td>\n",
        "      <td> GGCTGCCCAGAGTACTACGAGCGGATGTTAACAAGGAGCACGTATA...</td>\n",
        "      <td> NM:i:22</td>\n",
        "      <td> 114</td>\n",
        "      <td> 166</td>\n",
        "    </tr>\n",
        "    <tr>\n",
        "      <th>23286</th>\n",
        "      <td> ch9_file8_twodirections</td>\n",
        "      <td> 4.3</td>\n",
        "      <td>  5</td>\n",
        "      <td> 50H6M1I1M1I9M1D23M1D7M1I14M3D20M1I10M1D3M1I17M...</td>\n",
        "      <td> TGCCCAGAGTACTACGAGCGGATGTTAACAAGGAGCACGTATAAGA...</td>\n",
        "      <td> NM:i:56</td>\n",
        "      <td>  45</td>\n",
        "      <td> 163</td>\n",
        "    </tr>\n",
        "    <tr>\n",
        "      <th>23287</th>\n",
        "      <td> ch9_file8_twodirections</td>\n",
        "      <td> 4.4</td>\n",
        "      <td>  6</td>\n",
        "      <td> 54H3M1D11M1D22M1D5M1I12M1D2M1D5M1I2M1D2M1D12M1...</td>\n",
        "      <td> CAGAGTACTACGAGCGGATGTTAACAAGGAGCACGTATAAGAGCAC...</td>\n",
        "      <td> NM:i:44</td>\n",
        "      <td>  44</td>\n",
        "      <td> 137</td>\n",
        "    </tr>\n",
        "  </tbody>\n",
        "</table>\n",
        "</div>"
       ],
       "metadata": {},
       "output_type": "pyout",
       "prompt_number": 6,
       "text": [
        "                       Read_id Align_Exon  Start  \\\n",
        "23290  ch9_file9_twodirections        4.5     12   \n",
        "23289     ch9_file9_complement        4.5      1   \n",
        "23285  ch9_file8_twodirections        4.1      2   \n",
        "23286  ch9_file8_twodirections        4.3      5   \n",
        "23287  ch9_file8_twodirections        4.4      6   \n",
        "\n",
        "                                                   CIGAR  \\\n",
        "23290  33H14M1I8M5I4M1I6M1I1M1I5M1D8M1I12M1I15M2D7M2D...   \n",
        "23289  21H14M2I14M2I8M2I3M1D3M1D3M1D1M1D7M2D10M1I7M1D...   \n",
        "23285  47H10M2I9M1D22M1D8M1I10M1D1M1D5M1D19M1I9M1D8M1...   \n",
        "23286  50H6M1I1M1I9M1D23M1D7M1I14M3D20M1I10M1D3M1I17M...   \n",
        "23287  54H3M1D11M1D22M1D5M1I12M1D2M1D5M1I2M1D2M1D12M1...   \n",
        "\n",
        "                                                    Read Mismatches  Score  \\\n",
        "23290  TATTACGAGGCTGAAGGCTGTTTACGCCCCCAGGTTCGTATCATCT...    NM:i:43     64   \n",
        "23289  TCGTGAATCATTATATTACGAGGCTGAGGCGGTGTTTACGCCAGTC...    NM:i:49     49   \n",
        "23285  GGCTGCCCAGAGTACTACGAGCGGATGTTAACAAGGAGCACGTATA...    NM:i:22    114   \n",
        "23286  TGCCCAGAGTACTACGAGCGGATGTTAACAAGGAGCACGTATAAGA...    NM:i:56     45   \n",
        "23287  CAGAGTACTACGAGCGGATGTTAACAAGGAGCACGTATAAGAGCAC...    NM:i:44     44   \n",
        "\n",
        "       Length  \n",
        "23290     157  \n",
        "23289     145  \n",
        "23285     166  \n",
        "23286     163  \n",
        "23287     137  "
       ]
      }
     ],
     "prompt_number": 6
    },
    {
     "cell_type": "code",
     "collapsed": false,
     "input": [
      "#Use for alignments with score filter\n",
      "align4=align4.drop_duplicates(subset=['Read_id'])\n",
      "align6=align6.drop_duplicates(subset=['Read_id'])\n",
      "align9=align9.drop_duplicates(subset=['Read_id'])\n",
      "print len(align4),len(align6),len(align9)\n",
      "#align9[align9['Read_id'].isin(['ch322_file48_twodirections'])]"
     ],
     "language": "python",
     "metadata": {},
     "outputs": [
      {
       "output_type": "stream",
       "stream": "stdout",
       "text": [
        "17034 11231 17667\n"
       ]
      }
     ],
     "prompt_number": 7
    },
    {
     "cell_type": "code",
     "collapsed": false,
     "input": [
      "align4.set_index('Read_id',inplace=True)\n",
      "align6.set_index('Read_id',inplace=True)\n",
      "align9.set_index('Read_id',inplace=True)"
     ],
     "language": "python",
     "metadata": {},
     "outputs": [],
     "prompt_number": 8
    },
    {
     "cell_type": "code",
     "collapsed": false,
     "input": [
      "a=pd.DataFrame(data=[len(align4),len(align6),len(align9)],index=['Exon4','Exon6','Exon9'],columns=['Alignments'])"
     ],
     "language": "python",
     "metadata": {},
     "outputs": [],
     "prompt_number": 9
    },
    {
     "cell_type": "code",
     "collapsed": false,
     "input": [
      "matplotlib.rcParams['figure.figsize'] = (5.0, 5.0)\n",
      "ax=a.plot(kind='bar')\n",
      "ax.set_title('All Reads',fontsize=20)\n",
      "ax.tick_params(axis='both', which='major', labelsize=14)"
     ],
     "language": "python",
     "metadata": {},
     "outputs": [
      {
       "metadata": {},
       "output_type": "display_data",
       "png": "[encoded data removed]",
       "text": [
        "<matplotlib.figure.Figure at 0x7fcc5d457490>"
       ]
      }
     ],
     "prompt_number": 10
    },
    {
     "cell_type": "code",
     "collapsed": false,
     "input": [
      "matplotlib.rcParams['figure.figsize'] = (5.0, 5.0)\n",
      "align4['Align_Exon'].value_counts().plot(kind='barh')"
     ],
     "language": "python",
     "metadata": {},
     "outputs": [
      {
       "metadata": {},
       "output_type": "pyout",
       "prompt_number": 11,
       "text": [
        "<matplotlib.axes._subplots.AxesSubplot at 0x7fcc5d49bc50>"
       ]
      },
      {
       "metadata": {},
       "output_type": "display_data",
       "png": "[encoded data removed]",
       "text": [
        "<matplotlib.figure.Figure at 0x7fcc5db72810>"
       ]
      }
     ],
     "prompt_number": 11
    },
    {
     "cell_type": "code",
     "collapsed": false,
     "input": [
      "matplotlib.rcParams['figure.figsize'] = (5.0, 5.0)\n",
      "align6['Align_Exon'].value_counts().plot(kind='barh')"
     ],
     "language": "python",
     "metadata": {},
     "outputs": [
      {
       "metadata": {},
       "output_type": "pyout",
       "prompt_number": 12,
       "text": [
        "<matplotlib.axes._subplots.AxesSubplot at 0x7fcc5d4b9910>"
       ]
      },
      {
       "metadata": {},
       "output_type": "display_data",
       "png": "[encoded data removed]",
       "text": [
        "<matplotlib.figure.Figure at 0x7fcc5d4c5810>"
       ]
      }
     ],
     "prompt_number": 12
    },
    {
     "cell_type": "code",
     "collapsed": false,
     "input": [
      "matplotlib.rcParams['figure.figsize'] = (5.0, 5.0)\n",
      "align9['Align_Exon'].value_counts().plot(kind='barh')"
     ],
     "language": "python",
     "metadata": {},
     "outputs": [
      {
       "metadata": {},
       "output_type": "pyout",
       "prompt_number": 13,
       "text": [
        "<matplotlib.axes._subplots.AxesSubplot at 0x7fcc5d4d2090>"
       ]
      },
      {
       "metadata": {},
       "output_type": "display_data",
       "png": "[encoded data removed]",
       "text": [
        "<matplotlib.figure.Figure at 0x7fcc937b24d0>"
       ]
      }
     ],
     "prompt_number": 13
    },
    {
     "cell_type": "code",
     "collapsed": false,
     "input": [
      "align4['exon6']=align6['Align_Exon']\n",
      "align4['exon9']=align9['Align_Exon']\n",
      "align4['isoform']=align4['Align_Exon']+'.'+align4['exon6']+'.'+align4['exon9']"
     ],
     "language": "python",
     "metadata": {},
     "outputs": [],
     "prompt_number": 14
    },
    {
     "cell_type": "code",
     "collapsed": false,
     "input": [
      "align4.ix['ch118_file69_twodirections']"
     ],
     "language": "python",
     "metadata": {},
     "outputs": [
      {
       "metadata": {},
       "output_type": "pyout",
       "prompt_number": 15,
       "text": [
        "Align_Exon                                                  4.1\n",
        "Start                                                         1\n",
        "CIGAR                                49H12M1I110M1D5M2D28M1592H\n",
        "Read          TGGTTGCCCAGAGATTACGAGGCGGATGTTAACAAGGAGCACGTTA...\n",
        "Mismatches                                               NM:i:9\n",
        "Score                                                       138\n",
        "Length                                                      156\n",
        "exon6                                                      6.46\n",
        "exon9                                                      9.30\n",
        "isoform                                           4.1.6.46.9.30\n",
        "Name: ch118_file69_twodirections, dtype: object"
       ]
      }
     ],
     "prompt_number": 15
    },
    {
     "cell_type": "code",
     "collapsed": false,
     "input": [
      "s=pd.DataFrame(align4['isoform'].value_counts())\n",
      "s.to_csv('SpikeIns_Isoform_Alignments.csv',sep='\\t')"
     ],
     "language": "python",
     "metadata": {},
     "outputs": [],
     "prompt_number": 16
    },
    {
     "cell_type": "code",
     "collapsed": false,
     "input": [
      "s"
     ],
     "language": "python",
     "metadata": {},
     "outputs": [
      {
       "html": [
        "<div style=\"max-height:1000px;max-width:1500px;overflow:auto;\">\n",
        "<table border=\"1\" class=\"dataframe\">\n",
        "  <thead>\n",
        "    <tr style=\"text-align: right;\">\n",
        "      <th></th>\n",
        "      <th>0</th>\n",
        "    </tr>\n",
        "  </thead>\n",
        "  <tbody>\n",
        "    <tr>\n",
        "      <th>4.5.6.4.9.4</th>\n",
        "      <td> 3840</td>\n",
        "    </tr>\n",
        "    <tr>\n",
        "      <th>4.1.6.46.9.30</th>\n",
        "      <td> 2512</td>\n",
        "    </tr>\n",
        "    <tr>\n",
        "      <th>4.3.6.33.9.9</th>\n",
        "      <td>  779</td>\n",
        "    </tr>\n",
        "    <tr>\n",
        "      <th>4.12.6.44.9.32</th>\n",
        "      <td>  326</td>\n",
        "    </tr>\n",
        "    <tr>\n",
        "      <th>4.7.6.8.9.15</th>\n",
        "      <td>  250</td>\n",
        "    </tr>\n",
        "    <tr>\n",
        "      <th>4.2.6.32.9.31</th>\n",
        "      <td>   66</td>\n",
        "    </tr>\n",
        "    <tr>\n",
        "      <th>4.3.6.3.9.9</th>\n",
        "      <td>   11</td>\n",
        "    </tr>\n",
        "    <tr>\n",
        "      <th>4.1.6.46.9.4</th>\n",
        "      <td>    5</td>\n",
        "    </tr>\n",
        "    <tr>\n",
        "      <th>4.1.6.46.9.9</th>\n",
        "      <td>    2</td>\n",
        "    </tr>\n",
        "    <tr>\n",
        "      <th>4.2.6.32.9.30</th>\n",
        "      <td>    2</td>\n",
        "    </tr>\n",
        "    <tr>\n",
        "      <th>4.12.6.44.9.30</th>\n",
        "      <td>    1</td>\n",
        "    </tr>\n",
        "  </tbody>\n",
        "</table>\n",
        "</div>"
       ],
       "metadata": {},
       "output_type": "pyout",
       "prompt_number": 17,
       "text": [
        "                   0\n",
        "4.5.6.4.9.4     3840\n",
        "4.1.6.46.9.30   2512\n",
        "4.3.6.33.9.9     779\n",
        "4.12.6.44.9.32   326\n",
        "4.7.6.8.9.15     250\n",
        "4.2.6.32.9.31     66\n",
        "4.3.6.3.9.9       11\n",
        "4.1.6.46.9.4       5\n",
        "4.1.6.46.9.9       2\n",
        "4.2.6.32.9.30      2\n",
        "4.12.6.44.9.30     1"
       ]
      }
     ],
     "prompt_number": 17
    },
    {
     "cell_type": "code",
     "collapsed": false,
     "input": [
      "inp=s.ix[['4.8.6.7.9.25',\n",
      "      '4.2.6.32.9.31',\n",
      "      '4.3.6.33.9.9',\n",
      "      '4.12.6.44.9.32',\n",
      "      '4.7.6.8.9.15',\n",
      "      '4.5.6.4.9.4',\n",
      "      '4.1.6.46.9.30']].sum()\n",
      "ss=s.sum().values-inp.values\n",
      "#'4.2.6.32.9.31'=0\n",
      "#'4.1.6.46.9.30'=53\n",
      "#'4.3.6.33.9.9'=8\n",
      "#'4.12.6.44.9.32=10'\n",
      "#'4.7.6.8.9.15'=6\n",
      "#'4.5.6.4.9.4'=53\n",
      "#'4.8.6.7.9.25'=4\n",
      "ss=pd.DataFrame(index=['Input','Strand Switched'],data=[inp.values,ss],columns=['Isoforms'])"
     ],
     "language": "python",
     "metadata": {},
     "outputs": [],
     "prompt_number": 18
    },
    {
     "cell_type": "code",
     "collapsed": false,
     "input": [
      "matplotlib.rcParams['figure.figsize'] = (30.0, 30.0)\n",
      "figure=plt.figure()\n",
      "ax=plt.subplot2grid((25,25),(0,0),colspan=4,rowspan=4)\n",
      "a.plot(kind='barh',ax=ax)\n",
      "ax.set_title('All_Alignments', fontsize=20)\n",
      "ax.tick_params(axis='both', which='major', labelsize=14)\n",
      "\n",
      "ax=plt.subplot2grid((25,25),(0,5),colspan=4,rowspan=4)\n",
      "align4['Align_Exon'].value_counts().plot(kind='barh',ax=ax)\n",
      "ax.set_title('Exon4',fontsize=20)\n",
      "ax.tick_params(axis='both', which='major', labelsize=14)\n",
      "\n",
      "ax=plt.subplot2grid((25,25),(0,10),colspan=4,rowspan=4)\n",
      "align4['exon6'].value_counts().plot(kind='barh',ax=ax)\n",
      "ax.set_title('Exon6',fontsize=20)\n",
      "ax.tick_params(axis='both', which='major', labelsize=14)\n",
      "\n",
      "ax=plt.subplot2grid((25,25),(0,15),colspan=4,rowspan=4)\n",
      "align4['exon9'].value_counts().plot(kind='barh',ax=ax)\n",
      "ax.set_title('Exon9',fontsize=20)\n",
      "ax.tick_params(axis='both', which='major', labelsize=14)\n",
      "\n",
      "ax=plt.subplot2grid((25,25),(5,0),colspan=25,rowspan=20)\n",
      "align4['isoform'].value_counts().plot(kind='barh',ax=ax)\n",
      "ax.set_title('Isoforms',fontsize=20)\n",
      "ax.tick_params(axis='both', which='major', labelsize=14)\n",
      "ax.set_xlabel('No. of Alignments', fontsize=14)\n",
      "\n",
      "ax=plt.subplot2grid((25,25),(0,20),colspan=4,rowspan=4)\n",
      "ss.T.plot(kind='barh',ax=ax,stacked=True)\n",
      "ax.set_title('Isoforms',fontsize=20)\n",
      "ax.tick_params(axis='both', which='major', labelsize=14)"
     ],
     "language": "python",
     "metadata": {},
     "outputs": [
      {
       "metadata": {},
       "output_type": "display_data",
       "png": "[encoded data removed]",
       "text": [
        "<matplotlib.figure.Figure at 0x7fcc5d0af9d0>"
       ]
      }
     ],
     "prompt_number": 19
    },
    {
     "cell_type": "code",
     "collapsed": false,
     "input": [
      "figure.savefig('SpikeIns_20X_020415_Analysis.pdf',format='pdf',dpi=300)"
     ],
     "language": "python",
     "metadata": {},
     "outputs": [],
     "prompt_number": 20
    },
    {
     "cell_type": "code",
     "collapsed": false,
     "input": [
      "fasta='SpikeIns_020415_20X.fasta'\n",
      "rdic={}\n",
      "with open(fasta,'rb') as f1:\n",
      "    for line in f1:\n",
      "        if '>' in line:\n",
      "            idx=line.strip().replace('>','')\n",
      "        else:\n",
      "            rlen=len(line.strip())\n",
      "            rdic.update({idx:rlen})\n",
      "\n",
      "reads=pd.DataFrame.from_dict(rdic,orient='index')"
     ],
     "language": "python",
     "metadata": {},
     "outputs": [],
     "prompt_number": 35
    },
    {
     "cell_type": "code",
     "collapsed": false,
     "input": [
      "reads.reset_index(inplace=True)\n",
      "reads['id']=reads['index'].apply(lambda x: '_'.join(x.split(' ')[0].split('_')[:2]))\n",
      "reads['direction']=reads['index'].apply(lambda x: x.split(' ')[0].split('_')[-1])\n",
      "reads['Read_id']=reads['index'].apply(lambda x: x.split(' ')[0])"
     ],
     "language": "python",
     "metadata": {},
     "outputs": [],
     "prompt_number": 36
    },
    {
     "cell_type": "code",
     "collapsed": false,
     "input": [
      "reads.head()"
     ],
     "language": "python",
     "metadata": {},
     "outputs": [
      {
       "html": [
        "<div style=\"max-height:1000px;max-width:1500px;overflow:auto;\">\n",
        "<table border=\"1\" class=\"dataframe\">\n",
        "  <thead>\n",
        "    <tr style=\"text-align: right;\">\n",
        "      <th></th>\n",
        "      <th>index</th>\n",
        "      <th>0</th>\n",
        "      <th>id</th>\n",
        "      <th>direction</th>\n",
        "      <th>Read_id</th>\n",
        "    </tr>\n",
        "  </thead>\n",
        "  <tbody>\n",
        "    <tr>\n",
        "      <th>0</th>\n",
        "      <td> ch367_file69_complement SpikeIn_020415/gravele...</td>\n",
        "      <td> 1749</td>\n",
        "      <td> ch367_file69</td>\n",
        "      <td>    complement</td>\n",
        "      <td>   ch367_file69_complement</td>\n",
        "    </tr>\n",
        "    <tr>\n",
        "      <th>1</th>\n",
        "      <td> ch346_file13_complement SpikeIn_020415/gravele...</td>\n",
        "      <td>  605</td>\n",
        "      <td> ch346_file13</td>\n",
        "      <td>    complement</td>\n",
        "      <td>   ch346_file13_complement</td>\n",
        "    </tr>\n",
        "    <tr>\n",
        "      <th>2</th>\n",
        "      <td> ch47_file38_twodirections SpikeIn_020415/grave...</td>\n",
        "      <td> 1903</td>\n",
        "      <td>  ch47_file38</td>\n",
        "      <td> twodirections</td>\n",
        "      <td> ch47_file38_twodirections</td>\n",
        "    </tr>\n",
        "    <tr>\n",
        "      <th>3</th>\n",
        "      <td> ch459_file20_template SpikeIn_020415/graveley_...</td>\n",
        "      <td> 3084</td>\n",
        "      <td> ch459_file20</td>\n",
        "      <td>      template</td>\n",
        "      <td>     ch459_file20_template</td>\n",
        "    </tr>\n",
        "    <tr>\n",
        "      <th>4</th>\n",
        "      <td> ch402_file40_template SpikeIn_020415/graveley_...</td>\n",
        "      <td> 1463</td>\n",
        "      <td> ch402_file40</td>\n",
        "      <td>      template</td>\n",
        "      <td>     ch402_file40_template</td>\n",
        "    </tr>\n",
        "  </tbody>\n",
        "</table>\n",
        "</div>"
       ],
       "metadata": {},
       "output_type": "pyout",
       "prompt_number": 37,
       "text": [
        "                                               index     0            id  \\\n",
        "0  ch367_file69_complement SpikeIn_020415/gravele...  1749  ch367_file69   \n",
        "1  ch346_file13_complement SpikeIn_020415/gravele...   605  ch346_file13   \n",
        "2  ch47_file38_twodirections SpikeIn_020415/grave...  1903   ch47_file38   \n",
        "3  ch459_file20_template SpikeIn_020415/graveley_...  3084  ch459_file20   \n",
        "4  ch402_file40_template SpikeIn_020415/graveley_...  1463  ch402_file40   \n",
        "\n",
        "       direction                    Read_id  \n",
        "0     complement    ch367_file69_complement  \n",
        "1     complement    ch346_file13_complement  \n",
        "2  twodirections  ch47_file38_twodirections  \n",
        "3       template      ch459_file20_template  \n",
        "4       template      ch402_file40_template  "
       ]
      }
     ],
     "prompt_number": 37
    },
    {
     "cell_type": "code",
     "collapsed": false,
     "input": [
      "reads.set_index('Read_id',inplace=True)"
     ],
     "language": "python",
     "metadata": {},
     "outputs": [],
     "prompt_number": 38
    },
    {
     "cell_type": "code",
     "collapsed": false,
     "input": [
      "new=align4.join(reads).dropna()"
     ],
     "language": "python",
     "metadata": {},
     "outputs": [],
     "prompt_number": 39
    },
    {
     "cell_type": "code",
     "collapsed": false,
     "input": [
      "new.head()"
     ],
     "language": "python",
     "metadata": {},
     "outputs": [
      {
       "html": [
        "<div style=\"max-height:1000px;max-width:1500px;overflow:auto;\">\n",
        "<table border=\"1\" class=\"dataframe\">\n",
        "  <thead>\n",
        "    <tr style=\"text-align: right;\">\n",
        "      <th></th>\n",
        "      <th>Align_Exon</th>\n",
        "      <th>Start</th>\n",
        "      <th>CIGAR</th>\n",
        "      <th>Read</th>\n",
        "      <th>Mismatches</th>\n",
        "      <th>Score</th>\n",
        "      <th>Length</th>\n",
        "      <th>exon6</th>\n",
        "      <th>exon9</th>\n",
        "      <th>isoform</th>\n",
        "      <th>index</th>\n",
        "      <th>0</th>\n",
        "      <th>id</th>\n",
        "      <th>direction</th>\n",
        "    </tr>\n",
        "    <tr>\n",
        "      <th>Read_id</th>\n",
        "      <th></th>\n",
        "      <th></th>\n",
        "      <th></th>\n",
        "      <th></th>\n",
        "      <th></th>\n",
        "      <th></th>\n",
        "      <th></th>\n",
        "      <th></th>\n",
        "      <th></th>\n",
        "      <th></th>\n",
        "      <th></th>\n",
        "      <th></th>\n",
        "      <th></th>\n",
        "      <th></th>\n",
        "    </tr>\n",
        "  </thead>\n",
        "  <tbody>\n",
        "    <tr>\n",
        "      <th>ch9_file9_twodirections</th>\n",
        "      <td> 4.5</td>\n",
        "      <td> 12</td>\n",
        "      <td> 33H14M1I8M5I4M1I6M1I1M1I5M1D8M1I12M1I15M2D7M2D...</td>\n",
        "      <td> TATTACGAGGCTGAAGGCTGTTTACGCCCCCAGGTTCGTATCATCT...</td>\n",
        "      <td> NM:i:43</td>\n",
        "      <td>  64</td>\n",
        "      <td> 157</td>\n",
        "      <td>  6.4</td>\n",
        "      <td>  9.4</td>\n",
        "      <td>   4.5.6.4.9.4</td>\n",
        "      <td> ch9_file9_twodirections SpikeIn_020415/gravele...</td>\n",
        "      <td> 1751</td>\n",
        "      <td>  ch9_file9</td>\n",
        "      <td> twodirections</td>\n",
        "    </tr>\n",
        "    <tr>\n",
        "      <th>ch9_file9_complement</th>\n",
        "      <td> 4.5</td>\n",
        "      <td>  1</td>\n",
        "      <td> 21H14M2I14M2I8M2I3M1D3M1D3M1D1M1D7M2D10M1I7M1D...</td>\n",
        "      <td> TCGTGAATCATTATATTACGAGGCTGAGGCGGTGTTTACGCCAGTC...</td>\n",
        "      <td> NM:i:49</td>\n",
        "      <td>  49</td>\n",
        "      <td> 145</td>\n",
        "      <td>  6.4</td>\n",
        "      <td>  9.4</td>\n",
        "      <td>   4.5.6.4.9.4</td>\n",
        "      <td> ch9_file9_complement SpikeIn_020415/graveley_H...</td>\n",
        "      <td> 1718</td>\n",
        "      <td>  ch9_file9</td>\n",
        "      <td>    complement</td>\n",
        "    </tr>\n",
        "    <tr>\n",
        "      <th>ch9_file8_twodirections</th>\n",
        "      <td> 4.1</td>\n",
        "      <td>  2</td>\n",
        "      <td> 47H10M2I9M1D22M1D8M1I10M1D1M1D5M1D19M1I9M1D8M1...</td>\n",
        "      <td> GGCTGCCCAGAGTACTACGAGCGGATGTTAACAAGGAGCACGTATA...</td>\n",
        "      <td> NM:i:22</td>\n",
        "      <td> 114</td>\n",
        "      <td> 166</td>\n",
        "      <td> 6.46</td>\n",
        "      <td> 9.30</td>\n",
        "      <td> 4.1.6.46.9.30</td>\n",
        "      <td> ch9_file8_twodirections SpikeIn_020415/gravele...</td>\n",
        "      <td> 1852</td>\n",
        "      <td>  ch9_file8</td>\n",
        "      <td> twodirections</td>\n",
        "    </tr>\n",
        "    <tr>\n",
        "      <th>ch9_file8_template</th>\n",
        "      <td> 4.1</td>\n",
        "      <td>  3</td>\n",
        "      <td> 41H28M1I6M1D8M1I3M3D3M2D1M1D6M2D5M1D3M1D12M1D8...</td>\n",
        "      <td> GTTGCCCAGTACTACGCTTGGTTTATCAGACAAGGTTACGTTACTA...</td>\n",
        "      <td> NM:i:53</td>\n",
        "      <td>  41</td>\n",
        "      <td> 139</td>\n",
        "      <td> 6.46</td>\n",
        "      <td> 9.30</td>\n",
        "      <td> 4.1.6.46.9.30</td>\n",
        "      <td> ch9_file8_template SpikeIn_020415/graveley_HP_...</td>\n",
        "      <td> 1638</td>\n",
        "      <td>  ch9_file8</td>\n",
        "      <td>      template</td>\n",
        "    </tr>\n",
        "    <tr>\n",
        "      <th>ch97_file9_twodirections</th>\n",
        "      <td> 4.1</td>\n",
        "      <td>  5</td>\n",
        "      <td>   45H41M2D3M1D13M2D4M1D36M4D4M2D6M1I18M1I21M1631H</td>\n",
        "      <td> TGCCGAGTACTACGAGGCGGATGTTAACAAGGAGCACGTTAAGAGC...</td>\n",
        "      <td> NM:i:20</td>\n",
        "      <td> 112</td>\n",
        "      <td> 148</td>\n",
        "      <td> 6.46</td>\n",
        "      <td> 9.30</td>\n",
        "      <td> 4.1.6.46.9.30</td>\n",
        "      <td> ch97_file9_twodirections SpikeIn_020415/gravel...</td>\n",
        "      <td> 1824</td>\n",
        "      <td> ch97_file9</td>\n",
        "      <td> twodirections</td>\n",
        "    </tr>\n",
        "  </tbody>\n",
        "</table>\n",
        "</div>"
       ],
       "metadata": {},
       "output_type": "pyout",
       "prompt_number": 40,
       "text": [
        "                         Align_Exon  Start  \\\n",
        "Read_id                                      \n",
        "ch9_file9_twodirections         4.5     12   \n",
        "ch9_file9_complement            4.5      1   \n",
        "ch9_file8_twodirections         4.1      2   \n",
        "ch9_file8_template              4.1      3   \n",
        "ch97_file9_twodirections        4.1      5   \n",
        "\n",
        "                                                                      CIGAR  \\\n",
        "Read_id                                                                       \n",
        "ch9_file9_twodirections   33H14M1I8M5I4M1I6M1I1M1I5M1D8M1I12M1I15M2D7M2D...   \n",
        "ch9_file9_complement      21H14M2I14M2I8M2I3M1D3M1D3M1D1M1D7M2D10M1I7M1D...   \n",
        "ch9_file8_twodirections   47H10M2I9M1D22M1D8M1I10M1D1M1D5M1D19M1I9M1D8M1...   \n",
        "ch9_file8_template        41H28M1I6M1D8M1I3M3D3M2D1M1D6M2D5M1D3M1D12M1D8...   \n",
        "ch97_file9_twodirections    45H41M2D3M1D13M2D4M1D36M4D4M2D6M1I18M1I21M1631H   \n",
        "\n",
        "                                                                       Read  \\\n",
        "Read_id                                                                       \n",
        "ch9_file9_twodirections   TATTACGAGGCTGAAGGCTGTTTACGCCCCCAGGTTCGTATCATCT...   \n",
        "ch9_file9_complement      TCGTGAATCATTATATTACGAGGCTGAGGCGGTGTTTACGCCAGTC...   \n",
        "ch9_file8_twodirections   GGCTGCCCAGAGTACTACGAGCGGATGTTAACAAGGAGCACGTATA...   \n",
        "ch9_file8_template        GTTGCCCAGTACTACGCTTGGTTTATCAGACAAGGTTACGTTACTA...   \n",
        "ch97_file9_twodirections  TGCCGAGTACTACGAGGCGGATGTTAACAAGGAGCACGTTAAGAGC...   \n",
        "\n",
        "                         Mismatches  Score  Length exon6 exon9        isoform  \\\n",
        "Read_id                                                                         \n",
        "ch9_file9_twodirections     NM:i:43     64     157   6.4   9.4    4.5.6.4.9.4   \n",
        "ch9_file9_complement        NM:i:49     49     145   6.4   9.4    4.5.6.4.9.4   \n",
        "ch9_file8_twodirections     NM:i:22    114     166  6.46  9.30  4.1.6.46.9.30   \n",
        "ch9_file8_template          NM:i:53     41     139  6.46  9.30  4.1.6.46.9.30   \n",
        "ch97_file9_twodirections    NM:i:20    112     148  6.46  9.30  4.1.6.46.9.30   \n",
        "\n",
        "                                                                      index  \\\n",
        "Read_id                                                                       \n",
        "ch9_file9_twodirections   ch9_file9_twodirections SpikeIn_020415/gravele...   \n",
        "ch9_file9_complement      ch9_file9_complement SpikeIn_020415/graveley_H...   \n",
        "ch9_file8_twodirections   ch9_file8_twodirections SpikeIn_020415/gravele...   \n",
        "ch9_file8_template        ch9_file8_template SpikeIn_020415/graveley_HP_...   \n",
        "ch97_file9_twodirections  ch97_file9_twodirections SpikeIn_020415/gravel...   \n",
        "\n",
        "                             0          id      direction  \n",
        "Read_id                                                    \n",
        "ch9_file9_twodirections   1751   ch9_file9  twodirections  \n",
        "ch9_file9_complement      1718   ch9_file9     complement  \n",
        "ch9_file8_twodirections   1852   ch9_file8  twodirections  \n",
        "ch9_file8_template        1638   ch9_file8       template  \n",
        "ch97_file9_twodirections  1824  ch97_file9  twodirections  "
       ]
      }
     ],
     "prompt_number": 40
    },
    {
     "cell_type": "code",
     "collapsed": false,
     "input": [
      "matplotlib.rcParams['figure.figsize'] = (5.0, 5.0)\n",
      "figure=plt.figure()\n",
      "ax=figure.add_subplot(111)\n",
      "reads.plot(kind='hist',bins=np.arange(0,5000,100),ax=ax)\n",
      "ax.set_title('Read_Lengths', fontsize=20)\n",
      "ax.tick_params(axis='both', which='major', labelsize=14)\n",
      "ax.set_ylabel('Reads',fontsize=16)\n",
      "ax.set_xlabel('Length',fontsize=16)"
     ],
     "language": "python",
     "metadata": {},
     "outputs": [
      {
       "metadata": {},
       "output_type": "pyout",
       "prompt_number": 27,
       "text": [
        "<matplotlib.text.Text at 0x7fcc5db5dd10>"
       ]
      },
      {
       "metadata": {},
       "output_type": "display_data",
       "png": "[encoded data removed]",
       "text": [
        "<matplotlib.figure.Figure at 0x7fcc5acdadd0>"
       ]
      }
     ],
     "prompt_number": 27
    },
    {
     "cell_type": "code",
     "collapsed": false,
     "input": [
      "figure.savefig('SpikeIns_20X_020415_Read_Lengths.pdf',format='pdf',dpi=300)"
     ],
     "language": "python",
     "metadata": {},
     "outputs": [],
     "prompt_number": 28
    },
    {
     "cell_type": "code",
     "collapsed": false,
     "input": [
      "g = seaborn.FacetGrid(reads, col=\"direction\")\n",
      "g.map(plt.hist, 0, bins=np.arange(0,5000,100))\n",
      "g.set_xlabels('Read Length')"
     ],
     "language": "python",
     "metadata": {},
     "outputs": [
      {
       "metadata": {},
       "output_type": "pyout",
       "prompt_number": 160,
       "text": [
        "<seaborn.axisgrid.FacetGrid at 0x7fcc506cc610>"
       ]
      },
      {
       "metadata": {},
       "output_type": "display_data",
       "png": "[encoded data removed]",
       "text": [
        "<matplotlib.figure.Figure at 0x7fcc506cc9d0>"
       ]
      }
     ],
     "prompt_number": 160
    },
    {
     "cell_type": "code",
     "collapsed": false,
     "input": [
      "gr=new.groupby('direction')['isoform'].value_counts().unstack()"
     ],
     "language": "python",
     "metadata": {},
     "outputs": [],
     "prompt_number": 134
    },
    {
     "cell_type": "code",
     "collapsed": false,
     "input": [
      "norm_gr=gr.div(gr.sum(axis=1), axis=0)"
     ],
     "language": "python",
     "metadata": {},
     "outputs": [],
     "prompt_number": 135
    },
    {
     "cell_type": "code",
     "collapsed": false,
     "input": [
      "matplotlib.rcParams['figure.figsize'] = (10.0, 10.0)\n",
      "fig=plt.figure()\n",
      "ax=plt.subplot2grid((2,2),(0,0),rowspan=1,colspan=1)\n",
      "norm_gr.T.plot(kind='barh',ax=ax)\n",
      "plt.xlabel('Fraction Aligned by Read Type')\n",
      "plt.ylabel('Isoform')\n",
      "ax=plt.subplot2grid((2,2),(0,1),rowspan=1,colspan=1)\n",
      "gr.T.sum().plot(kind='bar')\n",
      "plt.ylabel('Reads')"
     ],
     "language": "python",
     "metadata": {},
     "outputs": [
      {
       "metadata": {},
       "output_type": "pyout",
       "prompt_number": 159,
       "text": [
        "<matplotlib.text.Text at 0x7fcc4b6e9fd0>"
       ]
      },
      {
       "metadata": {},
       "output_type": "display_data",
       "png": "[encoded data removed]",
       "text": [
        "<matplotlib.figure.Figure at 0x7fcc5054c690>"
       ]
      }
     ],
     "prompt_number": 159
    },
    {
     "cell_type": "code",
     "collapsed": false,
     "input": [
      "ax"
     ],
     "language": "python",
     "metadata": {},
     "outputs": [
      {
       "metadata": {},
       "output_type": "pyout",
       "prompt_number": 147,
       "text": [
        "<matplotlib.axes._subplots.AxesSubplot at 0x7fcc50753c10>"
       ]
      }
     ],
     "prompt_number": 147
    },
    {
     "cell_type": "code",
     "collapsed": false,
     "input": [],
     "language": "python",
     "metadata": {},
     "outputs": []
    }
   ],
   "metadata": {}
  }
 ]
}