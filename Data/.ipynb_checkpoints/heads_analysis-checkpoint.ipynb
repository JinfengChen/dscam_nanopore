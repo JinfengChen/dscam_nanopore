{
 "metadata": {
  "name": "",
  "signature": "sha256:572df420e13efd9e70cebc278285d65070eacbac3be13f667e2ff6317bd485d5"
 },
 "nbformat": 3,
 "nbformat_minor": 0,
 "worksheets": [
  {
   "cells": [
    {
     "cell_type": "code",
     "collapsed": false,
     "input": [
      "%%bash\n",
      "#Poretools\n",
      "poretools fasta /home/mohanb/Documents/Post-Doc/Graveley_Lab/OxfordNanopore/downloads_dscam_heads_0301515/*.fast5 > dscam_heads_031515.fasta"
     ],
     "language": "python",
     "metadata": {},
     "outputs": [],
     "prompt_number": 1
    },
    {
     "cell_type": "code",
     "collapsed": false,
     "input": [
      "%%bash\n",
      "#LASTDB\n",
      "lastdb Dscam_exon4.last Dscam_exon4.fasta\n",
      "lastdb Dscam_exon6.last Dscam_exon6.fasta\n",
      "lastdb Dscam_exon9.last Dscam_exon9.fasta"
     ],
     "language": "python",
     "metadata": {},
     "outputs": []
    },
    {
     "cell_type": "code",
     "collapsed": false,
     "input": [
      "%%bash\n",
      "#LASTAL\n",
      "#lastal DSCAM_EXONS_LASTDB/Dscam_exon4.last SpikeIns_020415_20X.fasta > Spikeins_alignments_exon4_DEFAULTS\n",
      "#lastal DSCAM_EXONS_LASTDB/Dscam_exon6.last SpikeIns_020415_20X.fasta > Spikeins_alignments_exon6_DEFAULTS\n",
      "#lastal DSCAM_EXONS_LASTDB/Dscam_exon9.last SpikeIns_020415_20X.fasta > Spikeins_alignments_exon9_DEFAULTS\n",
      "\n",
      "lastal -s 2 -T 0 -Q 0 -a 1 DSCAM_EXONS_LASTDB/Dscam_exon4.last dscam_heads_031115_ALL.fasta > dscam_heads_031115_exon4.maf\n",
      "lastal -s 2 -T 0 -Q 0 -a 1 DSCAM_EXONS_LASTDB/Dscam_exon6.last dscam_heads_031115_ALL.fasta > dscam_heads_031115_exon6.maf\n",
      "lastal -s 2 -T 0 -Q 0 -a 1 DSCAM_EXONS_LASTDB/Dscam_exon9.last dscam_heads_031115_ALL.fasta > dscam_heads_031115_exon9.maf\n"
     ],
     "language": "python",
     "metadata": {},
     "outputs": [],
     "prompt_number": 2
    },
    {
     "cell_type": "code",
     "collapsed": false,
     "input": [
      "%%bash\n",
      "#maf-convert\n",
      "maf-convert.py SAM dscam_heads_031115_exon4.maf > dscam_heads_031115_exon4.sam\n",
      "maf-convert.py SAM dscam_heads_031115_exon6.maf > dscam_heads_031115_exon6.sam\n",
      "maf-convert.py SAM dscam_heads_031115_exon9.maf > dscam_heads_031115_exon9.sam\n",
      "\n",
      "maf-convert.py PSL dscam_heads_031115_exon4.maf > dscam_heads_031115_exon4.psl\n",
      "maf-convert.py PSL dscam_heads_031115_exon6.maf > dscam_heads_031115_exon6.psl\n",
      "maf-convert.py PSL dscam_heads_031115_exon9.maf > dscam_heads_031115_exon9.psl"
     ],
     "language": "python",
     "metadata": {},
     "outputs": [],
     "prompt_number": 4
    },
    {
     "cell_type": "code",
     "collapsed": false,
     "input": [
      "%%bash\n",
      "#mv files\n",
      "mv *.sam SAM/\n",
      "mv *.maf LAST_ALIGNMENTS/\n",
      "mv *.psl PSL/"
     ],
     "language": "python",
     "metadata": {},
     "outputs": [],
     "prompt_number": 5
    },
    {
     "cell_type": "code",
     "collapsed": false,
     "input": [
      "%matplotlib inline\n",
      "import pandas as pd\n",
      "import numpy as np\n",
      "import matplotlib\n",
      "import matplotlib.pyplot as plt\n",
      "from matplotlib.backends.backend_pdf import PdfPages\n",
      "import scipy.stats as stats\n",
      "import scipy.cluster.hierarchy as sch\n",
      "from operator import *\n",
      "pd.core.config.option_context('mode.use_inf_as_null',True)\n",
      "import seaborn\n",
      "rcdefsns = plt.rcParams.copy()\n",
      "import brewer2mpl"
     ],
     "language": "python",
     "metadata": {},
     "outputs": [
      {
       "output_type": "stream",
       "stream": "stderr",
       "text": [
        "/usr/lib/python2.7/dist-packages/pkg_resources.py:1031: UserWarning: /home/mohanb/.python-eggs is writable by group/others and vulnerable to attack when used with get_resource_filename. Consider a more secure location (set with .set_extraction_path or the PYTHON_EGG_CACHE environment variable).\n",
        "  warnings.warn(msg, UserWarning)\n"
       ]
      }
     ],
     "prompt_number": 1
    },
    {
     "cell_type": "code",
     "collapsed": false,
     "input": [
      "align4=pd.read_table('SAM/dscam_heads_031115_exon4.sam',index_col=False,names=['Read_id','Flag','Align_Exon','Start','B','CIGAR','A','P','P2','Read','A2','Mismatches','Score'], skiprows=1)\n",
      "align6=pd.read_table('SAM/dscam_heads_031115_exon6.sam',index_col=False,names=['Read_id','Flag','Align_Exon','Start','B','CIGAR','A','P','P2','Read','A2','Mismatches','Score'], skiprows=1)\n",
      "align9=pd.read_table('SAM/dscam_heads_031115_exon9.sam',index_col=False,names=['Read_id','Flag','Align_Exon','Start','B','CIGAR','A','P','P2','Read','A2','Mismatches','Score'], skiprows=1)"
     ],
     "language": "python",
     "metadata": {},
     "outputs": [],
     "prompt_number": 2
    },
    {
     "cell_type": "code",
     "collapsed": false,
     "input": [
      "align4.head()"
     ],
     "language": "python",
     "metadata": {},
     "outputs": [
      {
       "html": [
        "<div style=\"max-height:1000px;max-width:1500px;overflow:auto;\">\n",
        "<table border=\"1\" class=\"dataframe\">\n",
        "  <thead>\n",
        "    <tr style=\"text-align: right;\">\n",
        "      <th></th>\n",
        "      <th>Read_id</th>\n",
        "      <th>Flag</th>\n",
        "      <th>Align_Exon</th>\n",
        "      <th>Start</th>\n",
        "      <th>B</th>\n",
        "      <th>CIGAR</th>\n",
        "      <th>A</th>\n",
        "      <th>P</th>\n",
        "      <th>P2</th>\n",
        "      <th>Read</th>\n",
        "      <th>A2</th>\n",
        "      <th>Mismatches</th>\n",
        "      <th>Score</th>\n",
        "    </tr>\n",
        "  </thead>\n",
        "  <tbody>\n",
        "    <tr>\n",
        "      <th>0</th>\n",
        "      <td> ch102_file12_twodirections</td>\n",
        "      <td>  0</td>\n",
        "      <td> exon_4.2</td>\n",
        "      <td>  1</td>\n",
        "      <td> 255</td>\n",
        "      <td> 88H9M3I1M1I28M5I10M1I11M3D16M1I1M1I36M3I18M2D2...</td>\n",
        "      <td> *</td>\n",
        "      <td> 0</td>\n",
        "      <td> 0</td>\n",
        "      <td> TCGTTTCCCGGGACACACTACGAAGAAGGTATACACAAGGCAGTTG...</td>\n",
        "      <td> *</td>\n",
        "      <td> NM:i:22</td>\n",
        "      <td> AS:i:124</td>\n",
        "    </tr>\n",
        "    <tr>\n",
        "      <th>1</th>\n",
        "      <td> ch102_file12_twodirections</td>\n",
        "      <td>  0</td>\n",
        "      <td> exon_4.3</td>\n",
        "      <td>  1</td>\n",
        "      <td> 255</td>\n",
        "      <td> 88H9M3I1M1I28M1I1M2I2M2I7M1I10M2D5M1D10M1I7M1I...</td>\n",
        "      <td> *</td>\n",
        "      <td> 0</td>\n",
        "      <td> 0</td>\n",
        "      <td> TCGTTTCCCGGGACACACTACGAAGAAGGTATACACAAGGCAGTTG...</td>\n",
        "      <td> *</td>\n",
        "      <td> NM:i:54</td>\n",
        "      <td>  AS:i:53</td>\n",
        "    </tr>\n",
        "    <tr>\n",
        "      <th>2</th>\n",
        "      <td>      ch102_file10_template</td>\n",
        "      <td> 16</td>\n",
        "      <td> exon_4.5</td>\n",
        "      <td> 18</td>\n",
        "      <td> 255</td>\n",
        "      <td> 72H11M1D3M1D3M2D6M1D2M1D11M1D5M2I22M1D3M1D6M1D...</td>\n",
        "      <td> *</td>\n",
        "      <td> 0</td>\n",
        "      <td> 0</td>\n",
        "      <td> GAGGCTGGGGTGTTCCGTACGTCTCGTGGCAATACGCTCTAGTTTG...</td>\n",
        "      <td> *</td>\n",
        "      <td> NM:i:31</td>\n",
        "      <td>  AS:i:68</td>\n",
        "    </tr>\n",
        "    <tr>\n",
        "      <th>3</th>\n",
        "      <td>    ch102_file12_complement</td>\n",
        "      <td> 16</td>\n",
        "      <td> exon_4.2</td>\n",
        "      <td>  3</td>\n",
        "      <td> 255</td>\n",
        "      <td> 109H8M1I10M1I12M2I4M1D5M2D15M3D4M1I6M1I6M1D2M1...</td>\n",
        "      <td> *</td>\n",
        "      <td> 0</td>\n",
        "      <td> 0</td>\n",
        "      <td> GTCTCCCGGACACTACGAAAGAAGGTATACAATTAAGGATATGAGC...</td>\n",
        "      <td> *</td>\n",
        "      <td> NM:i:46</td>\n",
        "      <td>  AS:i:63</td>\n",
        "    </tr>\n",
        "    <tr>\n",
        "      <th>4</th>\n",
        "      <td>      ch102_file12_template</td>\n",
        "      <td>  0</td>\n",
        "      <td> exon_4.2</td>\n",
        "      <td>  1</td>\n",
        "      <td> 255</td>\n",
        "      <td> 66H8M1D3M1D14M1D5M1D4M1I20M1D1M4D10M1D6M3I13M1...</td>\n",
        "      <td> *</td>\n",
        "      <td> 0</td>\n",
        "      <td> 0</td>\n",
        "      <td> TCGTTTCTAGCCTACGAAGAAAATAACACAGGCAGTTTGTCATCCG...</td>\n",
        "      <td> *</td>\n",
        "      <td> NM:i:30</td>\n",
        "      <td>  AS:i:86</td>\n",
        "    </tr>\n",
        "  </tbody>\n",
        "</table>\n",
        "</div>"
       ],
       "metadata": {},
       "output_type": "pyout",
       "prompt_number": 3,
       "text": [
        "                      Read_id  Flag Align_Exon  Start    B  \\\n",
        "0  ch102_file12_twodirections     0   exon_4.2      1  255   \n",
        "1  ch102_file12_twodirections     0   exon_4.3      1  255   \n",
        "2       ch102_file10_template    16   exon_4.5     18  255   \n",
        "3     ch102_file12_complement    16   exon_4.2      3  255   \n",
        "4       ch102_file12_template     0   exon_4.2      1  255   \n",
        "\n",
        "                                               CIGAR  A  P  P2  \\\n",
        "0  88H9M3I1M1I28M5I10M1I11M3D16M1I1M1I36M3I18M2D2...  *  0   0   \n",
        "1  88H9M3I1M1I28M1I1M2I2M2I7M1I10M2D5M1D10M1I7M1I...  *  0   0   \n",
        "2  72H11M1D3M1D3M2D6M1D2M1D11M1D5M2I22M1D3M1D6M1D...  *  0   0   \n",
        "3  109H8M1I10M1I12M2I4M1D5M2D15M3D4M1I6M1I6M1D2M1...  *  0   0   \n",
        "4  66H8M1D3M1D14M1D5M1D4M1I20M1D1M4D10M1D6M3I13M1...  *  0   0   \n",
        "\n",
        "                                                Read A2 Mismatches     Score  \n",
        "0  TCGTTTCCCGGGACACACTACGAAGAAGGTATACACAAGGCAGTTG...  *    NM:i:22  AS:i:124  \n",
        "1  TCGTTTCCCGGGACACACTACGAAGAAGGTATACACAAGGCAGTTG...  *    NM:i:54   AS:i:53  \n",
        "2  GAGGCTGGGGTGTTCCGTACGTCTCGTGGCAATACGCTCTAGTTTG...  *    NM:i:31   AS:i:68  \n",
        "3  GTCTCCCGGACACTACGAAAGAAGGTATACAATTAAGGATATGAGC...  *    NM:i:46   AS:i:63  \n",
        "4  TCGTTTCTAGCCTACGAAGAAAATAACACAGGCAGTTTGTCATCCG...  *    NM:i:30   AS:i:86  "
       ]
      }
     ],
     "prompt_number": 3
    },
    {
     "cell_type": "code",
     "collapsed": false,
     "input": [
      "align4.drop(['Flag','B','A','P','P2','A2'],axis=1,inplace=True)\n",
      "align6.drop(['Flag','B','A','P','P2','A2'],axis=1,inplace=True)\n",
      "align9.drop(['Flag','B','A','P','P2','A2'],axis=1,inplace=True)\n",
      "print len(align4),len(align6),len(align9)"
     ],
     "language": "python",
     "metadata": {},
     "outputs": [
      {
       "output_type": "stream",
       "stream": "stdout",
       "text": [
        "47835 26919 79219\n"
       ]
      }
     ],
     "prompt_number": 4
    },
    {
     "cell_type": "code",
     "collapsed": false,
     "input": [
      "#Use for Unique alignments\n",
      "count_appkey = align4.groupby('Read_id')['Read_id'].transform('count')\n",
      "align4=align4[count_appkey==1]\n",
      "count_appkey = align6.groupby('Read_id')['Read_id'].transform('count')\n",
      "align6=align6[count_appkey==1]\n",
      "count_appkey = align9.groupby('Read_id')['Read_id'].transform('count')\n",
      "align9=align9[count_appkey==1]\n",
      "print len(align4),len(align6),len(align9)"
     ],
     "language": "python",
     "metadata": {},
     "outputs": [
      {
       "output_type": "stream",
       "stream": "stdout",
       "text": [
        "5593 4805 5011\n"
       ]
      }
     ],
     "prompt_number": 27
    },
    {
     "cell_type": "code",
     "collapsed": false,
     "input": [
      "align4['Align_Exon']=align4['Align_Exon'].apply(lambda x:x.replace('exon_',''))\n",
      "align6['Align_Exon']=align6['Align_Exon'].apply(lambda x:x.replace('exon_',''))\n",
      "align9['Align_Exon']=align9['Align_Exon'].apply(lambda x:x.replace('exon_',''))\n",
      "align4['Score']=align4['Score'].apply(lambda x:int(x.split(':')[-1]))\n",
      "align6['Score']=align6['Score'].apply(lambda x:int(x.split(':')[-1]))\n",
      "align9['Score']=align9['Score'].apply(lambda x:int(x.split(':')[-1]))\n",
      "align4['Length']=align4['Read'].apply(len)\n",
      "align6['Length']=align6['Read'].apply(len)\n",
      "align9['Length']=align9['Read'].apply(len)"
     ],
     "language": "python",
     "metadata": {},
     "outputs": [],
     "prompt_number": 5
    },
    {
     "cell_type": "code",
     "collapsed": false,
     "input": [
      "align4.sort(columns=['Read_id','Score'], inplace=True, ascending=[False,False])\n",
      "align6.sort(columns=['Read_id','Score'], inplace=True, ascending=[False,False])\n",
      "align9.sort(columns=['Read_id','Score'], inplace=True, ascending=[False,False])"
     ],
     "language": "python",
     "metadata": {},
     "outputs": [],
     "prompt_number": 6
    },
    {
     "cell_type": "code",
     "collapsed": false,
     "input": [
      "#Use for alignments with score filter\n",
      "align4=align4.drop_duplicates(subset=['Read_id'])\n",
      "align6=align6.drop_duplicates(subset=['Read_id'])\n",
      "align9=align9.drop_duplicates(subset=['Read_id'])\n",
      "print len(align4),len(align6),len(align9)\n",
      "#align9[align9['Read_id'].isin(['ch322_file48_twodirections'])]"
     ],
     "language": "python",
     "metadata": {},
     "outputs": [
      {
       "output_type": "stream",
       "stream": "stdout",
       "text": [
        "31293 23413 36896\n"
       ]
      }
     ],
     "prompt_number": 7
    },
    {
     "cell_type": "code",
     "collapsed": false,
     "input": [
      "align4.set_index('Read_id',inplace=True)\n",
      "align6.set_index('Read_id',inplace=True)\n",
      "align9.set_index('Read_id',inplace=True)"
     ],
     "language": "python",
     "metadata": {},
     "outputs": [],
     "prompt_number": 8
    },
    {
     "cell_type": "code",
     "collapsed": false,
     "input": [
      "a=pd.DataFrame(data=[len(align4),len(align6),len(align9)],index=['Exon4','Exon6','Exon9'],columns=['Alignments'])"
     ],
     "language": "python",
     "metadata": {},
     "outputs": [],
     "prompt_number": 9
    },
    {
     "cell_type": "code",
     "collapsed": false,
     "input": [
      "matplotlib.rcParams['figure.figsize'] = (5.0, 5.0)\n",
      "ax=a.plot(kind='bar')\n",
      "ax.set_title('All Reads',fontsize=20)\n",
      "ax.tick_params(axis='both', which='major', labelsize=14)"
     ],
     "language": "python",
     "metadata": {},
     "outputs": [
      {
       "metadata": {},
       "output_type": "display_data",
       "png": "[encoded data removed]",
       "text": [
        "<matplotlib.figure.Figure at 0x7f406fb40e10>"
       ]
      }
     ],
     "prompt_number": 10
    },
    {
     "cell_type": "code",
     "collapsed": false,
     "input": [
      "matplotlib.rcParams['figure.figsize'] = (5.0, 5.0)\n",
      "a=align4['Align_Exon'].value_counts().plot(kind='barh')"
     ],
     "language": "python",
     "metadata": {},
     "outputs": [
      {
       "metadata": {},
       "output_type": "display_data",
       "png": "[encoded data removed]",
       "text": [
        "<matplotlib.figure.Figure at 0x7f406f7bf810>"
       ]
      }
     ],
     "prompt_number": 11
    },
    {
     "cell_type": "code",
     "collapsed": false,
     "input": [
      "a=align4['Align_Exon'].value_counts()\n",
      "a=a.reset_index()\n",
      "a.rename(columns={'index':'exon'},inplace=True)\n",
      "a['variant']=a['exon'].apply(lambda x:int(x.split('.')[1]))\n",
      "a=a.sort(columns='variant')\n",
      "#a.set_index('variant',inplace=True)"
     ],
     "language": "python",
     "metadata": {},
     "outputs": [],
     "prompt_number": 12
    },
    {
     "cell_type": "code",
     "collapsed": false,
     "input": [
      "matplotlib.rcParams['figure.figsize'] = (5.0, 5.0)\n",
      "align6['Align_Exon'].value_counts().plot(kind='barh')"
     ],
     "language": "python",
     "metadata": {},
     "outputs": [
      {
       "metadata": {},
       "output_type": "pyout",
       "prompt_number": 14,
       "text": [
        "<matplotlib.axes._subplots.AxesSubplot at 0x7f406f08df90>"
       ]
      },
      {
       "metadata": {},
       "output_type": "display_data",
       "png": "[encoded data removed]",
       "text": [
        "<matplotlib.figure.Figure at 0x7f406f89a090>"
       ]
      }
     ],
     "prompt_number": 14
    },
    {
     "cell_type": "code",
     "collapsed": false,
     "input": [
      "b=align6['Align_Exon'].value_counts()\n",
      "b=b.reset_index()\n",
      "b.loc[len(b)+1]=['6.11',0]\n",
      "b.rename(columns={'index':'exon'},inplace=True)\n",
      "b['variant']=b['exon'].apply(lambda x:int(x.split('.')[1]))\n",
      "b=b.sort(columns='variant')\n",
      "#a.set_index('variant',inplace=True)"
     ],
     "language": "python",
     "metadata": {},
     "outputs": [],
     "prompt_number": 16
    },
    {
     "cell_type": "code",
     "collapsed": false,
     "input": [
      "matplotlib.rcParams['figure.figsize'] = (5.0, 5.0)\n",
      "align9['Align_Exon'].value_counts().plot(kind='barh')"
     ],
     "language": "python",
     "metadata": {},
     "outputs": [
      {
       "metadata": {},
       "output_type": "pyout",
       "prompt_number": 18,
       "text": [
        "<matplotlib.axes._subplots.AxesSubplot at 0x7f406f02bed0>"
       ]
      },
      {
       "metadata": {},
       "output_type": "display_data",
       "png": "[encoded data removed]",
       "text": [
        "<matplotlib.figure.Figure at 0x7f406f020b10>"
       ]
      }
     ],
     "prompt_number": 18
    },
    {
     "cell_type": "code",
     "collapsed": false,
     "input": [
      "c=align9['Align_Exon'].value_counts()\n",
      "c=c.reset_index()\n",
      "c.rename(columns={'index':'exon'},inplace=True)\n",
      "c['variant']=c['exon'].apply(lambda x:int(x.split('.')[1]))\n",
      "c=c.sort(columns='variant')\n",
      "#a.set_index('variant',inplace=True)"
     ],
     "language": "python",
     "metadata": {},
     "outputs": [],
     "prompt_number": 20
    },
    {
     "cell_type": "code",
     "collapsed": false,
     "input": [
      "a=a.append(b)\n",
      "allexons=a.append(c)"
     ],
     "language": "python",
     "metadata": {},
     "outputs": [],
     "prompt_number": 21
    },
    {
     "cell_type": "code",
     "collapsed": false,
     "input": [
      "matplotlib.rcParams['figure.figsize'] = (30, 20)\n",
      "figure=plt.figure()\n",
      "ax=plt.subplot2grid((30,20),(0,0),colspan=28,rowspan=10)\n",
      "allexons[0].plot(kind='bar',ax=ax,width=0.9,align='center')\n",
      "ax.set_title('Exons', fontsize=20)\n",
      "ax.tick_params(axis='both', which='major', labelsize=14)\n",
      "ax.set_ylabel('Reads')"
     ],
     "language": "python",
     "metadata": {},
     "outputs": [
      {
       "metadata": {},
       "output_type": "pyout",
       "prompt_number": 23,
       "text": [
        "<matplotlib.text.Text at 0x7f406a086b50>"
       ]
      },
      {
       "metadata": {},
       "output_type": "display_data",
       "png": "[encoded data removed]",
       "text": [
        "<matplotlib.figure.Figure at 0x7f406f13e250>"
       ]
      }
     ],
     "prompt_number": 23
    },
    {
     "cell_type": "code",
     "collapsed": false,
     "input": [
      "figure.savefig('all.pdf',format='pdf',dpi=300)"
     ],
     "language": "python",
     "metadata": {},
     "outputs": [],
     "prompt_number": 25
    },
    {
     "cell_type": "code",
     "collapsed": false,
     "input": [
      "index=set(align4.index & align6.index & align9.index)\n",
      "all_alignments=pd.DataFrame(index=index)\n",
      "all_alignments['Exon4']=align4['Align_Exon']\n",
      "all_alignments['Exon6']=align6['Align_Exon']\n",
      "all_alignments['Exon9']=align9['Align_Exon']\n",
      "all_alignments['isoform']=all_alignments['Exon4']+'.'+all_alignments['Exon6']+'.'+all_alignments['Exon9']"
     ],
     "language": "python",
     "metadata": {},
     "outputs": [],
     "prompt_number": 24
    },
    {
     "cell_type": "code",
     "collapsed": false,
     "input": [
      "s=pd.DataFrame(all_alignments['isoform'].value_counts())\n",
      "s.rename(columns={0:'counts'},inplace=True)\n",
      "#s.to_csv('SpikeIns_Isoform_Alignments.csv',sep='\\t')"
     ],
     "language": "python",
     "metadata": {},
     "outputs": [],
     "prompt_number": 85
    },
    {
     "cell_type": "code",
     "collapsed": false,
     "input": [
      "s.sort(columns='counts',inplace=True,ascending=False)"
     ],
     "language": "python",
     "metadata": {},
     "outputs": [],
     "prompt_number": 87
    },
    {
     "cell_type": "code",
     "collapsed": false,
     "input": [
      "matplotlib.rcParams['figure.figsize'] = (5.0, 5.0)\n",
      "figure=plt.figure()\n",
      "ax=figure.add_subplot(111)\n",
      "cdf = s['counts'].cumsum(axis = 0) \n",
      "cdf.plot(lw=10)\n",
      "ax.set_title('All Alignments', fontsize=20)\n",
      "ax.tick_params(axis='both', which='major', labelsize=14)\n",
      "ax.set_ylabel('Reads',fontsize=16)\n",
      "ax.set_xlabel('Isoforms',fontsize=16)\n",
      "ax.set_xticklabels([])\n",
      "ax.legend([])"
     ],
     "language": "python",
     "metadata": {},
     "outputs": [
      {
       "metadata": {},
       "output_type": "pyout",
       "prompt_number": 88,
       "text": [
        "<matplotlib.legend.Legend at 0x7f40696d06d0>"
       ]
      },
      {
       "metadata": {},
       "output_type": "display_data",
       "png": "[encoded data removed]",
       "text": [
        "<matplotlib.figure.Figure at 0x7f4036b3b910>"
       ]
      }
     ],
     "prompt_number": 88
    },
    {
     "cell_type": "code",
     "collapsed": false,
     "input": [
      "figure.savefig('cdf.pdf',format='pdf',dpi=300)"
     ],
     "language": "python",
     "metadata": {},
     "outputs": [],
     "prompt_number": 115
    },
    {
     "cell_type": "code",
     "collapsed": false,
     "input": [
      "total_isoforms=19008-len(s)\n",
      "total_observed=len(s)-len(s[s[0]==1])\n",
      "total_unique=len(s[s[0]==1])"
     ],
     "language": "python",
     "metadata": {},
     "outputs": [],
     "prompt_number": 47
    },
    {
     "cell_type": "code",
     "collapsed": false,
     "input": [
      "m=pd.DataFrame(data=[total_isoforms,total_observed,total_unique],index=['All Possible','>1 Read','1 Read'],columns=['Reads'])"
     ],
     "language": "python",
     "metadata": {},
     "outputs": [],
     "prompt_number": 85
    },
    {
     "cell_type": "code",
     "collapsed": false,
     "input": [
      "matplotlib.rcParams['figure.figsize'] = (5.0, 5.0)\n",
      "figure=plt.figure()\n",
      "ax=figure.add_subplot(111)\n",
      "m[::-1].T.plot(kind='bar',stacked=True,color=['b','g','gray'],alpha=0.5,ax=ax)\n",
      "ax.set_title('Observed Isoforms', fontsize=20)\n",
      "ax.tick_params(axis='both', which='major', labelsize=14)\n",
      "ax.set_ylabel('Isoforms (12 x 48 x 33)',fontsize=16)\n",
      "ax.set_xlabel('Drosophila Heads',fontsize=16)\n",
      "ax.set_xticklabels([])\n",
      "ax.legend([])"
     ],
     "language": "python",
     "metadata": {},
     "outputs": [
      {
       "metadata": {},
       "output_type": "pyout",
       "prompt_number": 92,
       "text": [
        "<matplotlib.legend.Legend at 0x7f8b4fb95d10>"
       ]
      },
      {
       "metadata": {},
       "output_type": "display_data",
       "png": "[encoded data removed]",
       "text": [
        "<matplotlib.figure.Figure at 0x7f8b4fca4110>"
       ]
      }
     ],
     "prompt_number": 92
    },
    {
     "cell_type": "code",
     "collapsed": false,
     "input": [
      "figure.savefig('Isoforms.pdf',format='pdf',dpi=300)"
     ],
     "language": "python",
     "metadata": {},
     "outputs": [],
     "prompt_number": 93
    },
    {
     "cell_type": "code",
     "collapsed": false,
     "input": [
      "m"
     ],
     "language": "python",
     "metadata": {},
     "outputs": [
      {
       "html": [
        "<div style=\"max-height:1000px;max-width:1500px;overflow:auto;\">\n",
        "<table border=\"1\" class=\"dataframe\">\n",
        "  <thead>\n",
        "    <tr style=\"text-align: right;\">\n",
        "      <th></th>\n",
        "      <th>Reads</th>\n",
        "    </tr>\n",
        "  </thead>\n",
        "  <tbody>\n",
        "    <tr>\n",
        "      <th>All Possible</th>\n",
        "      <td> 12492</td>\n",
        "    </tr>\n",
        "    <tr>\n",
        "      <th>&gt;1 Read</th>\n",
        "      <td>  4315</td>\n",
        "    </tr>\n",
        "    <tr>\n",
        "      <th>1 Read</th>\n",
        "      <td>  2201</td>\n",
        "    </tr>\n",
        "  </tbody>\n",
        "</table>\n",
        "</div>"
       ],
       "metadata": {},
       "output_type": "pyout",
       "prompt_number": 91,
       "text": [
        "              Reads\n",
        "All Possible  12492\n",
        ">1 Read        4315\n",
        "1 Read         2201"
       ]
      }
     ],
     "prompt_number": 91
    },
    {
     "cell_type": "code",
     "collapsed": false,
     "input": [
      "fasta='dscam_heads_031115_ALL.fasta'\n",
      "rdic={}\n",
      "with open(fasta,'rb') as f1:\n",
      "    for line in f1:\n",
      "        if '>' in line:\n",
      "            idx=line.strip().replace('>','')\n",
      "        else:\n",
      "            rlen=line.strip()\n",
      "            rdic.update({idx:rlen})\n",
      "\n",
      "reads=pd.DataFrame.from_dict(rdic,orient='index')"
     ],
     "language": "python",
     "metadata": {},
     "outputs": [],
     "prompt_number": 90
    },
    {
     "cell_type": "code",
     "collapsed": false,
     "input": [
      "reads.reset_index(inplace=True)\n",
      "reads.rename(columns={0:'Read'},inplace=True)\n",
      "reads['id']=reads['index'].apply(lambda x: '_'.join(x.split(' ')[0].split('_')[:2]))\n",
      "reads['direction']=reads['index'].apply(lambda x: x.split(' ')[0].split('_')[-1])\n",
      "reads['Read_id']=reads['index'].apply(lambda x: x.split(' ')[0])\n",
      "reads['Length']=reads['Read'].apply(len)"
     ],
     "language": "python",
     "metadata": {},
     "outputs": [],
     "prompt_number": 93
    },
    {
     "cell_type": "code",
     "collapsed": false,
     "input": [
      "reads.head()"
     ],
     "language": "python",
     "metadata": {},
     "outputs": [
      {
       "html": [
        "<div style=\"max-height:1000px;max-width:1500px;overflow:auto;\">\n",
        "<table border=\"1\" class=\"dataframe\">\n",
        "  <thead>\n",
        "    <tr style=\"text-align: right;\">\n",
        "      <th></th>\n",
        "      <th>level_0</th>\n",
        "      <th>index</th>\n",
        "      <th>Read</th>\n",
        "      <th>id</th>\n",
        "      <th>direction</th>\n",
        "      <th>Read_id</th>\n",
        "      <th>Length</th>\n",
        "    </tr>\n",
        "  </thead>\n",
        "  <tbody>\n",
        "    <tr>\n",
        "      <th>0</th>\n",
        "      <td> 0</td>\n",
        "      <td> ch36_file181_complement downloads_HEADS_031115...</td>\n",
        "      <td> TGCAGGAATATTAACCCCTGGTCGTGTAAGCACAGGTCGGTGGATT...</td>\n",
        "      <td> ch36_file181</td>\n",
        "      <td>    complement</td>\n",
        "      <td>    ch36_file181_complement</td>\n",
        "      <td>  465</td>\n",
        "    </tr>\n",
        "    <tr>\n",
        "      <th>1</th>\n",
        "      <td> 1</td>\n",
        "      <td> ch39_file103_template downloads_HEADS_031115/g...</td>\n",
        "      <td> GGATTTGTTGGTTAATGTGGAGCAGTCTCCTTGGGTCCTCGATTAA...</td>\n",
        "      <td> ch39_file103</td>\n",
        "      <td>      template</td>\n",
        "      <td>      ch39_file103_template</td>\n",
        "      <td>  837</td>\n",
        "    </tr>\n",
        "    <tr>\n",
        "      <th>2</th>\n",
        "      <td> 2</td>\n",
        "      <td> ch500_file44_complement downloads_HEADS_031115...</td>\n",
        "      <td> TTTTCGGAATAACTACAACTTCCTTAAACCGACTAGCTACAGGCAC...</td>\n",
        "      <td> ch500_file44</td>\n",
        "      <td>    complement</td>\n",
        "      <td>    ch500_file44_complement</td>\n",
        "      <td>  300</td>\n",
        "    </tr>\n",
        "    <tr>\n",
        "      <th>3</th>\n",
        "      <td> 3</td>\n",
        "      <td> ch272_file26_template downloads_HEADS_031115/g...</td>\n",
        "      <td> ATTTTCTTTGGTTACTCTCGTCGTGGTCGTAATCGCTTTAACCTCA...</td>\n",
        "      <td> ch272_file26</td>\n",
        "      <td>      template</td>\n",
        "      <td>      ch272_file26_template</td>\n",
        "      <td>  543</td>\n",
        "    </tr>\n",
        "    <tr>\n",
        "      <th>4</th>\n",
        "      <td> 4</td>\n",
        "      <td> ch322_file59_twodirections downloads_HEADS_031...</td>\n",
        "      <td> TGTTCTGTTGATTGACTGATATTTCTGTCTGCTTGGGTGTTTAACC...</td>\n",
        "      <td> ch322_file59</td>\n",
        "      <td> twodirections</td>\n",
        "      <td> ch322_file59_twodirections</td>\n",
        "      <td> 1899</td>\n",
        "    </tr>\n",
        "  </tbody>\n",
        "</table>\n",
        "</div>"
       ],
       "metadata": {},
       "output_type": "pyout",
       "prompt_number": 94,
       "text": [
        "   level_0                                              index  \\\n",
        "0        0  ch36_file181_complement downloads_HEADS_031115...   \n",
        "1        1  ch39_file103_template downloads_HEADS_031115/g...   \n",
        "2        2  ch500_file44_complement downloads_HEADS_031115...   \n",
        "3        3  ch272_file26_template downloads_HEADS_031115/g...   \n",
        "4        4  ch322_file59_twodirections downloads_HEADS_031...   \n",
        "\n",
        "                                                Read            id  \\\n",
        "0  TGCAGGAATATTAACCCCTGGTCGTGTAAGCACAGGTCGGTGGATT...  ch36_file181   \n",
        "1  GGATTTGTTGGTTAATGTGGAGCAGTCTCCTTGGGTCCTCGATTAA...  ch39_file103   \n",
        "2  TTTTCGGAATAACTACAACTTCCTTAAACCGACTAGCTACAGGCAC...  ch500_file44   \n",
        "3  ATTTTCTTTGGTTACTCTCGTCGTGGTCGTAATCGCTTTAACCTCA...  ch272_file26   \n",
        "4  TGTTCTGTTGATTGACTGATATTTCTGTCTGCTTGGGTGTTTAACC...  ch322_file59   \n",
        "\n",
        "       direction                     Read_id  Length  \n",
        "0     complement     ch36_file181_complement     465  \n",
        "1       template       ch39_file103_template     837  \n",
        "2     complement     ch500_file44_complement     300  \n",
        "3       template       ch272_file26_template     543  \n",
        "4  twodirections  ch322_file59_twodirections    1899  "
       ]
      }
     ],
     "prompt_number": 94
    },
    {
     "cell_type": "code",
     "collapsed": false,
     "input": [
      "matplotlib.rcParams['figure.figsize'] = (5.0, 5.0)\n",
      "figure=plt.figure()\n",
      "ax=figure.add_subplot(111)\n",
      "reads['Length'].plot(kind='hist',bins=np.arange(0,5000,100),ax=ax)\n",
      "ax.set_title('Read Lengths', fontsize=20)\n",
      "ax.tick_params(axis='both', which='major', labelsize=14)\n",
      "ax.set_ylabel('Reads',fontsize=16)\n",
      "ax.set_xlabel('Length',fontsize=16)\n",
      "ax.legend([])"
     ],
     "language": "python",
     "metadata": {},
     "outputs": [
      {
       "metadata": {},
       "output_type": "pyout",
       "prompt_number": 95,
       "text": [
        "<matplotlib.legend.Legend at 0x7f4030beafd0>"
       ]
      },
      {
       "metadata": {},
       "output_type": "display_data",
       "png": "[encoded data removed]",
       "text": [
        "<matplotlib.figure.Figure at 0x7f40373a9ad0>"
       ]
      }
     ],
     "prompt_number": 95
    },
    {
     "cell_type": "code",
     "collapsed": false,
     "input": [
      "figure.savefig('Heads_Read_Lengths.pdf',format='pdf',dpi=300)"
     ],
     "language": "python",
     "metadata": {},
     "outputs": [],
     "prompt_number": 82
    },
    {
     "cell_type": "code",
     "collapsed": false,
     "input": [
      "g = seaborn.FacetGrid(reads, col=\"direction\")\n",
      "g.map(plt.hist, 'Length', bins=np.arange(0,5000,100))\n",
      "g.set_xlabels('Read Length')"
     ],
     "language": "python",
     "metadata": {},
     "outputs": [
      {
       "metadata": {},
       "output_type": "pyout",
       "prompt_number": 96,
       "text": [
        "<seaborn.axisgrid.FacetGrid at 0x7f40695e9a90>"
       ]
      },
      {
       "metadata": {},
       "output_type": "display_data",
       "png": "[encoded data removed]",
       "text": [
        "<matplotlib.figure.Figure at 0x7f4030bf80d0>"
       ]
      }
     ],
     "prompt_number": 96
    },
    {
     "cell_type": "code",
     "collapsed": false,
     "input": [
      "align4pid=pd.read_table('PSL/dscam_heads_031115_exon4.pid',index_col=False,names=['tName', 'tStart', 'tEnd', 'qName', 'qStart', 'percentIdentity'])\n",
      "align6pid=pd.read_table('PSL/dscam_heads_031115_exon6.pid',index_col=False,names=['tName', 'tStart', 'tEnd', 'qName', 'qStart', 'percentIdentity'])\n",
      "align9pid=pd.read_table('PSL/dscam_heads_031115_exon9.pid',index_col=False,names=['tName', 'tStart', 'tEnd', 'qName', 'qStart', 'percentIdentity'])"
     ],
     "language": "python",
     "metadata": {},
     "outputs": [],
     "prompt_number": 46
    },
    {
     "cell_type": "code",
     "collapsed": false,
     "input": [
      "align4pid['direction']=align4pid['qName'].apply(lambda x: x.split(' ')[0].split('_')[-1].split(':')[0])\n",
      "align4pid['id']=align4pid['qName'].apply(lambda x: x.split(' ')[0])\n",
      "\n",
      "align6pid['direction']=align6pid['qName'].apply(lambda x: x.split(' ')[0].split('_')[-1].split(':')[0])\n",
      "align6pid['id']=align6pid['qName'].apply(lambda x: x.split(' ')[0])\n",
      "\n",
      "align9pid['direction']=align9pid['qName'].apply(lambda x: x.split(' ')[0].split('_')[-1].split(':')[0])\n",
      "align9pid['id']=align9pid['qName'].apply(lambda x: x.split(' ')[0])"
     ],
     "language": "python",
     "metadata": {},
     "outputs": [],
     "prompt_number": 68
    },
    {
     "cell_type": "code",
     "collapsed": false,
     "input": [
      "figure.savefig('Exon_Specific_PID.pdf',format='pdf',dpi=600)"
     ],
     "language": "python",
     "metadata": {},
     "outputs": [],
     "prompt_number": 52
    },
    {
     "cell_type": "code",
     "collapsed": false,
     "input": [
      "align4pid['percentIdentity'].mean(),align6pid['percentIdentity'].mean(),align9pid['percentIdentity'].mean()"
     ],
     "language": "python",
     "metadata": {},
     "outputs": [
      {
       "metadata": {},
       "output_type": "pyout",
       "prompt_number": 55,
       "text": [
        "(80.148648479146885, 85.664697797093169, 75.215847208372338)"
       ]
      }
     ],
     "prompt_number": 55
    },
    {
     "cell_type": "code",
     "collapsed": false,
     "input": [
      "matplotlib.rcParams['figure.figsize'] = (10.0, 10.0)\n",
      "figure=plt.figure()\n",
      "ax=plt.subplot2grid((2,2),(0,0),rowspan=1,colspan=1)\n",
      "align4pid['percentIdentity'].plot(kind='kde',ax=ax,label='Exon4')\n",
      "align6pid['percentIdentity'].plot(kind='kde',ax=ax,label='Exon6')\n",
      "align9pid['percentIdentity'].plot(kind='kde',ax=ax,label='Exon9')\n",
      "ax.set_xlabel('Percent Identity', fontsize=20)\n",
      "ax.tick_params(axis='both', which='major', labelsize=14)\n",
      "ax.set_xlim([0,120])\n",
      "ax.legend(fontsize=12)\n",
      "for i in ax.lines:\n",
      "    i.set_linewidth(3)\n",
      "\n",
      "ax1=plt.subplot2grid((2,2),(0,1),rowspan=1,colspan=1,sharey=ax)\n",
      "align4pid.groupby('direction')['percentIdentity'].plot(kind='kde', ax=ax1)\n",
      "ax1.legend(fontsize=12)\n",
      "for i in ax1.lines:\n",
      "    i.set_linewidth(3)\n",
      "ax1.set_xlim([0,120])\n",
      "ax1.set_xlabel('Percent Identity', fontsize=20)\n",
      "ax1.tick_params(axis='both', which='major', labelsize=14)"
     ],
     "language": "python",
     "metadata": {},
     "outputs": [
      {
       "metadata": {},
       "output_type": "display_data",
       "png": "[encoded data removed]",
       "text": [
        "<matplotlib.figure.Figure at 0x7f4036cbf490>"
       ]
      }
     ],
     "prompt_number": 78
    },
    {
     "cell_type": "code",
     "collapsed": false,
     "input": [
      "figure.savefig('SupplementalFigure1.pdf',format='pdf',dpi=600)"
     ],
     "language": "python",
     "metadata": {},
     "outputs": [],
     "prompt_number": 79
    }
   ],
   "metadata": {}
  }
 ]
}