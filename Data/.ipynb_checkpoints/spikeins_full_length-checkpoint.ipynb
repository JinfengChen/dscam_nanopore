{
 "metadata": {
  "name": "",
  "signature": "sha256:698320a26d1a2658b4eea7c687295acd19bc5ce1624a2df24bbc6840c3459a5a"
 },
 "nbformat": 3,
 "nbformat_minor": 0,
 "worksheets": [
  {
   "cells": [
    {
     "cell_type": "code",
     "collapsed": false,
     "input": [
      "import os\n",
      "import sys"
     ],
     "language": "python",
     "metadata": {},
     "outputs": [],
     "prompt_number": 1
    },
    {
     "cell_type": "code",
     "collapsed": false,
     "input": [
      "'''\n",
      "#lastdb\n",
      "os.system('lastdb dscam_isoformdb dscam_all_isoforms_clean.fasta')\n",
      "'''"
     ],
     "language": "python",
     "metadata": {},
     "outputs": []
    },
    {
     "cell_type": "code",
     "collapsed": false,
     "input": [
      "'''\n",
      "#lastal\n",
      "os.system(lastal -m 1000 -s 2 -T 0 -Q 0 -a 1 DSCAM_EXONS_LASTDB/dscam_isoformdb SpikeIns_020415_20X.fasta | last-split -m 1 > Spikeins_alignments_Isoforms.maf')\n",
      "'''"
     ],
     "language": "python",
     "metadata": {},
     "outputs": []
    },
    {
     "cell_type": "code",
     "collapsed": false,
     "input": [
      "#maf-convert\n",
      "os.system('maf-convert.py SAM Spikeins_alignments_Isoforms.maf > SpikeIns_020415_20X_Isoform.sam')\n",
      "os.system('maf-convert.py PSL Spikeins_alignments_Isoforms.maf > SpikeIns_020415_20X_Isoform.psl')"
     ],
     "language": "python",
     "metadata": {},
     "outputs": [
      {
       "metadata": {},
       "output_type": "pyout",
       "prompt_number": 2,
       "text": [
        "0"
       ]
      }
     ],
     "prompt_number": 2
    },
    {
     "cell_type": "code",
     "collapsed": false,
     "input": [
      "#mv files\n",
      "os.system('mv *.sam SAM/')\n",
      "os.system('mv *.psl PSL/')\n",
      "os.system('mv *_alignments* LAST_ALIGNMENTS/')"
     ],
     "language": "python",
     "metadata": {},
     "outputs": [
      {
       "metadata": {},
       "output_type": "pyout",
       "prompt_number": 3,
       "text": [
        "0"
       ]
      }
     ],
     "prompt_number": 3
    },
    {
     "cell_type": "code",
     "collapsed": false,
     "input": [
      "%matplotlib inline\n",
      "import pandas as pd\n",
      "import numpy as np\n",
      "import matplotlib\n",
      "import matplotlib.pyplot as plt\n",
      "from matplotlib.backends.backend_pdf import PdfPages\n",
      "import scipy.stats as stats\n",
      "import scipy.cluster.hierarchy as sch\n",
      "from operator import *\n",
      "pd.core.config.option_context('mode.use_inf_as_null',True)\n",
      "import seaborn\n",
      "rcdefsns = plt.rcParams.copy()\n",
      "import brewer2mpl"
     ],
     "language": "python",
     "metadata": {},
     "outputs": [
      {
       "output_type": "stream",
       "stream": "stderr",
       "text": [
        "/usr/lib/python2.7/dist-packages/pkg_resources.py:1031: UserWarning: /home/mohanb/.python-eggs is writable by group/others and vulnerable to attack when used with get_resource_filename. Consider a more secure location (set with .set_extraction_path or the PYTHON_EGG_CACHE environment variable).\n",
        "  warnings.warn(msg, UserWarning)\n"
       ]
      }
     ],
     "prompt_number": 5
    },
    {
     "cell_type": "code",
     "collapsed": false,
     "input": [
      "align=pd.read_table('SAM/SpikeIns_020415_20X_Isoform.sam',index_col=False,names=['Read_id','Flag','Align_Exon','Start','B','CIGAR','A','P','P2','Read','A2','Mismatches','Score'], skiprows=1)\n",
      "alignpsl=pd.read_table('PSL/SpikeIns_020415_20X_Isoform.psl',index_col=False,names=['matches','misMatches','repMatches','nCount','qNumInsert','qBaseInsert','tNumInsert','tBaseInsert','strand','qName','qSize','qStart','qEnd','tName','tSize','tStart','tEnd','blockCount','blockSizes','qStarts','tStarts'])"
     ],
     "language": "python",
     "metadata": {},
     "outputs": [],
     "prompt_number": 24
    },
    {
     "cell_type": "code",
     "collapsed": false,
     "input": [
      "align.head()"
     ],
     "language": "python",
     "metadata": {},
     "outputs": [
      {
       "html": [
        "<div style=\"max-height:1000px;max-width:1500px;overflow:auto;\">\n",
        "<table border=\"1\" class=\"dataframe\">\n",
        "  <thead>\n",
        "    <tr style=\"text-align: right;\">\n",
        "      <th></th>\n",
        "      <th>Read_id</th>\n",
        "      <th>Align_Exon</th>\n",
        "      <th>Start</th>\n",
        "      <th>CIGAR</th>\n",
        "      <th>Read</th>\n",
        "      <th>Mismatches</th>\n",
        "      <th>Score</th>\n",
        "      <th>Length</th>\n",
        "    </tr>\n",
        "  </thead>\n",
        "  <tbody>\n",
        "    <tr>\n",
        "      <th>0</th>\n",
        "      <td>    ch100_file10_complement</td>\n",
        "      <td> 4.3.6.33.9.9</td>\n",
        "      <td> 309</td>\n",
        "      <td> 44H15M6I15M1D2M1D4M1I10M1D11M1D7M3I7M3D8M1I1M1...</td>\n",
        "      <td> GGATCCATTATCTCCATCCAGCGAGACGTCCATCTGGTCCGCCTTG...</td>\n",
        "      <td> NM:i:573</td>\n",
        "      <td>  AS:i:434</td>\n",
        "      <td> 1508</td>\n",
        "    </tr>\n",
        "    <tr>\n",
        "      <th>1</th>\n",
        "      <td>      ch100_file10_template</td>\n",
        "      <td> 4.3.6.33.9.9</td>\n",
        "      <td> 337</td>\n",
        "      <td> 28H22M1D2M1D1M1D9M1I7M5D3M2D2M1D16M2D16M5D8M1D...</td>\n",
        "      <td> TGCGGGGGCGTCGTCCCCGAACCTCATACCGATGCTCAACAAATCA...</td>\n",
        "      <td> NM:i:626</td>\n",
        "      <td>  AS:i:404</td>\n",
        "      <td> 1570</td>\n",
        "    </tr>\n",
        "    <tr>\n",
        "      <th>2</th>\n",
        "      <td> ch100_file10_twodirections</td>\n",
        "      <td> 4.3.6.33.9.9</td>\n",
        "      <td> 307</td>\n",
        "      <td> 4H7M1D9M2I15M1D6M1D20M1I9M2I45M1D7M1D17M1D8M1D...</td>\n",
        "      <td> TCGGATCATTATCTCCAGCGAGACGTCCGTGCGGTGCCGTCGTTGC...</td>\n",
        "      <td> NM:i:305</td>\n",
        "      <td> AS:i:1154</td>\n",
        "      <td> 1776</td>\n",
        "    </tr>\n",
        "    <tr>\n",
        "      <th>3</th>\n",
        "      <td> ch100_file12_twodirections</td>\n",
        "      <td> 4.1.6.46.9.1</td>\n",
        "      <td> 305</td>\n",
        "      <td> 6H37M3I3M2D4M2I4M1D32M3I20M2I3M1I5M2D19M1D10M1...</td>\n",
        "      <td> GTTGGAATCCATTATCTCCCGGGACGTCCATGTGCGATAGGCCTAG...</td>\n",
        "      <td> NM:i:191</td>\n",
        "      <td>  AS:i:977</td>\n",
        "      <td> 1389</td>\n",
        "    </tr>\n",
        "    <tr>\n",
        "      <th>4</th>\n",
        "      <td>      ch100_file12_template</td>\n",
        "      <td> 4.1.6.11.9.1</td>\n",
        "      <td> 312</td>\n",
        "      <td> 13H16M1I12M1D6M1D9M1D1M2D16M1D12M1I11M3D3M1D2M...</td>\n",
        "      <td> TCCATTATCTCCCCGCTAAAGCTTTTTGTAGCCCGGTATGCCCATT...</td>\n",
        "      <td> NM:i:475</td>\n",
        "      <td>  AS:i:292</td>\n",
        "      <td> 1173</td>\n",
        "    </tr>\n",
        "  </tbody>\n",
        "</table>\n",
        "</div>"
       ],
       "metadata": {},
       "output_type": "pyout",
       "prompt_number": 87,
       "text": [
        "                      Read_id    Align_Exon  Start  \\\n",
        "0     ch100_file10_complement  4.3.6.33.9.9    309   \n",
        "1       ch100_file10_template  4.3.6.33.9.9    337   \n",
        "2  ch100_file10_twodirections  4.3.6.33.9.9    307   \n",
        "3  ch100_file12_twodirections  4.1.6.46.9.1    305   \n",
        "4       ch100_file12_template  4.1.6.11.9.1    312   \n",
        "\n",
        "                                               CIGAR  \\\n",
        "0  44H15M6I15M1D2M1D4M1I10M1D11M1D7M3I7M3D8M1I1M1...   \n",
        "1  28H22M1D2M1D1M1D9M1I7M5D3M2D2M1D16M2D16M5D8M1D...   \n",
        "2  4H7M1D9M2I15M1D6M1D20M1I9M2I45M1D7M1D17M1D8M1D...   \n",
        "3  6H37M3I3M2D4M2I4M1D32M3I20M2I3M1I5M2D19M1D10M1...   \n",
        "4  13H16M1I12M1D6M1D9M1D1M2D16M1D12M1I11M3D3M1D2M...   \n",
        "\n",
        "                                                Read Mismatches      Score  \\\n",
        "0  GGATCCATTATCTCCATCCAGCGAGACGTCCATCTGGTCCGCCTTG...   NM:i:573   AS:i:434   \n",
        "1  TGCGGGGGCGTCGTCCCCGAACCTCATACCGATGCTCAACAAATCA...   NM:i:626   AS:i:404   \n",
        "2  TCGGATCATTATCTCCAGCGAGACGTCCGTGCGGTGCCGTCGTTGC...   NM:i:305  AS:i:1154   \n",
        "3  GTTGGAATCCATTATCTCCCGGGACGTCCATGTGCGATAGGCCTAG...   NM:i:191   AS:i:977   \n",
        "4  TCCATTATCTCCCCGCTAAAGCTTTTTGTAGCCCGGTATGCCCATT...   NM:i:475   AS:i:292   \n",
        "\n",
        "   Length  \n",
        "0    1508  \n",
        "1    1570  \n",
        "2    1776  \n",
        "3    1389  \n",
        "4    1173  "
       ]
      }
     ],
     "prompt_number": 87
    },
    {
     "cell_type": "code",
     "collapsed": false,
     "input": [
      "align.drop(['Flag','B','A','P','P2','A2'],axis=1,inplace=True)"
     ],
     "language": "python",
     "metadata": {},
     "outputs": [],
     "prompt_number": 26
    },
    {
     "cell_type": "code",
     "collapsed": false,
     "input": [
      "print len(align)"
     ],
     "language": "python",
     "metadata": {},
     "outputs": [
      {
       "output_type": "stream",
       "stream": "stdout",
       "text": [
        "19653\n"
       ]
      }
     ],
     "prompt_number": 27
    },
    {
     "cell_type": "code",
     "collapsed": false,
     "input": [
      "align['Align_Exon']=align['Align_Exon'].apply(lambda x:x.replace('Dscam_',''))\n",
      "align['Align_Exon']=align['Align_Exon'].apply(lambda x:'.'.join(x.split('_')[::-1]))\n",
      "#align['Score']=align['Score'].apply(lambda x:int(x.split(':')[-1]))\n",
      "align['Length']=align['Read'].apply(len)\n",
      "align.head()"
     ],
     "language": "python",
     "metadata": {},
     "outputs": [
      {
       "html": [
        "<div style=\"max-height:1000px;max-width:1500px;overflow:auto;\">\n",
        "<table border=\"1\" class=\"dataframe\">\n",
        "  <thead>\n",
        "    <tr style=\"text-align: right;\">\n",
        "      <th></th>\n",
        "      <th>Read_id</th>\n",
        "      <th>Align_Exon</th>\n",
        "      <th>Start</th>\n",
        "      <th>CIGAR</th>\n",
        "      <th>Read</th>\n",
        "      <th>Mismatches</th>\n",
        "      <th>Score</th>\n",
        "      <th>Length</th>\n",
        "    </tr>\n",
        "  </thead>\n",
        "  <tbody>\n",
        "    <tr>\n",
        "      <th>0</th>\n",
        "      <td>    ch100_file10_complement</td>\n",
        "      <td> 4.3.6.33.9.9</td>\n",
        "      <td> 309</td>\n",
        "      <td> 44H15M6I15M1D2M1D4M1I10M1D11M1D7M3I7M3D8M1I1M1...</td>\n",
        "      <td> GGATCCATTATCTCCATCCAGCGAGACGTCCATCTGGTCCGCCTTG...</td>\n",
        "      <td> NM:i:573</td>\n",
        "      <td>  AS:i:434</td>\n",
        "      <td> 1508</td>\n",
        "    </tr>\n",
        "    <tr>\n",
        "      <th>1</th>\n",
        "      <td>      ch100_file10_template</td>\n",
        "      <td> 4.3.6.33.9.9</td>\n",
        "      <td> 337</td>\n",
        "      <td> 28H22M1D2M1D1M1D9M1I7M5D3M2D2M1D16M2D16M5D8M1D...</td>\n",
        "      <td> TGCGGGGGCGTCGTCCCCGAACCTCATACCGATGCTCAACAAATCA...</td>\n",
        "      <td> NM:i:626</td>\n",
        "      <td>  AS:i:404</td>\n",
        "      <td> 1570</td>\n",
        "    </tr>\n",
        "    <tr>\n",
        "      <th>2</th>\n",
        "      <td> ch100_file10_twodirections</td>\n",
        "      <td> 4.3.6.33.9.9</td>\n",
        "      <td> 307</td>\n",
        "      <td> 4H7M1D9M2I15M1D6M1D20M1I9M2I45M1D7M1D17M1D8M1D...</td>\n",
        "      <td> TCGGATCATTATCTCCAGCGAGACGTCCGTGCGGTGCCGTCGTTGC...</td>\n",
        "      <td> NM:i:305</td>\n",
        "      <td> AS:i:1154</td>\n",
        "      <td> 1776</td>\n",
        "    </tr>\n",
        "    <tr>\n",
        "      <th>3</th>\n",
        "      <td> ch100_file12_twodirections</td>\n",
        "      <td> 4.1.6.46.9.1</td>\n",
        "      <td> 305</td>\n",
        "      <td> 6H37M3I3M2D4M2I4M1D32M3I20M2I3M1I5M2D19M1D10M1...</td>\n",
        "      <td> GTTGGAATCCATTATCTCCCGGGACGTCCATGTGCGATAGGCCTAG...</td>\n",
        "      <td> NM:i:191</td>\n",
        "      <td>  AS:i:977</td>\n",
        "      <td> 1389</td>\n",
        "    </tr>\n",
        "    <tr>\n",
        "      <th>4</th>\n",
        "      <td>      ch100_file12_template</td>\n",
        "      <td> 4.1.6.11.9.1</td>\n",
        "      <td> 312</td>\n",
        "      <td> 13H16M1I12M1D6M1D9M1D1M2D16M1D12M1I11M3D3M1D2M...</td>\n",
        "      <td> TCCATTATCTCCCCGCTAAAGCTTTTTGTAGCCCGGTATGCCCATT...</td>\n",
        "      <td> NM:i:475</td>\n",
        "      <td>  AS:i:292</td>\n",
        "      <td> 1173</td>\n",
        "    </tr>\n",
        "  </tbody>\n",
        "</table>\n",
        "</div>"
       ],
       "metadata": {},
       "output_type": "pyout",
       "prompt_number": 28,
       "text": [
        "                      Read_id    Align_Exon  Start  \\\n",
        "0     ch100_file10_complement  4.3.6.33.9.9    309   \n",
        "1       ch100_file10_template  4.3.6.33.9.9    337   \n",
        "2  ch100_file10_twodirections  4.3.6.33.9.9    307   \n",
        "3  ch100_file12_twodirections  4.1.6.46.9.1    305   \n",
        "4       ch100_file12_template  4.1.6.11.9.1    312   \n",
        "\n",
        "                                               CIGAR  \\\n",
        "0  44H15M6I15M1D2M1D4M1I10M1D11M1D7M3I7M3D8M1I1M1...   \n",
        "1  28H22M1D2M1D1M1D9M1I7M5D3M2D2M1D16M2D16M5D8M1D...   \n",
        "2  4H7M1D9M2I15M1D6M1D20M1I9M2I45M1D7M1D17M1D8M1D...   \n",
        "3  6H37M3I3M2D4M2I4M1D32M3I20M2I3M1I5M2D19M1D10M1...   \n",
        "4  13H16M1I12M1D6M1D9M1D1M2D16M1D12M1I11M3D3M1D2M...   \n",
        "\n",
        "                                                Read Mismatches      Score  \\\n",
        "0  GGATCCATTATCTCCATCCAGCGAGACGTCCATCTGGTCCGCCTTG...   NM:i:573   AS:i:434   \n",
        "1  TGCGGGGGCGTCGTCCCCGAACCTCATACCGATGCTCAACAAATCA...   NM:i:626   AS:i:404   \n",
        "2  TCGGATCATTATCTCCAGCGAGACGTCCGTGCGGTGCCGTCGTTGC...   NM:i:305  AS:i:1154   \n",
        "3  GTTGGAATCCATTATCTCCCGGGACGTCCATGTGCGATAGGCCTAG...   NM:i:191   AS:i:977   \n",
        "4  TCCATTATCTCCCCGCTAAAGCTTTTTGTAGCCCGGTATGCCCATT...   NM:i:475   AS:i:292   \n",
        "\n",
        "   Length  \n",
        "0    1508  \n",
        "1    1570  \n",
        "2    1776  \n",
        "3    1389  \n",
        "4    1173  "
       ]
      }
     ],
     "prompt_number": 28
    },
    {
     "cell_type": "code",
     "collapsed": false,
     "input": [
      "count_appkey = align.groupby('Read_id')['Read_id'].transform('count')\n",
      "align=align[count_appkey==1]"
     ],
     "language": "python",
     "metadata": {},
     "outputs": [],
     "prompt_number": 39
    },
    {
     "cell_type": "code",
     "collapsed": false,
     "input": [
      "inta=align[align['Length']>1500]['Align_Exon'].value_counts()\n",
      "inta[inta<20].sum()"
     ],
     "language": "python",
     "metadata": {},
     "outputs": [
      {
       "metadata": {},
       "output_type": "pyout",
       "prompt_number": 100,
       "text": [
        "530"
       ]
      }
     ],
     "prompt_number": 100
    },
    {
     "cell_type": "code",
     "collapsed": false,
     "input": [
      "align['Length'].plot(kind='hist',bins=np.arange(0,2500,100),normed=True)"
     ],
     "language": "python",
     "metadata": {},
     "outputs": [
      {
       "metadata": {},
       "output_type": "pyout",
       "prompt_number": 55,
       "text": [
        "<matplotlib.axes._subplots.AxesSubplot at 0x7fa2dacc8ad0>"
       ]
      },
      {
       "metadata": {},
       "output_type": "display_data",
       "png": "[encoded data removed]",
       "text": [
        "<matplotlib.figure.Figure at 0x7fa2dca5f4d0>"
       ]
      }
     ],
     "prompt_number": 55
    },
    {
     "cell_type": "code",
     "collapsed": false,
     "input": [
      "align['Start'].plot(kind='hist',bins=np.arange(0,2500,100))"
     ],
     "language": "python",
     "metadata": {},
     "outputs": [
      {
       "metadata": {},
       "output_type": "pyout",
       "prompt_number": 54,
       "text": [
        "<matplotlib.axes._subplots.AxesSubplot at 0x7fa2dadc64d0>"
       ]
      },
      {
       "metadata": {},
       "output_type": "display_data",
       "png": "[encoded data removed]",
       "text": [
        "<matplotlib.figure.Figure at 0x7fa2dca5fb50>"
       ]
      }
     ],
     "prompt_number": 54
    },
    {
     "cell_type": "code",
     "collapsed": false,
     "input": [
      "align.sort(columns=['Length','Score'], inplace=True, ascending=[False,False])"
     ],
     "language": "python",
     "metadata": {},
     "outputs": [
      {
       "output_type": "stream",
       "stream": "stderr",
       "text": [
        "/usr/local/lib/python2.7/dist-packages/pandas/core/frame.py:2798: SettingWithCopyWarning: \n",
        "A value is trying to be set on a copy of a slice from a DataFrame\n",
        "\n",
        "See the the caveats in the documentation: http://pandas.pydata.org/pandas-docs/stable/indexing.html#indexing-view-versus-copy\n",
        "  inplace=inplace, kind=kind, na_position=na_position)\n"
       ]
      }
     ],
     "prompt_number": 88
    },
    {
     "cell_type": "code",
     "collapsed": false,
     "input": [
      "align.head()"
     ],
     "language": "python",
     "metadata": {},
     "outputs": [
      {
       "html": [
        "<div style=\"max-height:1000px;max-width:1500px;overflow:auto;\">\n",
        "<table border=\"1\" class=\"dataframe\">\n",
        "  <thead>\n",
        "    <tr style=\"text-align: right;\">\n",
        "      <th></th>\n",
        "      <th>Read_id</th>\n",
        "      <th>Align_Exon</th>\n",
        "      <th>Start</th>\n",
        "      <th>CIGAR</th>\n",
        "      <th>Read</th>\n",
        "      <th>Mismatches</th>\n",
        "      <th>Score</th>\n",
        "      <th>Length</th>\n",
        "    </tr>\n",
        "  </thead>\n",
        "  <tbody>\n",
        "    <tr>\n",
        "      <th>10431</th>\n",
        "      <td>       ch341_file1_template</td>\n",
        "      <td> 4.1.6.46.9.30</td>\n",
        "      <td> 382</td>\n",
        "      <td> 195H11M2D12M1D7M1I1M1I8M1I5M1I5M1I7M2I9M3I1M1I...</td>\n",
        "      <td> GAGCACGTTACGTTTAACTTCGGGCCCATCCACACTTTATGCATTC...</td>\n",
        "      <td> NM:i:889</td>\n",
        "      <td> AS:i:274</td>\n",
        "      <td> 2261</td>\n",
        "    </tr>\n",
        "    <tr>\n",
        "      <th>12862</th>\n",
        "      <td> ch393_file78_twodirections</td>\n",
        "      <td> 4.1.6.46.9.30</td>\n",
        "      <td> 290</td>\n",
        "      <td> 10H7M1D6M1I4M1I7M1I16M1D4M1I21M1D2M2D6M1D1M2D5...</td>\n",
        "      <td> CCTGGCCGCCTCTTAGTTACTCCTTCGATTATCACTACGTCCGCTA...</td>\n",
        "      <td> NM:i:880</td>\n",
        "      <td> AS:i:264</td>\n",
        "      <td> 2226</td>\n",
        "    </tr>\n",
        "    <tr>\n",
        "      <th>10957</th>\n",
        "      <td> ch355_file35_twodirections</td>\n",
        "      <td>   4.5.6.4.9.4</td>\n",
        "      <td> 314</td>\n",
        "      <td> 50H12M3D4M1D7M1I5M1D10M1I4M3I10M1D9M1I4M1I9M1D...</td>\n",
        "      <td> CATTATCCTCCTCGTCATGTGCCTAGTCGTGGTAAATTATGTATCT...</td>\n",
        "      <td> NM:i:898</td>\n",
        "      <td> AS:i:220</td>\n",
        "      <td> 2215</td>\n",
        "    </tr>\n",
        "    <tr>\n",
        "      <th>13062</th>\n",
        "      <td>    ch399_file61_complement</td>\n",
        "      <td> 4.1.6.46.9.30</td>\n",
        "      <td> 287</td>\n",
        "      <td> 22H17M1I3M2D5M1D16M1I3M2I2M1I4M1D10M2D20M1D6M1...</td>\n",
        "      <td> CTCCCCCGCGCGCGTCATAGTGGATTATCATCTCCCATAAGGGTCC...</td>\n",
        "      <td> NM:i:882</td>\n",
        "      <td> AS:i:235</td>\n",
        "      <td> 2148</td>\n",
        "    </tr>\n",
        "    <tr>\n",
        "      <th>10652</th>\n",
        "      <td> ch347_file62_twodirections</td>\n",
        "      <td>   4.5.6.4.9.4</td>\n",
        "      <td> 283</td>\n",
        "      <td> 3H15M1I1M1I4M1D3M1D3M1D6M1D8M1D2M1I5M3I6M1I5M1...</td>\n",
        "      <td> ACGACCACCTGGGCCAGACGATAGTCGGTACATCTCTCCCGGACAG...</td>\n",
        "      <td> NM:i:779</td>\n",
        "      <td> AS:i:424</td>\n",
        "      <td> 2137</td>\n",
        "    </tr>\n",
        "  </tbody>\n",
        "</table>\n",
        "</div>"
       ],
       "metadata": {},
       "output_type": "pyout",
       "prompt_number": 89,
       "text": [
        "                          Read_id     Align_Exon  Start  \\\n",
        "10431        ch341_file1_template  4.1.6.46.9.30    382   \n",
        "12862  ch393_file78_twodirections  4.1.6.46.9.30    290   \n",
        "10957  ch355_file35_twodirections    4.5.6.4.9.4    314   \n",
        "13062     ch399_file61_complement  4.1.6.46.9.30    287   \n",
        "10652  ch347_file62_twodirections    4.5.6.4.9.4    283   \n",
        "\n",
        "                                                   CIGAR  \\\n",
        "10431  195H11M2D12M1D7M1I1M1I8M1I5M1I5M1I7M2I9M3I1M1I...   \n",
        "12862  10H7M1D6M1I4M1I7M1I16M1D4M1I21M1D2M2D6M1D1M2D5...   \n",
        "10957  50H12M3D4M1D7M1I5M1D10M1I4M3I10M1D9M1I4M1I9M1D...   \n",
        "13062  22H17M1I3M2D5M1D16M1I3M2I2M1I4M1D10M2D20M1D6M1...   \n",
        "10652  3H15M1I1M1I4M1D3M1D3M1D6M1D8M1D2M1I5M3I6M1I5M1...   \n",
        "\n",
        "                                                    Read Mismatches     Score  \\\n",
        "10431  GAGCACGTTACGTTTAACTTCGGGCCCATCCACACTTTATGCATTC...   NM:i:889  AS:i:274   \n",
        "12862  CCTGGCCGCCTCTTAGTTACTCCTTCGATTATCACTACGTCCGCTA...   NM:i:880  AS:i:264   \n",
        "10957  CATTATCCTCCTCGTCATGTGCCTAGTCGTGGTAAATTATGTATCT...   NM:i:898  AS:i:220   \n",
        "13062  CTCCCCCGCGCGCGTCATAGTGGATTATCATCTCCCATAAGGGTCC...   NM:i:882  AS:i:235   \n",
        "10652  ACGACCACCTGGGCCAGACGATAGTCGGTACATCTCTCCCGGACAG...   NM:i:779  AS:i:424   \n",
        "\n",
        "       Length  \n",
        "10431    2261  \n",
        "12862    2226  \n",
        "10957    2215  \n",
        "13062    2148  \n",
        "10652    2137  "
       ]
      }
     ],
     "prompt_number": 89
    },
    {
     "cell_type": "code",
     "collapsed": false,
     "input": [],
     "language": "python",
     "metadata": {},
     "outputs": []
    }
   ],
   "metadata": {}
  }
 ]
}