{
 "metadata": {
  "name": "",
  "signature": "sha256:8afe25eb952fd7da9c1db774af1ab9496a9e9833ef6f4f3f274a94c8057b8449"
 },
 "nbformat": 3,
 "nbformat_minor": 0,
 "worksheets": [
  {
   "cells": [
    {
     "cell_type": "code",
     "collapsed": false,
     "input": [
      "import os\n",
      "import sys"
     ],
     "language": "python",
     "metadata": {},
     "outputs": [
      {
       "metadata": {},
       "output_type": "pyout",
       "prompt_number": 2,
       "text": [
        "\"\\n#LASTDB\\nos.system('lastdb Dscam_exon4.last Dscam_exon4.fasta')\\nos.system('lastdb Dscam_exon6.last Dscam_exon6.fasta')\\nos.system('lastdb Dscam_exon9.last Dscam_exon9.fasta')\\n\""
       ]
      }
     ],
     "prompt_number": 2
    },
    {
     "cell_type": "code",
     "collapsed": false,
     "input": [
      "'''\n",
      "#LASTDB\n",
      "os.system('lastdb Dscam_exon4.last Dscam_exon4.fasta')\n",
      "os.system('lastdb Dscam_exon6.last Dscam_exon6.fasta')\n",
      "os.system('lastdb Dscam_exon9.last Dscam_exon9.fasta')\n",
      "'''"
     ],
     "language": "python",
     "metadata": {},
     "outputs": []
    },
    {
     "cell_type": "code",
     "collapsed": false,
     "input": [
      "'''\n",
      "#Poretools\n",
      "os.system('poretools fasta downloads-01-28-2015/*.fast5 > Dscam_spikenis.fasta')\n",
      "'''"
     ],
     "language": "python",
     "metadata": {},
     "outputs": []
    },
    {
     "cell_type": "code",
     "collapsed": false,
     "input": [
      "'''\n",
      "#LASTAL\n",
      "os.system('lastal DSCAM_EXONS_LASTDB/Dscam_exon4.last SpikeIns_020415_20X.fasta > Spikeins_alignments_exon4_DEFAULTS')\n",
      "os.system('lastal DSCAM_EXONS_LASTDB/Dscam_exon6.last SpikeIns_020415_20X.fasta > Spikeins_alignments_exon6_DEFAULTS')\n",
      "os.system('lastal DSCAM_EXONS_LASTDB/Dscam_exon9.last SpikeIns_020415_20X.fasta > Spikeins_alignments_exon9_DEFAULTS')\n",
      "'''"
     ],
     "language": "python",
     "metadata": {},
     "outputs": [
      {
       "metadata": {},
       "output_type": "pyout",
       "prompt_number": 4,
       "text": [
        "0"
       ]
      }
     ],
     "prompt_number": 4
    },
    {
     "cell_type": "code",
     "collapsed": false,
     "input": [
      "'''\n",
      "#maf-convert\n",
      "os.system('maf-convert.py SAM Spikeins_alignments_exon4_DEFAULTS > SpikeIns_020415_20X_exon4_DEFAULTS.sam')\n",
      "os.system('maf-convert.py SAM Spikeins_alignments_exon6_DEFAULTS > SpikeIns_020415_20X_exon6_DEFAULTS.sam')\n",
      "os.system('maf-convert.py SAM Spikeins_alignments_exon9_DEFAULTS > SpikeIns_020415_20X_exon9_DEFAULTS.sam')\n",
      "'''"
     ],
     "language": "python",
     "metadata": {},
     "outputs": [
      {
       "metadata": {},
       "output_type": "pyout",
       "prompt_number": 5,
       "text": [
        "0"
       ]
      }
     ],
     "prompt_number": 5
    },
    {
     "cell_type": "code",
     "collapsed": false,
     "input": [
      "'''\n",
      "#mv files\n",
      "os.system('mv *.sam SAM/')\n",
      "os.system('mv *_alignments* LAST_ALIGNMENTS/')\n",
      "'''"
     ],
     "language": "python",
     "metadata": {},
     "outputs": [
      {
       "metadata": {},
       "output_type": "pyout",
       "prompt_number": 7,
       "text": [
        "0"
       ]
      }
     ],
     "prompt_number": 7
    },
    {
     "cell_type": "code",
     "collapsed": false,
     "input": [
      "%matplotlib inline\n",
      "import pandas as pd\n",
      "import numpy as np\n",
      "import matplotlib\n",
      "import matplotlib.pyplot as plt\n",
      "from matplotlib.backends.backend_pdf import PdfPages\n",
      "import scipy.stats as stats\n",
      "import scipy.cluster.hierarchy as sch\n",
      "from operator import *\n",
      "pd.core.config.option_context('mode.use_inf_as_null',True)\n",
      "import seaborn\n",
      "rcdefsns = plt.rcParams.copy()\n",
      "import brewer2mpl"
     ],
     "language": "python",
     "metadata": {},
     "outputs": [
      {
       "output_type": "stream",
       "stream": "stderr",
       "text": [
        "/usr/lib/python2.7/dist-packages/pkg_resources.py:1031: UserWarning: /home/mohanb/.python-eggs is writable by group/others and vulnerable to attack when used with get_resource_filename. Consider a more secure location (set with .set_extraction_path or the PYTHON_EGG_CACHE environment variable).\n",
        "  warnings.warn(msg, UserWarning)\n"
       ]
      }
     ],
     "prompt_number": 9
    },
    {
     "cell_type": "code",
     "collapsed": false,
     "input": [
      "align4=pd.read_table('SAM/SpikeIns_020415_20X_exon4_DEFAULTS.sam',index_col=False,names=['Read_id','Flag','Align_Exon','Start','B','CIGAR','A','P','P2','Read','A2','Mismatches','Score']).ix[1:]\n",
      "align6=pd.read_table('SAM/SpikeIns_020415_20X_exon6_DEFAULTS.sam',index_col=False,names=['Read_id','Flag','Align_Exon','Start','B','CIGAR','A','P','P2','Read','A2','Mismatches','Score']).ix[1:]\n",
      "align9=pd.read_table('SAM/SpikeIns_020415_20X_exon9_DEFAULTS.sam',index_col=False,names=['Read_id','Flag','Align_Exon','Start','B','CIGAR','A','P','P2','Read','A2','Mismatches','Score']).ix[1:]"
     ],
     "language": "python",
     "metadata": {},
     "outputs": [],
     "prompt_number": 12
    },
    {
     "cell_type": "code",
     "collapsed": false,
     "input": [
      "align4.head()"
     ],
     "language": "python",
     "metadata": {},
     "outputs": [
      {
       "html": [
        "<div style=\"max-height:1000px;max-width:1500px;overflow:auto;\">\n",
        "<table border=\"1\" class=\"dataframe\">\n",
        "  <thead>\n",
        "    <tr style=\"text-align: right;\">\n",
        "      <th></th>\n",
        "      <th>Read_id</th>\n",
        "      <th>Flag</th>\n",
        "      <th>Align_Exon</th>\n",
        "      <th>Start</th>\n",
        "      <th>B</th>\n",
        "      <th>CIGAR</th>\n",
        "      <th>A</th>\n",
        "      <th>P</th>\n",
        "      <th>P2</th>\n",
        "      <th>Read</th>\n",
        "      <th>A2</th>\n",
        "      <th>Mismatches</th>\n",
        "      <th>Score</th>\n",
        "    </tr>\n",
        "  </thead>\n",
        "  <tbody>\n",
        "    <tr>\n",
        "      <th>1</th>\n",
        "      <td> ch100_file10_twodirections</td>\n",
        "      <td>  0</td>\n",
        "      <td> exon_4.3</td>\n",
        "      <td> 1</td>\n",
        "      <td> 255</td>\n",
        "      <td> 43H20M1I9M2I49M2D20M1D8M1D47M1585H</td>\n",
        "      <td> *</td>\n",
        "      <td> 0</td>\n",
        "      <td> 0</td>\n",
        "      <td> TCGTTGCCCAATACTACGACCACCGATGTACAAATAAGGCCTATGT...</td>\n",
        "      <td> *</td>\n",
        "      <td> NM:i:26</td>\n",
        "      <td>  AS:i:73</td>\n",
        "    </tr>\n",
        "    <tr>\n",
        "      <th>2</th>\n",
        "      <td> ch100_file12_twodirections</td>\n",
        "      <td> 16</td>\n",
        "      <td> exon_4.1</td>\n",
        "      <td> 8</td>\n",
        "      <td> 255</td>\n",
        "      <td>    57H34M3I28M1I21M1D46M1I25M1205H</td>\n",
        "      <td> *</td>\n",
        "      <td> 0</td>\n",
        "      <td> 0</td>\n",
        "      <td> CCAGTACTACGAGGCGGATGTTAACAAGGAGCACCACGTTATAAGA...</td>\n",
        "      <td> *</td>\n",
        "      <td> NM:i:36</td>\n",
        "      <td>  AS:i:60</td>\n",
        "    </tr>\n",
        "    <tr>\n",
        "      <th>3</th>\n",
        "      <td>  ch100_file8_twodirections</td>\n",
        "      <td>  0</td>\n",
        "      <td> exon_4.1</td>\n",
        "      <td> 7</td>\n",
        "      <td> 255</td>\n",
        "      <td>    35H27M1D11M2D46M2D14M1I41M1627H</td>\n",
        "      <td> *</td>\n",
        "      <td> 0</td>\n",
        "      <td> 0</td>\n",
        "      <td> CCCAGTACTACGAGGCGGATGTTAACAGGAGCACGCTAAGAGGCAA...</td>\n",
        "      <td> *</td>\n",
        "      <td> NM:i:16</td>\n",
        "      <td>  AS:i:85</td>\n",
        "    </tr>\n",
        "    <tr>\n",
        "      <th>4</th>\n",
        "      <td> ch103_file17_twodirections</td>\n",
        "      <td>  0</td>\n",
        "      <td> exon_4.5</td>\n",
        "      <td> 1</td>\n",
        "      <td> 255</td>\n",
        "      <td>     70H9M1I79M1D13M1I39M1I19M1713H</td>\n",
        "      <td> *</td>\n",
        "      <td> 0</td>\n",
        "      <td> 0</td>\n",
        "      <td> TCGTGAATCGAGTATTACGAGGCTGAGGTTGTTCCGAGTCACGTTA...</td>\n",
        "      <td> *</td>\n",
        "      <td> NM:i:24</td>\n",
        "      <td>  AS:i:87</td>\n",
        "    </tr>\n",
        "    <tr>\n",
        "      <th>5</th>\n",
        "      <td> ch103_file18_twodirections</td>\n",
        "      <td> 16</td>\n",
        "      <td> exon_4.5</td>\n",
        "      <td> 5</td>\n",
        "      <td> 255</td>\n",
        "      <td>    44H32M1D14M1I69M1D12M1D26M1612H</td>\n",
        "      <td> *</td>\n",
        "      <td> 0</td>\n",
        "      <td> 0</td>\n",
        "      <td> GAATCAGTATTACGAGGCTGGCATTGTTTCCGGTACGTTATCCGCG...</td>\n",
        "      <td> *</td>\n",
        "      <td> NM:i:14</td>\n",
        "      <td> AS:i:101</td>\n",
        "    </tr>\n",
        "  </tbody>\n",
        "</table>\n",
        "</div>"
       ],
       "metadata": {},
       "output_type": "pyout",
       "prompt_number": 13,
       "text": [
        "                      Read_id Flag Align_Exon  Start    B  \\\n",
        "1  ch100_file10_twodirections    0   exon_4.3      1  255   \n",
        "2  ch100_file12_twodirections   16   exon_4.1      8  255   \n",
        "3   ch100_file8_twodirections    0   exon_4.1      7  255   \n",
        "4  ch103_file17_twodirections    0   exon_4.5      1  255   \n",
        "5  ch103_file18_twodirections   16   exon_4.5      5  255   \n",
        "\n",
        "                                CIGAR  A  P  P2  \\\n",
        "1  43H20M1I9M2I49M2D20M1D8M1D47M1585H  *  0   0   \n",
        "2     57H34M3I28M1I21M1D46M1I25M1205H  *  0   0   \n",
        "3     35H27M1D11M2D46M2D14M1I41M1627H  *  0   0   \n",
        "4      70H9M1I79M1D13M1I39M1I19M1713H  *  0   0   \n",
        "5     44H32M1D14M1I69M1D12M1D26M1612H  *  0   0   \n",
        "\n",
        "                                                Read A2 Mismatches     Score  \n",
        "1  TCGTTGCCCAATACTACGACCACCGATGTACAAATAAGGCCTATGT...  *    NM:i:26   AS:i:73  \n",
        "2  CCAGTACTACGAGGCGGATGTTAACAAGGAGCACCACGTTATAAGA...  *    NM:i:36   AS:i:60  \n",
        "3  CCCAGTACTACGAGGCGGATGTTAACAGGAGCACGCTAAGAGGCAA...  *    NM:i:16   AS:i:85  \n",
        "4  TCGTGAATCGAGTATTACGAGGCTGAGGTTGTTCCGAGTCACGTTA...  *    NM:i:24   AS:i:87  \n",
        "5  GAATCAGTATTACGAGGCTGGCATTGTTTCCGGTACGTTATCCGCG...  *    NM:i:14  AS:i:101  "
       ]
      }
     ],
     "prompt_number": 13
    },
    {
     "cell_type": "code",
     "collapsed": false,
     "input": [
      "align4.drop(['Flag','B','A','P','P2','A2'],axis=1,inplace=True)\n",
      "align6.drop(['Flag','B','A','P','P2','A2'],axis=1,inplace=True)\n",
      "align9.drop(['Flag','B','A','P','P2','A2'],axis=1,inplace=True)\n",
      "print len(align4),len(align6),len(align9)"
     ],
     "language": "python",
     "metadata": {},
     "outputs": [
      {
       "output_type": "stream",
       "stream": "stdout",
       "text": [
        "6449 4947 7245\n"
       ]
      }
     ],
     "prompt_number": 14
    },
    {
     "cell_type": "code",
     "collapsed": false,
     "input": [
      "#Use for Unique alignments\n",
      "count_appkey = align4.groupby('Read_id')['Read_id'].transform('count')\n",
      "align4=align4[count_appkey==1]\n",
      "count_appkey = align6.groupby('Read_id')['Read_id'].transform('count')\n",
      "align6=align6[count_appkey==1]\n",
      "count_appkey = align9.groupby('Read_id')['Read_id'].transform('count')\n",
      "align9=align9[count_appkey==1]\n",
      "print len(align4),len(align6),len(align9)"
     ],
     "language": "python",
     "metadata": {},
     "outputs": [
      {
       "output_type": "stream",
       "stream": "stdout",
       "text": [
        "14060 11131 12740\n"
       ]
      }
     ],
     "prompt_number": 6
    },
    {
     "cell_type": "code",
     "collapsed": false,
     "input": [
      "align4['Align_Exon']=align4['Align_Exon'].apply(lambda x:x.replace('exon_',''))\n",
      "align6['Align_Exon']=align6['Align_Exon'].apply(lambda x:x.replace('exon_',''))\n",
      "align9['Align_Exon']=align9['Align_Exon'].apply(lambda x:x.replace('exon_',''))\n",
      "align4['Score']=align4['Score'].apply(lambda x:int(x.split(':')[-1]))\n",
      "align6['Score']=align6['Score'].apply(lambda x:int(x.split(':')[-1]))\n",
      "align9['Score']=align9['Score'].apply(lambda x:int(x.split(':')[-1]))\n",
      "align4['Length']=align4['Read'].apply(len)\n",
      "align6['Length']=align6['Read'].apply(len)\n",
      "align9['Length']=align9['Read'].apply(len)"
     ],
     "language": "python",
     "metadata": {},
     "outputs": [],
     "prompt_number": 5
    },
    {
     "cell_type": "code",
     "collapsed": false,
     "input": [
      "align4.sort(columns=['Read_id','Score'], inplace=True, ascending=[False,False])\n",
      "align6.sort(columns=['Read_id','Score'], inplace=True, ascending=[False,False])\n",
      "align9.sort(columns=['Read_id','Score'], inplace=True, ascending=[False,False])\n",
      "align4.head()"
     ],
     "language": "python",
     "metadata": {},
     "outputs": [
      {
       "html": [
        "<div style=\"max-height:1000px;max-width:1500px;overflow:auto;\">\n",
        "<table border=\"1\" class=\"dataframe\">\n",
        "  <thead>\n",
        "    <tr style=\"text-align: right;\">\n",
        "      <th></th>\n",
        "      <th>Read_id</th>\n",
        "      <th>Align_Exon</th>\n",
        "      <th>Start</th>\n",
        "      <th>CIGAR</th>\n",
        "      <th>Read</th>\n",
        "      <th>Mismatches</th>\n",
        "      <th>Score</th>\n",
        "      <th>Length</th>\n",
        "    </tr>\n",
        "  </thead>\n",
        "  <tbody>\n",
        "    <tr>\n",
        "      <th>23291</th>\n",
        "      <td> ch9_file9_twodirections</td>\n",
        "      <td> 4.5</td>\n",
        "      <td> 12</td>\n",
        "      <td> 33H14M1I8M5I4M1I6M1I1M1I5M1D8M1I12M1I15M2D7M2D...</td>\n",
        "      <td> TATTACGAGGCTGAAGGCTGTTTACGCCCCCAGGTTCGTATCATCT...</td>\n",
        "      <td> NM:i:43</td>\n",
        "      <td> 64</td>\n",
        "      <td> 157</td>\n",
        "    </tr>\n",
        "    <tr>\n",
        "      <th>23290</th>\n",
        "      <td>    ch9_file9_complement</td>\n",
        "      <td> 4.5</td>\n",
        "      <td>  1</td>\n",
        "      <td> 21H14M2I14M2I8M2I3M1D3M1D3M1D1M1D7M2D10M1I7M1D...</td>\n",
        "      <td> TCGTGAATCATTATATTACGAGGCTGAGGCGGTGTTTACGCCAGTC...</td>\n",
        "      <td> NM:i:49</td>\n",
        "      <td> 49</td>\n",
        "      <td> 145</td>\n",
        "    </tr>\n",
        "    <tr>\n",
        "      <th>23289</th>\n",
        "      <td>      ch9_file8_template</td>\n",
        "      <td> 4.1</td>\n",
        "      <td>  3</td>\n",
        "      <td> 41H28M1I6M1D8M1I3M3D3M2D1M1D6M2D5M1D3M1D12M1D8...</td>\n",
        "      <td> GTTGCCCAGTACTACGCTTGGTTTATCAGACAAGGTTACGTTACTA...</td>\n",
        "      <td> NM:i:53</td>\n",
        "      <td> 41</td>\n",
        "      <td> 139</td>\n",
        "    </tr>\n",
        "    <tr>\n",
        "      <th>23285</th>\n",
        "      <td>    ch9_file8_complement</td>\n",
        "      <td> 4.1</td>\n",
        "      <td> 11</td>\n",
        "      <td> 53H10M4D5M3D11M1I2M1D5M1I10M2I9M1D11M1I11M2D13...</td>\n",
        "      <td> GTACTACGAGAGCTTAAGGAGGACGTATAAAGAGCACAATTCGGCC...</td>\n",
        "      <td> NM:i:45</td>\n",
        "      <td> 57</td>\n",
        "      <td> 148</td>\n",
        "    </tr>\n",
        "    <tr>\n",
        "      <th>23281</th>\n",
        "      <td>   ch97_file9_complement</td>\n",
        "      <td> 4.1</td>\n",
        "      <td>  5</td>\n",
        "      <td> 45H24M1D9M2D3M2D5M1D14M1D1M1D10M1D12M4D2M1D9M4...</td>\n",
        "      <td> TGCCGAGTACTACGAGGCGGATGTAACTAGGAGCGTTAAGAGCAAT...</td>\n",
        "      <td> NM:i:35</td>\n",
        "      <td> 71</td>\n",
        "      <td> 129</td>\n",
        "    </tr>\n",
        "  </tbody>\n",
        "</table>\n",
        "</div>"
       ],
       "metadata": {},
       "output_type": "pyout",
       "prompt_number": 7,
       "text": [
        "                       Read_id Align_Exon  Start  \\\n",
        "23291  ch9_file9_twodirections        4.5     12   \n",
        "23290     ch9_file9_complement        4.5      1   \n",
        "23289       ch9_file8_template        4.1      3   \n",
        "23285     ch9_file8_complement        4.1     11   \n",
        "23281    ch97_file9_complement        4.1      5   \n",
        "\n",
        "                                                   CIGAR  \\\n",
        "23291  33H14M1I8M5I4M1I6M1I1M1I5M1D8M1I12M1I15M2D7M2D...   \n",
        "23290  21H14M2I14M2I8M2I3M1D3M1D3M1D1M1D7M2D10M1I7M1D...   \n",
        "23289  41H28M1I6M1D8M1I3M3D3M2D1M1D6M2D5M1D3M1D12M1D8...   \n",
        "23285  53H10M4D5M3D11M1I2M1D5M1I10M2I9M1D11M1I11M2D13...   \n",
        "23281  45H24M1D9M2D3M2D5M1D14M1D1M1D10M1D12M4D2M1D9M4...   \n",
        "\n",
        "                                                    Read Mismatches  Score  \\\n",
        "23291  TATTACGAGGCTGAAGGCTGTTTACGCCCCCAGGTTCGTATCATCT...    NM:i:43     64   \n",
        "23290  TCGTGAATCATTATATTACGAGGCTGAGGCGGTGTTTACGCCAGTC...    NM:i:49     49   \n",
        "23289  GTTGCCCAGTACTACGCTTGGTTTATCAGACAAGGTTACGTTACTA...    NM:i:53     41   \n",
        "23285  GTACTACGAGAGCTTAAGGAGGACGTATAAAGAGCACAATTCGGCC...    NM:i:45     57   \n",
        "23281  TGCCGAGTACTACGAGGCGGATGTAACTAGGAGCGTTAAGAGCAAT...    NM:i:35     71   \n",
        "\n",
        "       Length  \n",
        "23291     157  \n",
        "23290     145  \n",
        "23289     139  \n",
        "23285     148  \n",
        "23281     129  "
       ]
      }
     ],
     "prompt_number": 7
    },
    {
     "cell_type": "code",
     "collapsed": false,
     "input": [
      "#Use for alignments with score filter\n",
      "align4=align4.drop_duplicates(subset=['Read_id'])\n",
      "align6=align6.drop_duplicates(subset=['Read_id'])\n",
      "align9=align9.drop_duplicates(subset=['Read_id'])\n",
      "print len(align4),len(align6),len(align9)\n",
      "#align9[align9['Read_id'].isin(['ch322_file48_twodirections'])]"
     ],
     "language": "python",
     "metadata": {},
     "outputs": [
      {
       "output_type": "stream",
       "stream": "stdout",
       "text": [
        "17034 11232 17668\n"
       ]
      }
     ],
     "prompt_number": 7
    },
    {
     "cell_type": "code",
     "collapsed": false,
     "input": [
      "align4.set_index('Read_id',inplace=True)\n",
      "align6.set_index('Read_id',inplace=True)\n",
      "align9.set_index('Read_id',inplace=True)"
     ],
     "language": "python",
     "metadata": {},
     "outputs": [],
     "prompt_number": 8
    },
    {
     "cell_type": "code",
     "collapsed": false,
     "input": [
      "a=pd.DataFrame(data=[len(align4),len(align6),len(align9)],index=['Exon4','Exon6','Exon9'],columns=['Alignments'])"
     ],
     "language": "python",
     "metadata": {},
     "outputs": [],
     "prompt_number": 9
    },
    {
     "cell_type": "code",
     "collapsed": false,
     "input": [
      "matplotlib.rcParams['figure.figsize'] = (5.0, 5.0)\n",
      "ax=a.plot(kind='bar')\n",
      "ax.set_title('All Reads',fontsize=20)\n",
      "ax.tick_params(axis='both', which='major', labelsize=14)"
     ],
     "language": "python",
     "metadata": {},
     "outputs": [
      {
       "metadata": {},
       "output_type": "display_data",
       "png": "[encoded data removed]",
       "text": [
        "<matplotlib.figure.Figure at 0x7f4fb58b7a50>"
       ]
      }
     ],
     "prompt_number": 10
    },
    {
     "cell_type": "code",
     "collapsed": false,
     "input": [
      "matplotlib.rcParams['figure.figsize'] = (5.0, 5.0)\n",
      "align4['Align_Exon'].value_counts().plot(kind='barh')"
     ],
     "language": "python",
     "metadata": {},
     "outputs": [
      {
       "metadata": {},
       "output_type": "pyout",
       "prompt_number": 11,
       "text": [
        "<matplotlib.axes._subplots.AxesSubplot at 0x7f4fb7394090>"
       ]
      },
      {
       "metadata": {},
       "output_type": "display_data",
       "png": "[encoded data removed]",
       "text": [
        "<matplotlib.figure.Figure at 0x7f4fb738f210>"
       ]
      }
     ],
     "prompt_number": 11
    },
    {
     "cell_type": "code",
     "collapsed": false,
     "input": [
      "matplotlib.rcParams['figure.figsize'] = (5.0, 5.0)\n",
      "align6['Align_Exon'].value_counts().plot(kind='barh')"
     ],
     "language": "python",
     "metadata": {},
     "outputs": [
      {
       "metadata": {},
       "output_type": "pyout",
       "prompt_number": 12,
       "text": [
        "<matplotlib.axes._subplots.AxesSubplot at 0x7f4fb737a2d0>"
       ]
      },
      {
       "metadata": {},
       "output_type": "display_data",
       "png": "[encoded data removed]",
       "text": [
        "<matplotlib.figure.Figure at 0x7f4fb73d3e90>"
       ]
      }
     ],
     "prompt_number": 12
    },
    {
     "cell_type": "code",
     "collapsed": false,
     "input": [
      "matplotlib.rcParams['figure.figsize'] = (5.0, 5.0)\n",
      "align9['Align_Exon'].value_counts().plot(kind='barh')"
     ],
     "language": "python",
     "metadata": {},
     "outputs": [
      {
       "metadata": {},
       "output_type": "pyout",
       "prompt_number": 13,
       "text": [
        "<matplotlib.axes._subplots.AxesSubplot at 0x7f4fb740f250>"
       ]
      },
      {
       "metadata": {},
       "output_type": "display_data",
       "png": "[encoded data removed]",
       "text": [
        "<matplotlib.figure.Figure at 0x7f4fb7405410>"
       ]
      }
     ],
     "prompt_number": 13
    },
    {
     "cell_type": "code",
     "collapsed": false,
     "input": [
      "align4['exon6']=align6['Align_Exon']\n",
      "align4['exon9']=align9['Align_Exon']\n",
      "align4['isoform']=align4['Align_Exon']+'.'+align4['exon6']+'.'+align4['exon9']"
     ],
     "language": "python",
     "metadata": {},
     "outputs": [],
     "prompt_number": 14
    },
    {
     "cell_type": "code",
     "collapsed": false,
     "input": [
      "align4.head()"
     ],
     "language": "python",
     "metadata": {},
     "outputs": [
      {
       "html": [
        "<div style=\"max-height:1000px;max-width:1500px;overflow:auto;\">\n",
        "<table border=\"1\" class=\"dataframe\">\n",
        "  <thead>\n",
        "    <tr style=\"text-align: right;\">\n",
        "      <th></th>\n",
        "      <th>Align_Exon</th>\n",
        "      <th>Start</th>\n",
        "      <th>CIGAR</th>\n",
        "      <th>Read</th>\n",
        "      <th>Mismatches</th>\n",
        "      <th>Score</th>\n",
        "      <th>Length</th>\n",
        "      <th>exon6</th>\n",
        "      <th>exon9</th>\n",
        "      <th>isoform</th>\n",
        "    </tr>\n",
        "    <tr>\n",
        "      <th>Read_id</th>\n",
        "      <th></th>\n",
        "      <th></th>\n",
        "      <th></th>\n",
        "      <th></th>\n",
        "      <th></th>\n",
        "      <th></th>\n",
        "      <th></th>\n",
        "      <th></th>\n",
        "      <th></th>\n",
        "      <th></th>\n",
        "    </tr>\n",
        "  </thead>\n",
        "  <tbody>\n",
        "    <tr>\n",
        "      <th>ch9_file9_twodirections</th>\n",
        "      <td> 4.5</td>\n",
        "      <td> 12</td>\n",
        "      <td> 33H14M1I8M5I4M1I6M1I1M1I5M1D8M1I12M1I15M2D7M2D...</td>\n",
        "      <td> TATTACGAGGCTGAAGGCTGTTTACGCCCCCAGGTTCGTATCATCT...</td>\n",
        "      <td> NM:i:43</td>\n",
        "      <td> 64</td>\n",
        "      <td> 157</td>\n",
        "      <td>  6.4</td>\n",
        "      <td>  9.4</td>\n",
        "      <td>   4.5.6.4.9.4</td>\n",
        "    </tr>\n",
        "    <tr>\n",
        "      <th>ch9_file9_complement</th>\n",
        "      <td> 4.5</td>\n",
        "      <td>  1</td>\n",
        "      <td> 21H14M2I14M2I8M2I3M1D3M1D3M1D1M1D7M2D10M1I7M1D...</td>\n",
        "      <td> TCGTGAATCATTATATTACGAGGCTGAGGCGGTGTTTACGCCAGTC...</td>\n",
        "      <td> NM:i:49</td>\n",
        "      <td> 49</td>\n",
        "      <td> 145</td>\n",
        "      <td>  6.4</td>\n",
        "      <td>  9.4</td>\n",
        "      <td>   4.5.6.4.9.4</td>\n",
        "    </tr>\n",
        "    <tr>\n",
        "      <th>ch9_file8_template</th>\n",
        "      <td> 4.1</td>\n",
        "      <td>  3</td>\n",
        "      <td> 41H28M1I6M1D8M1I3M3D3M2D1M1D6M2D5M1D3M1D12M1D8...</td>\n",
        "      <td> GTTGCCCAGTACTACGCTTGGTTTATCAGACAAGGTTACGTTACTA...</td>\n",
        "      <td> NM:i:53</td>\n",
        "      <td> 41</td>\n",
        "      <td> 139</td>\n",
        "      <td> 6.46</td>\n",
        "      <td> 9.30</td>\n",
        "      <td> 4.1.6.46.9.30</td>\n",
        "    </tr>\n",
        "    <tr>\n",
        "      <th>ch9_file8_complement</th>\n",
        "      <td> 4.1</td>\n",
        "      <td> 11</td>\n",
        "      <td> 53H10M4D5M3D11M1I2M1D5M1I10M2I9M1D11M1I11M2D13...</td>\n",
        "      <td> GTACTACGAGAGCTTAAGGAGGACGTATAAAGAGCACAATTCGGCC...</td>\n",
        "      <td> NM:i:45</td>\n",
        "      <td> 57</td>\n",
        "      <td> 148</td>\n",
        "      <td>  NaN</td>\n",
        "      <td> 9.30</td>\n",
        "      <td>           NaN</td>\n",
        "    </tr>\n",
        "    <tr>\n",
        "      <th>ch97_file9_complement</th>\n",
        "      <td> 4.1</td>\n",
        "      <td>  5</td>\n",
        "      <td> 45H24M1D9M2D3M2D5M1D14M1D1M1D10M1D12M4D2M1D9M4...</td>\n",
        "      <td> TGCCGAGTACTACGAGGCGGATGTAACTAGGAGCGTTAAGAGCAAT...</td>\n",
        "      <td> NM:i:35</td>\n",
        "      <td> 71</td>\n",
        "      <td> 129</td>\n",
        "      <td> 6.46</td>\n",
        "      <td> 9.30</td>\n",
        "      <td> 4.1.6.46.9.30</td>\n",
        "    </tr>\n",
        "  </tbody>\n",
        "</table>\n",
        "</div>"
       ],
       "metadata": {},
       "output_type": "pyout",
       "prompt_number": 15,
       "text": [
        "                        Align_Exon  Start  \\\n",
        "Read_id                                     \n",
        "ch9_file9_twodirections        4.5     12   \n",
        "ch9_file9_complement           4.5      1   \n",
        "ch9_file8_template             4.1      3   \n",
        "ch9_file8_complement           4.1     11   \n",
        "ch97_file9_complement          4.1      5   \n",
        "\n",
        "                                                                     CIGAR  \\\n",
        "Read_id                                                                      \n",
        "ch9_file9_twodirections  33H14M1I8M5I4M1I6M1I1M1I5M1D8M1I12M1I15M2D7M2D...   \n",
        "ch9_file9_complement     21H14M2I14M2I8M2I3M1D3M1D3M1D1M1D7M2D10M1I7M1D...   \n",
        "ch9_file8_template       41H28M1I6M1D8M1I3M3D3M2D1M1D6M2D5M1D3M1D12M1D8...   \n",
        "ch9_file8_complement     53H10M4D5M3D11M1I2M1D5M1I10M2I9M1D11M1I11M2D13...   \n",
        "ch97_file9_complement    45H24M1D9M2D3M2D5M1D14M1D1M1D10M1D12M4D2M1D9M4...   \n",
        "\n",
        "                                                                      Read  \\\n",
        "Read_id                                                                      \n",
        "ch9_file9_twodirections  TATTACGAGGCTGAAGGCTGTTTACGCCCCCAGGTTCGTATCATCT...   \n",
        "ch9_file9_complement     TCGTGAATCATTATATTACGAGGCTGAGGCGGTGTTTACGCCAGTC...   \n",
        "ch9_file8_template       GTTGCCCAGTACTACGCTTGGTTTATCAGACAAGGTTACGTTACTA...   \n",
        "ch9_file8_complement     GTACTACGAGAGCTTAAGGAGGACGTATAAAGAGCACAATTCGGCC...   \n",
        "ch97_file9_complement    TGCCGAGTACTACGAGGCGGATGTAACTAGGAGCGTTAAGAGCAAT...   \n",
        "\n",
        "                        Mismatches  Score  Length exon6 exon9        isoform  \n",
        "Read_id                                                                       \n",
        "ch9_file9_twodirections    NM:i:43     64     157   6.4   9.4    4.5.6.4.9.4  \n",
        "ch9_file9_complement       NM:i:49     49     145   6.4   9.4    4.5.6.4.9.4  \n",
        "ch9_file8_template         NM:i:53     41     139  6.46  9.30  4.1.6.46.9.30  \n",
        "ch9_file8_complement       NM:i:45     57     148   NaN  9.30            NaN  \n",
        "ch97_file9_complement      NM:i:35     71     129  6.46  9.30  4.1.6.46.9.30  "
       ]
      }
     ],
     "prompt_number": 15
    },
    {
     "cell_type": "code",
     "collapsed": false,
     "input": [
      "s=pd.DataFrame(align4['isoform'].value_counts())\n",
      "s.to_csv('SpikeIns_Isoform_Alignments.csv',sep='\\t')"
     ],
     "language": "python",
     "metadata": {},
     "outputs": [],
     "prompt_number": 16
    },
    {
     "cell_type": "code",
     "collapsed": false,
     "input": [
      "s"
     ],
     "language": "python",
     "metadata": {},
     "outputs": [
      {
       "html": [
        "<div style=\"max-height:1000px;max-width:1500px;overflow:auto;\">\n",
        "<table border=\"1\" class=\"dataframe\">\n",
        "  <thead>\n",
        "    <tr style=\"text-align: right;\">\n",
        "      <th></th>\n",
        "      <th>0</th>\n",
        "    </tr>\n",
        "  </thead>\n",
        "  <tbody>\n",
        "    <tr>\n",
        "      <th>4.1.6.46.9.30</th>\n",
        "      <td> 1160</td>\n",
        "    </tr>\n",
        "    <tr>\n",
        "      <th>4.5.6.4.9.4</th>\n",
        "      <td> 1066</td>\n",
        "    </tr>\n",
        "    <tr>\n",
        "      <th>4.12.6.44.9.32</th>\n",
        "      <td>  304</td>\n",
        "    </tr>\n",
        "    <tr>\n",
        "      <th>4.3.6.33.9.9</th>\n",
        "      <td>  260</td>\n",
        "    </tr>\n",
        "    <tr>\n",
        "      <th>4.7.6.8.9.15</th>\n",
        "      <td>   90</td>\n",
        "    </tr>\n",
        "    <tr>\n",
        "      <th>4.2.6.32.9.31</th>\n",
        "      <td>   28</td>\n",
        "    </tr>\n",
        "    <tr>\n",
        "      <th>4.3.6.3.9.9</th>\n",
        "      <td>    3</td>\n",
        "    </tr>\n",
        "    <tr>\n",
        "      <th>4.1.6.46.9.4</th>\n",
        "      <td>    2</td>\n",
        "    </tr>\n",
        "    <tr>\n",
        "      <th>4.1.6.46.9.9</th>\n",
        "      <td>    1</td>\n",
        "    </tr>\n",
        "    <tr>\n",
        "      <th>4.2.6.32.9.30</th>\n",
        "      <td>    1</td>\n",
        "    </tr>\n",
        "  </tbody>\n",
        "</table>\n",
        "</div>"
       ],
       "metadata": {},
       "output_type": "pyout",
       "prompt_number": 17,
       "text": [
        "                   0\n",
        "4.1.6.46.9.30   1160\n",
        "4.5.6.4.9.4     1066\n",
        "4.12.6.44.9.32   304\n",
        "4.3.6.33.9.9     260\n",
        "4.7.6.8.9.15      90\n",
        "4.2.6.32.9.31     28\n",
        "4.3.6.3.9.9        3\n",
        "4.1.6.46.9.4       2\n",
        "4.1.6.46.9.9       1\n",
        "4.2.6.32.9.30      1"
       ]
      }
     ],
     "prompt_number": 17
    },
    {
     "cell_type": "code",
     "collapsed": false,
     "input": [
      "inp=s.ix[['4.8.6.7.9.25',\n",
      "      '4.2.6.32.9.31',\n",
      "      '4.3.6.33.9.9',\n",
      "      '4.12.6.44.9.32',\n",
      "      '4.7.6.8.9.15',\n",
      "      '4.5.6.4.9.4',\n",
      "      '4.1.6.46.9.30']].sum()\n",
      "ss=s.sum().values-inp.values\n",
      "#'4.2.6.32.9.31'=0\n",
      "#'4.1.6.46.9.30'=53\n",
      "#'4.3.6.33.9.9'=8\n",
      "#'4.12.6.44.9.32=10'\n",
      "#'4.7.6.8.9.15'=6\n",
      "#'4.5.6.4.9.4'=53\n",
      "#'4.8.6.7.9.25'=4\n",
      "ss=pd.DataFrame(index=['Input','Strand Switched'],data=[inp.values,ss],columns=['Isoforms'])"
     ],
     "language": "python",
     "metadata": {},
     "outputs": [],
     "prompt_number": 18
    },
    {
     "cell_type": "code",
     "collapsed": false,
     "input": [
      "ss"
     ],
     "language": "python",
     "metadata": {},
     "outputs": [
      {
       "html": [
        "<div style=\"max-height:1000px;max-width:1500px;overflow:auto;\">\n",
        "<table border=\"1\" class=\"dataframe\">\n",
        "  <thead>\n",
        "    <tr style=\"text-align: right;\">\n",
        "      <th></th>\n",
        "      <th>Isoforms</th>\n",
        "    </tr>\n",
        "  </thead>\n",
        "  <tbody>\n",
        "    <tr>\n",
        "      <th>Input</th>\n",
        "      <td> 2908</td>\n",
        "    </tr>\n",
        "    <tr>\n",
        "      <th>Strand Switched</th>\n",
        "      <td>    7</td>\n",
        "    </tr>\n",
        "  </tbody>\n",
        "</table>\n",
        "</div>"
       ],
       "metadata": {},
       "output_type": "pyout",
       "prompt_number": 19,
       "text": [
        "                 Isoforms\n",
        "Input                2908\n",
        "Strand Switched         7"
       ]
      }
     ],
     "prompt_number": 19
    },
    {
     "cell_type": "code",
     "collapsed": false,
     "input": [
      "matplotlib.rcParams['figure.figsize'] = (30.0, 30.0)\n",
      "figure=plt.figure()\n",
      "ax=plt.subplot2grid((25,25),(0,0),colspan=4,rowspan=4)\n",
      "a.plot(kind='barh',ax=ax)\n",
      "ax.set_title('All_Alignments', fontsize=20)\n",
      "ax.tick_params(axis='both', which='major', labelsize=14)\n",
      "\n",
      "ax=plt.subplot2grid((25,25),(0,5),colspan=4,rowspan=4)\n",
      "align4['Align_Exon'].value_counts().plot(kind='barh',ax=ax)\n",
      "ax.set_title('Exon4',fontsize=20)\n",
      "ax.tick_params(axis='both', which='major', labelsize=14)\n",
      "\n",
      "ax=plt.subplot2grid((25,25),(0,10),colspan=4,rowspan=4)\n",
      "align4['exon6'].value_counts().plot(kind='barh',ax=ax)\n",
      "ax.set_title('Exon6',fontsize=20)\n",
      "ax.tick_params(axis='both', which='major', labelsize=14)\n",
      "\n",
      "ax=plt.subplot2grid((25,25),(0,15),colspan=4,rowspan=4)\n",
      "align4['exon9'].value_counts().plot(kind='barh',ax=ax)\n",
      "ax.set_title('Exon9',fontsize=20)\n",
      "ax.tick_params(axis='both', which='major', labelsize=14)\n",
      "\n",
      "ax=plt.subplot2grid((25,25),(5,0),colspan=25,rowspan=20)\n",
      "align4['isoform'].value_counts().plot(kind='barh',ax=ax)\n",
      "ax.set_title('Isoforms',fontsize=20)\n",
      "ax.tick_params(axis='both', which='major', labelsize=14)\n",
      "ax.set_xlabel('No. of Alignments', fontsize=14)\n",
      "\n",
      "ax=plt.subplot2grid((25,25),(0,20),colspan=4,rowspan=4)\n",
      "ss.T.plot(kind='barh',ax=ax,stacked=True)\n",
      "ax.set_title('Isoforms',fontsize=20)\n",
      "ax.tick_params(axis='both', which='major', labelsize=14)"
     ],
     "language": "python",
     "metadata": {},
     "outputs": [
      {
       "metadata": {},
       "output_type": "display_data",
       "png": "[encoded data removed]",
       "text": [
        "<matplotlib.figure.Figure at 0x7f3f8841ca90>"
       ]
      }
     ],
     "prompt_number": 22
    },
    {
     "cell_type": "code",
     "collapsed": false,
     "input": [
      "figure.savefig('SpikeIns_20X_020415_Analysis.pdf',format='pdf',dpi=300)"
     ],
     "language": "python",
     "metadata": {},
     "outputs": [],
     "prompt_number": 23
    },
    {
     "cell_type": "code",
     "collapsed": false,
     "input": [
      "fasta='/home/mohanb/Documents/Post-Doc/Graveley_Lab/OxfordNanopore/Dscam_spikein_01-28-2015/SpikeIns_020415_20X.fasta'\n",
      "rdic={}\n",
      "with open(fasta,'rb') as f1:\n",
      "    for line in f1:\n",
      "        if '>' in line:\n",
      "            idx=line.strip().replace('>','')\n",
      "        else:\n",
      "            rlen=len(line.strip())\n",
      "            rdic.update({idx:rlen})\n",
      "\n",
      "reads=pd.DataFrame.from_dict(rdic,orient='index')"
     ],
     "language": "python",
     "metadata": {},
     "outputs": [],
     "prompt_number": 82
    },
    {
     "cell_type": "code",
     "collapsed": false,
     "input": [
      "reads.reset_index(inplace=True)\n",
      "reads['id']=reads['index'].apply(lambda x: '_'.join(x.split(' ')[0].split('_')[:2]))"
     ],
     "language": "python",
     "metadata": {},
     "outputs": [],
     "prompt_number": 83
    },
    {
     "cell_type": "code",
     "collapsed": false,
     "input": [
      "group=reads.groupby(['id'])"
     ],
     "language": "python",
     "metadata": {},
     "outputs": [],
     "prompt_number": 84
    },
    {
     "cell_type": "code",
     "collapsed": false,
     "input": [
      "for k,g in group:\n",
      "    print g[0]\n",
      "    raw_input('break')"
     ],
     "language": "python",
     "metadata": {},
     "outputs": [
      {
       "output_type": "stream",
       "stream": "stdout",
       "text": [
        "30867    965\n",
        "Name: 0, dtype: int64\n"
       ]
      },
      {
       "name": "stdout",
       "output_type": "stream",
       "stream": "stdout",
       "text": [
        "break\n"
       ]
      },
      {
       "output_type": "stream",
       "stream": "stdout",
       "text": [
        "13341    1606\n",
        "26670    1653\n",
        "29580    1784\n",
        "Name: 0, dtype: int64\n"
       ]
      },
      {
       "name": "stdout",
       "output_type": "stream",
       "stream": "stdout",
       "text": [
        "break\n"
       ]
      },
      {
       "output_type": "stream",
       "stream": "stdout",
       "text": [
        "21606    1391\n",
        "Name: 0, dtype: int64\n"
       ]
      },
      {
       "name": "stdout",
       "output_type": "stream",
       "stream": "stdout",
       "text": [
        "break\n"
       ]
      },
      {
       "output_type": "stream",
       "stream": "stdout",
       "text": [
        "17425    1421\n",
        "26572    1347\n",
        "31435    1198\n",
        "Name: 0, dtype: int64\n"
       ]
      },
      {
       "name": "stdout",
       "output_type": "stream",
       "stream": "stdout",
       "text": [
        "break\n"
       ]
      },
      {
       "output_type": "stream",
       "stream": "stdout",
       "text": [
        "11879    994\n",
        "Name: 0, dtype: int64\n"
       ]
      },
      {
       "name": "stdout",
       "output_type": "stream",
       "stream": "stdout",
       "text": [
        "break\n"
       ]
      },
      {
       "output_type": "stream",
       "stream": "stdout",
       "text": [
        "7988     1615\n",
        "19222    1765\n",
        "32824    1661\n",
        "Name: 0, dtype: int64\n"
       ]
      },
      {
       "name": "stdout",
       "output_type": "stream",
       "stream": "stdout",
       "text": [
        "break\n"
       ]
      },
      {
       "output_type": "stream",
       "stream": "stdout",
       "text": [
        "17470    1517\n",
        "Name: 0, dtype: int64\n"
       ]
      },
      {
       "name": "stdout",
       "output_type": "stream",
       "stream": "stdout",
       "text": [
        "break\n"
       ]
      },
      {
       "output_type": "stream",
       "stream": "stdout",
       "text": [
        "24894    3397\n",
        "Name: 0, dtype: int64\n"
       ]
      },
      {
       "name": "stdout",
       "output_type": "stream",
       "stream": "stdout",
       "text": [
        "break\n"
       ]
      },
      {
       "output_type": "stream",
       "stream": "stdout",
       "text": [
        "32193    3545\n",
        "Name: 0, dtype: int64\n"
       ]
      },
      {
       "name": "stdout",
       "output_type": "stream",
       "stream": "stdout",
       "text": [
        "break\n"
       ]
      },
      {
       "output_type": "stream",
       "stream": "stdout",
       "text": [
        "18472    392\n",
        "Name: 0, dtype: int64\n"
       ]
      },
      {
       "name": "stdout",
       "output_type": "stream",
       "stream": "stdout",
       "text": [
        "break\n"
       ]
      },
      {
       "output_type": "stream",
       "stream": "stdout",
       "text": [
        "7234     1802\n",
        "15642    1563\n",
        "25908    1719\n",
        "Name: 0, dtype: int64\n"
       ]
      }
     ]
    },
    {
     "cell_type": "code",
     "collapsed": false,
     "input": [
      "matplotlib.rcParams['figure.figsize'] = (5.0, 5.0)\n",
      "figure=plt.figure()\n",
      "ax=figure.add_subplot(111)\n",
      "reads.plot(kind='hist',bins=np.arange(0,5000,100),ax=ax)\n",
      "ax.set_title('Read_Lengths', fontsize=20)\n",
      "ax.tick_params(axis='both', which='major', labelsize=14)\n",
      "ax.set_ylabel('Reads',fontsize=16)\n",
      "ax.set_xlabel('Length',fontsize=16)"
     ],
     "language": "python",
     "metadata": {},
     "outputs": [
      {
       "metadata": {},
       "output_type": "pyout",
       "prompt_number": 57,
       "text": [
        "<matplotlib.text.Text at 0x7f3f883d7590>"
       ]
      },
      {
       "metadata": {},
       "output_type": "display_data",
       "png": "[encoded data removed]",
       "text": [
        "<matplotlib.figure.Figure at 0x7f3f8864ea50>"
       ]
      }
     ],
     "prompt_number": 57
    },
    {
     "cell_type": "code",
     "collapsed": false,
     "input": [],
     "language": "python",
     "metadata": {},
     "outputs": []
    }
   ],
   "metadata": {}
  }
 ]
}