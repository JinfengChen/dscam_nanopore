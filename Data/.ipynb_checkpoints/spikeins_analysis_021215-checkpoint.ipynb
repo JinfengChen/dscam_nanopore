{
 "metadata": {
  "name": "",
  "signature": "sha256:8d43de6041ccfc180dfb92e587b5d6cb721c6ce8b99a1f2e5cda6eeca4635746"
 },
 "nbformat": 3,
 "nbformat_minor": 0,
 "worksheets": [
  {
   "cells": [
    {
     "cell_type": "code",
     "collapsed": false,
     "input": [
      "import os\n",
      "import sys"
     ],
     "language": "python",
     "metadata": {},
     "outputs": [],
     "prompt_number": 1
    },
    {
     "cell_type": "code",
     "collapsed": false,
     "input": [
      "%%bash\n",
      "#LASTDB\n",
      "lastdb Dscam_exon4.last Dscam_exon4.fasta\n",
      "lastdb Dscam_exon6.last Dscam_exon6.fasta\n",
      "lastdb Dscam_exon9.last Dscam_exon9.fasta\n"
     ],
     "language": "python",
     "metadata": {},
     "outputs": []
    },
    {
     "cell_type": "code",
     "collapsed": false,
     "input": [
      "%%bash\n",
      "#Poretools\n",
      "poretools fasta downloads/*.fast5 > SpikeIns_021215.fasta"
     ],
     "language": "python",
     "metadata": {},
     "outputs": [
      {
       "output_type": "stream",
       "stream": "stderr",
       "text": [
        "bash: line 3: unexpected EOF while looking for matching `''\n",
        "bash: line 4: syntax error: unexpected end of file\n"
       ]
      }
     ],
     "prompt_number": 2
    },
    {
     "cell_type": "code",
     "collapsed": false,
     "input": [
      "%%bash\n",
      "#LASTAL\n",
      "#lastal DSCAM_EXONS_LASTDB/Dscam_exon4.last SpikeIns_020415_20X.fasta > Spikeins_alignments_exon4_DEFAULTS\n",
      "#lastal DSCAM_EXONS_LASTDB/Dscam_exon6.last SpikeIns_020415_20X.fasta > Spikeins_alignments_exon6_DEFAULTS\n",
      "#lastal DSCAM_EXONS_LASTDB/Dscam_exon9.last SpikeIns_020415_20X.fasta > Spikeins_alignments_exon9_DEFAULTS\n",
      "\n",
      "lastal -s 2 -T 0 -Q 0 -a 1 DSCAM_EXONS_LASTDB/Dscam_exon4.last SpikeIns_021215.fasta > Spikeins_021215_alignments_exon4.maf\n",
      "lastal -s 2 -T 0 -Q 0 -a 1 DSCAM_EXONS_LASTDB/Dscam_exon6.last SpikeIns_021215.fasta > Spikeins_021215_alignments_exon6.maf\n",
      "lastal -s 2 -T 0 -Q 0 -a 1 DSCAM_EXONS_LASTDB/Dscam_exon9.last SpikeIns_021215.fasta > Spikeins_021215_alignments_exon9.maf\n"
     ],
     "language": "python",
     "metadata": {},
     "outputs": [],
     "prompt_number": 3
    },
    {
     "cell_type": "code",
     "collapsed": false,
     "input": [
      "%%bash\n",
      "#maf-convert\n",
      "maf-convert.py SAM Spikeins_021215_alignments_exon4.maf > SpikeIns_021215_exon4.sam\n",
      "maf-convert.py SAM Spikeins_021215_alignments_exon6.maf > SpikeIns_021215_exon6.sam\n",
      "maf-convert.py SAM Spikeins_021215_alignments_exon9.maf > SpikeIns_021215_exon9.sam\n",
      "\n",
      "maf-convert.py PSL Spikeins_021215_alignments_exon4.maf > SpikeIns_021215_exon4.psl\n",
      "maf-convert.py PSL Spikeins_021215_alignments_exon6.maf > SpikeIns_021215_exon6.psl\n",
      "maf-convert.py PSL Spikeins_021215_alignments_exon9.maf > SpikeIns_021215_exon9.psl"
     ],
     "language": "python",
     "metadata": {},
     "outputs": [],
     "prompt_number": 4
    },
    {
     "cell_type": "code",
     "collapsed": false,
     "input": [
      "%%bash\n",
      "#mv files\n",
      "mv *.sam SAM/\n",
      "mv *.maf LAST_ALIGNMENTS/\n",
      "mv *.psl PSL/"
     ],
     "language": "python",
     "metadata": {},
     "outputs": [],
     "prompt_number": 5
    },
    {
     "cell_type": "code",
     "collapsed": false,
     "input": [
      "%matplotlib inline\n",
      "import pandas as pd\n",
      "import numpy as np\n",
      "import matplotlib\n",
      "import matplotlib.pyplot as plt\n",
      "from matplotlib.backends.backend_pdf import PdfPages\n",
      "import scipy.stats as stats\n",
      "import scipy.cluster.hierarchy as sch\n",
      "from operator import *\n",
      "pd.core.config.option_context('mode.use_inf_as_null',True)\n",
      "import seaborn\n",
      "rcdefsns = plt.rcParams.copy()\n",
      "import brewer2mpl"
     ],
     "language": "python",
     "metadata": {},
     "outputs": [
      {
       "output_type": "stream",
       "stream": "stderr",
       "text": [
        "/usr/lib/python2.7/dist-packages/pkg_resources.py:1031: UserWarning: /home/mohanb/.python-eggs is writable by group/others and vulnerable to attack when used with get_resource_filename. Consider a more secure location (set with .set_extraction_path or the PYTHON_EGG_CACHE environment variable).\n",
        "  warnings.warn(msg, UserWarning)\n"
       ]
      }
     ],
     "prompt_number": 1
    },
    {
     "cell_type": "code",
     "collapsed": false,
     "input": [
      "align4=pd.read_table('SAM/SpikeIns_021215_exon4.sam',index_col=False,names=['Read_id','Flag','Align_Exon','Start','B','CIGAR','A','P','P2','Read','A2','Mismatches','Score'], skiprows=1)\n",
      "align6=pd.read_table('SAM/SpikeIns_021215_exon6.sam',index_col=False,names=['Read_id','Flag','Align_Exon','Start','B','CIGAR','A','P','P2','Read','A2','Mismatches','Score'], skiprows=1)\n",
      "align9=pd.read_table('SAM/SpikeIns_021215_exon9.sam',index_col=False,names=['Read_id','Flag','Align_Exon','Start','B','CIGAR','A','P','P2','Read','A2','Mismatches','Score'], skiprows=1)"
     ],
     "language": "python",
     "metadata": {},
     "outputs": [],
     "prompt_number": 2
    },
    {
     "cell_type": "code",
     "collapsed": false,
     "input": [
      "align4.head()"
     ],
     "language": "python",
     "metadata": {},
     "outputs": [
      {
       "html": [
        "<div style=\"max-height:1000px;max-width:1500px;overflow:auto;\">\n",
        "<table border=\"1\" class=\"dataframe\">\n",
        "  <thead>\n",
        "    <tr style=\"text-align: right;\">\n",
        "      <th></th>\n",
        "      <th>Read_id</th>\n",
        "      <th>Flag</th>\n",
        "      <th>Align_Exon</th>\n",
        "      <th>Start</th>\n",
        "      <th>B</th>\n",
        "      <th>CIGAR</th>\n",
        "      <th>A</th>\n",
        "      <th>P</th>\n",
        "      <th>P2</th>\n",
        "      <th>Read</th>\n",
        "      <th>A2</th>\n",
        "      <th>Mismatches</th>\n",
        "      <th>Score</th>\n",
        "    </tr>\n",
        "  </thead>\n",
        "  <tbody>\n",
        "    <tr>\n",
        "      <th>0</th>\n",
        "      <td> ch100_file11_twodirections</td>\n",
        "      <td>  0</td>\n",
        "      <td> exon_4.5</td>\n",
        "      <td> 1</td>\n",
        "      <td> 255</td>\n",
        "      <td>           80H9M1I13M1I7M3D30M2I10M1D35M2I54M1609H</td>\n",
        "      <td> *</td>\n",
        "      <td> 0</td>\n",
        "      <td> 0</td>\n",
        "      <td> TCGTGAATTGAGTATTACGAGGCCTGAGGTTTCCGAGTACGTTATC...</td>\n",
        "      <td> *</td>\n",
        "      <td> NM:i:15</td>\n",
        "      <td> AS:i:132</td>\n",
        "    </tr>\n",
        "    <tr>\n",
        "      <th>1</th>\n",
        "      <td>      ch100_file11_template</td>\n",
        "      <td>  0</td>\n",
        "      <td> exon_4.5</td>\n",
        "      <td> 1</td>\n",
        "      <td> 255</td>\n",
        "      <td> 71H20M2I3M4I15M1I9M1I15M2I10M1D4M2D10M1I4M1D16...</td>\n",
        "      <td> *</td>\n",
        "      <td> 0</td>\n",
        "      <td> 0</td>\n",
        "      <td> TCGTGAATCAGTATTACGAGAGGCTAGGTGAGGTTGTTTCCGAGAT...</td>\n",
        "      <td> *</td>\n",
        "      <td> NM:i:39</td>\n",
        "      <td>  AS:i:85</td>\n",
        "    </tr>\n",
        "    <tr>\n",
        "      <th>2</th>\n",
        "      <td>    ch100_file10_complement</td>\n",
        "      <td>  0</td>\n",
        "      <td> exon_4.7</td>\n",
        "      <td> 1</td>\n",
        "      <td> 255</td>\n",
        "      <td> 62H8M1D4M1D2M1I15M3D7M2D8M1D6M1I3M1D7M1D6M1D9M...</td>\n",
        "      <td> *</td>\n",
        "      <td> 0</td>\n",
        "      <td> 0</td>\n",
        "      <td> TTGTCAGTAGCGTACTGAAGAAGAGATGCTCGAGTATTACCCGCAT...</td>\n",
        "      <td> *</td>\n",
        "      <td> NM:i:48</td>\n",
        "      <td>  AS:i:49</td>\n",
        "    </tr>\n",
        "    <tr>\n",
        "      <th>3</th>\n",
        "      <td> ch100_file10_twodirections</td>\n",
        "      <td> 16</td>\n",
        "      <td> exon_4.7</td>\n",
        "      <td> 1</td>\n",
        "      <td> 255</td>\n",
        "      <td> 61H60M1D9M1D15M4I8M1I14M1I22M1D15M2D5M2I5M1I4M99H</td>\n",
        "      <td> *</td>\n",
        "      <td> 0</td>\n",
        "      <td> 0</td>\n",
        "      <td> TTGTCAATCAGTCCTATGAGGCGGAGATTATGACCGAGTATGTTAT...</td>\n",
        "      <td> *</td>\n",
        "      <td> NM:i:23</td>\n",
        "      <td> AS:i:116</td>\n",
        "    </tr>\n",
        "    <tr>\n",
        "      <th>4</th>\n",
        "      <td> ch100_file10_twodirections</td>\n",
        "      <td> 16</td>\n",
        "      <td> exon_4.6</td>\n",
        "      <td> 1</td>\n",
        "      <td> 255</td>\n",
        "      <td> 61H61M1D6M1D17M4I8M1I14M1I21M1D8M1D3M1D8M1D9M104H</td>\n",
        "      <td> *</td>\n",
        "      <td> 0</td>\n",
        "      <td> 0</td>\n",
        "      <td> TTGTCAATCAGTCCTATGAGGCGGAGATTATGACCGAGTATGTTAT...</td>\n",
        "      <td> *</td>\n",
        "      <td> NM:i:50</td>\n",
        "      <td>  AS:i:58</td>\n",
        "    </tr>\n",
        "  </tbody>\n",
        "</table>\n",
        "</div>"
       ],
       "metadata": {},
       "output_type": "pyout",
       "prompt_number": 3,
       "text": [
        "                      Read_id  Flag Align_Exon  Start    B  \\\n",
        "0  ch100_file11_twodirections     0   exon_4.5      1  255   \n",
        "1       ch100_file11_template     0   exon_4.5      1  255   \n",
        "2     ch100_file10_complement     0   exon_4.7      1  255   \n",
        "3  ch100_file10_twodirections    16   exon_4.7      1  255   \n",
        "4  ch100_file10_twodirections    16   exon_4.6      1  255   \n",
        "\n",
        "                                               CIGAR  A  P  P2  \\\n",
        "0            80H9M1I13M1I7M3D30M2I10M1D35M2I54M1609H  *  0   0   \n",
        "1  71H20M2I3M4I15M1I9M1I15M2I10M1D4M2D10M1I4M1D16...  *  0   0   \n",
        "2  62H8M1D4M1D2M1I15M3D7M2D8M1D6M1I3M1D7M1D6M1D9M...  *  0   0   \n",
        "3  61H60M1D9M1D15M4I8M1I14M1I22M1D15M2D5M2I5M1I4M99H  *  0   0   \n",
        "4  61H61M1D6M1D17M4I8M1I14M1I21M1D8M1D3M1D8M1D9M104H  *  0   0   \n",
        "\n",
        "                                                Read A2 Mismatches     Score  \n",
        "0  TCGTGAATTGAGTATTACGAGGCCTGAGGTTTCCGAGTACGTTATC...  *    NM:i:15  AS:i:132  \n",
        "1  TCGTGAATCAGTATTACGAGAGGCTAGGTGAGGTTGTTTCCGAGAT...  *    NM:i:39   AS:i:85  \n",
        "2  TTGTCAGTAGCGTACTGAAGAAGAGATGCTCGAGTATTACCCGCAT...  *    NM:i:48   AS:i:49  \n",
        "3  TTGTCAATCAGTCCTATGAGGCGGAGATTATGACCGAGTATGTTAT...  *    NM:i:23  AS:i:116  \n",
        "4  TTGTCAATCAGTCCTATGAGGCGGAGATTATGACCGAGTATGTTAT...  *    NM:i:50   AS:i:58  "
       ]
      }
     ],
     "prompt_number": 3
    },
    {
     "cell_type": "code",
     "collapsed": false,
     "input": [
      "align4.drop(['Flag','B','A','P','P2','A2'],axis=1,inplace=True)\n",
      "align6.drop(['Flag','B','A','P','P2','A2'],axis=1,inplace=True)\n",
      "align9.drop(['Flag','B','A','P','P2','A2'],axis=1,inplace=True)\n",
      "print len(align4),len(align6),len(align9)"
     ],
     "language": "python",
     "metadata": {},
     "outputs": [
      {
       "output_type": "stream",
       "stream": "stdout",
       "text": [
        "5797 2682 7488\n"
       ]
      }
     ],
     "prompt_number": 4
    },
    {
     "cell_type": "code",
     "collapsed": false,
     "input": [
      "#Use for Unique alignments\n",
      "count_appkey = align4.groupby('Read_id')['Read_id'].transform('count')\n",
      "align4=align4[count_appkey==1]\n",
      "count_appkey = align6.groupby('Read_id')['Read_id'].transform('count')\n",
      "align6=align6[count_appkey==1]\n",
      "count_appkey = align9.groupby('Read_id')['Read_id'].transform('count')\n",
      "align9=align9[count_appkey==1]\n",
      "print len(align4),len(align6),len(align9)"
     ],
     "language": "python",
     "metadata": {},
     "outputs": [
      {
       "output_type": "stream",
       "stream": "stdout",
       "text": [
        "5593 4805 5011\n"
       ]
      }
     ],
     "prompt_number": 27
    },
    {
     "cell_type": "code",
     "collapsed": false,
     "input": [
      "align4['Align_Exon']=align4['Align_Exon'].apply(lambda x:x.replace('exon_',''))\n",
      "align6['Align_Exon']=align6['Align_Exon'].apply(lambda x:x.replace('exon_',''))\n",
      "align9['Align_Exon']=align9['Align_Exon'].apply(lambda x:x.replace('exon_',''))\n",
      "align4['Score']=align4['Score'].apply(lambda x:int(x.split(':')[-1]))\n",
      "align6['Score']=align6['Score'].apply(lambda x:int(x.split(':')[-1]))\n",
      "align9['Score']=align9['Score'].apply(lambda x:int(x.split(':')[-1]))\n",
      "align4['Length']=align4['Read'].apply(len)\n",
      "align6['Length']=align6['Read'].apply(len)\n",
      "align9['Length']=align9['Read'].apply(len)"
     ],
     "language": "python",
     "metadata": {},
     "outputs": [],
     "prompt_number": 5
    },
    {
     "cell_type": "code",
     "collapsed": false,
     "input": [
      "align4.sort(columns=['Read_id','Score'], inplace=True, ascending=[False,False])\n",
      "align6.sort(columns=['Read_id','Score'], inplace=True, ascending=[False,False])\n",
      "align9.sort(columns=['Read_id','Score'], inplace=True, ascending=[False,False])"
     ],
     "language": "python",
     "metadata": {},
     "outputs": [],
     "prompt_number": 6
    },
    {
     "cell_type": "code",
     "collapsed": false,
     "input": [
      "#Use for alignments with score filter\n",
      "align4=align4.drop_duplicates(subset=['Read_id'])\n",
      "align6=align6.drop_duplicates(subset=['Read_id'])\n",
      "align9=align9.drop_duplicates(subset=['Read_id'])\n",
      "print len(align4),len(align6),len(align9)\n",
      "#align9[align9['Read_id'].isin(['ch322_file48_twodirections'])]"
     ],
     "language": "python",
     "metadata": {},
     "outputs": [
      {
       "output_type": "stream",
       "stream": "stdout",
       "text": [
        "3772 2633 4086\n"
       ]
      }
     ],
     "prompt_number": 7
    },
    {
     "cell_type": "code",
     "collapsed": false,
     "input": [
      "align4.set_index('Read_id',inplace=True)\n",
      "align6.set_index('Read_id',inplace=True)\n",
      "align9.set_index('Read_id',inplace=True)"
     ],
     "language": "python",
     "metadata": {},
     "outputs": [],
     "prompt_number": 8
    },
    {
     "cell_type": "code",
     "collapsed": false,
     "input": [
      "a=pd.DataFrame(data=[len(align4),len(align6),len(align9)],index=['Exon4','Exon6','Exon9'],columns=['Alignments'])"
     ],
     "language": "python",
     "metadata": {},
     "outputs": [],
     "prompt_number": 9
    },
    {
     "cell_type": "code",
     "collapsed": false,
     "input": [
      "matplotlib.rcParams['figure.figsize'] = (5.0, 5.0)\n",
      "ax=a.plot(kind='bar')\n",
      "ax.set_title('All Reads',fontsize=20)\n",
      "ax.tick_params(axis='both', which='major', labelsize=14)"
     ],
     "language": "python",
     "metadata": {},
     "outputs": [
      {
       "metadata": {},
       "output_type": "display_data",
       "png": "[encoded data removed]",
       "text": [
        "<matplotlib.figure.Figure at 0x7f2b05af7fd0>"
       ]
      }
     ],
     "prompt_number": 10
    },
    {
     "cell_type": "code",
     "collapsed": false,
     "input": [
      "matplotlib.rcParams['figure.figsize'] = (5.0, 5.0)\n",
      "align4['Align_Exon'].value_counts().plot(kind='barh')"
     ],
     "language": "python",
     "metadata": {},
     "outputs": [
      {
       "metadata": {},
       "output_type": "pyout",
       "prompt_number": 11,
       "text": [
        "<matplotlib.axes._subplots.AxesSubplot at 0x7f2b05a66fd0>"
       ]
      },
      {
       "metadata": {},
       "output_type": "display_data",
       "png": "[encoded data removed]",
       "text": [
        "<matplotlib.figure.Figure at 0x7f2b05a1de10>"
       ]
      }
     ],
     "prompt_number": 11
    },
    {
     "cell_type": "code",
     "collapsed": false,
     "input": [
      "matplotlib.rcParams['figure.figsize'] = (5.0, 5.0)\n",
      "align6['Align_Exon'].value_counts().plot(kind='barh')"
     ],
     "language": "python",
     "metadata": {},
     "outputs": [
      {
       "metadata": {},
       "output_type": "pyout",
       "prompt_number": 12,
       "text": [
        "<matplotlib.axes._subplots.AxesSubplot at 0x7f2b059fce10>"
       ]
      },
      {
       "metadata": {},
       "output_type": "display_data",
       "png": "[encoded data removed]",
       "text": [
        "<matplotlib.figure.Figure at 0x7f2b05905090>"
       ]
      }
     ],
     "prompt_number": 12
    },
    {
     "cell_type": "code",
     "collapsed": false,
     "input": [
      "matplotlib.rcParams['figure.figsize'] = (5.0, 5.0)\n",
      "align9['Align_Exon'].value_counts().plot(kind='barh')"
     ],
     "language": "python",
     "metadata": {},
     "outputs": [
      {
       "metadata": {},
       "output_type": "pyout",
       "prompt_number": 13,
       "text": [
        "<matplotlib.axes._subplots.AxesSubplot at 0x7f2b31814f50>"
       ]
      },
      {
       "metadata": {},
       "output_type": "display_data",
       "png": "[encoded data removed]",
       "text": [
        "<matplotlib.figure.Figure at 0x7f2b058c48d0>"
       ]
      }
     ],
     "prompt_number": 13
    },
    {
     "cell_type": "code",
     "collapsed": false,
     "input": [
      "align4['exon6']=align6['Align_Exon']\n",
      "align4['exon9']=align9['Align_Exon']\n",
      "align4['isoform']=align4['Align_Exon']+'.'+align4['exon6']+'.'+align4['exon9']"
     ],
     "language": "python",
     "metadata": {},
     "outputs": [],
     "prompt_number": 14
    },
    {
     "cell_type": "code",
     "collapsed": false,
     "input": [
      "s=pd.DataFrame(align4['isoform'].value_counts())\n",
      "#s.to_csv('SpikeIns_Isoform_Alignments.csv',sep='\\t')"
     ],
     "language": "python",
     "metadata": {},
     "outputs": [],
     "prompt_number": 15
    },
    {
     "cell_type": "code",
     "collapsed": false,
     "input": [
      "s"
     ],
     "language": "python",
     "metadata": {},
     "outputs": [
      {
       "html": [
        "<div style=\"max-height:1000px;max-width:1500px;overflow:auto;\">\n",
        "<table border=\"1\" class=\"dataframe\">\n",
        "  <thead>\n",
        "    <tr style=\"text-align: right;\">\n",
        "      <th></th>\n",
        "      <th>0</th>\n",
        "    </tr>\n",
        "  </thead>\n",
        "  <tbody>\n",
        "    <tr>\n",
        "      <th>4.5.6.4.9.4</th>\n",
        "      <td> 1464</td>\n",
        "    </tr>\n",
        "    <tr>\n",
        "      <th>4.1.6.46.9.30</th>\n",
        "      <td>  598</td>\n",
        "    </tr>\n",
        "    <tr>\n",
        "      <th>4.12.6.44.9.32</th>\n",
        "      <td>   83</td>\n",
        "    </tr>\n",
        "    <tr>\n",
        "      <th>4.7.6.8.9.15</th>\n",
        "      <td>   48</td>\n",
        "    </tr>\n",
        "    <tr>\n",
        "      <th>4.3.6.33.9.9</th>\n",
        "      <td>   40</td>\n",
        "    </tr>\n",
        "    <tr>\n",
        "      <th>4.5.6.4.9.30</th>\n",
        "      <td>   10</td>\n",
        "    </tr>\n",
        "    <tr>\n",
        "      <th>4.2.6.32.9.31</th>\n",
        "      <td>    9</td>\n",
        "    </tr>\n",
        "    <tr>\n",
        "      <th>4.1.6.46.9.4</th>\n",
        "      <td>    4</td>\n",
        "    </tr>\n",
        "    <tr>\n",
        "      <th>4.5.6.46.9.4</th>\n",
        "      <td>    2</td>\n",
        "    </tr>\n",
        "    <tr>\n",
        "      <th>4.1.6.46.9.9</th>\n",
        "      <td>    2</td>\n",
        "    </tr>\n",
        "    <tr>\n",
        "      <th>4.7.6.8.9.4</th>\n",
        "      <td>    2</td>\n",
        "    </tr>\n",
        "    <tr>\n",
        "      <th>4.5.6.32.9.4</th>\n",
        "      <td>    1</td>\n",
        "    </tr>\n",
        "    <tr>\n",
        "      <th>4.3.6.33.9.4</th>\n",
        "      <td>    1</td>\n",
        "    </tr>\n",
        "  </tbody>\n",
        "</table>\n",
        "</div>"
       ],
       "metadata": {},
       "output_type": "pyout",
       "prompt_number": 16,
       "text": [
        "                   0\n",
        "4.5.6.4.9.4     1464\n",
        "4.1.6.46.9.30    598\n",
        "4.12.6.44.9.32    83\n",
        "4.7.6.8.9.15      48\n",
        "4.3.6.33.9.9      40\n",
        "4.5.6.4.9.30      10\n",
        "4.2.6.32.9.31      9\n",
        "4.1.6.46.9.4       4\n",
        "4.5.6.46.9.4       2\n",
        "4.1.6.46.9.9       2\n",
        "4.7.6.8.9.4        2\n",
        "4.5.6.32.9.4       1\n",
        "4.3.6.33.9.4       1"
       ]
      }
     ],
     "prompt_number": 16
    },
    {
     "cell_type": "code",
     "collapsed": false,
     "input": [
      "inp=s.ix[['4.8.6.7.9.25',\n",
      "      '4.2.6.32.9.31',\n",
      "      '4.3.6.33.9.9',\n",
      "      '4.12.6.44.9.32',\n",
      "      '4.7.6.8.9.15',\n",
      "      '4.5.6.4.9.4',\n",
      "      '4.1.6.46.9.30']].sum()\n",
      "ss=s.sum().values-inp.values\n",
      "#'4.2.6.32.9.31'=0\n",
      "#'4.1.6.46.9.30'=53\n",
      "#'4.3.6.33.9.9'=8\n",
      "#'4.12.6.44.9.32=10'\n",
      "#'4.7.6.8.9.15'=6\n",
      "#'4.5.6.4.9.4'=53\n",
      "#'4.8.6.7.9.25'=4\n",
      "ss=pd.DataFrame(index=['Input','Strand Switched'],data=[inp.values,ss],columns=['Isoforms'])\n",
      "ss"
     ],
     "language": "python",
     "metadata": {},
     "outputs": [
      {
       "html": [
        "<div style=\"max-height:1000px;max-width:1500px;overflow:auto;\">\n",
        "<table border=\"1\" class=\"dataframe\">\n",
        "  <thead>\n",
        "    <tr style=\"text-align: right;\">\n",
        "      <th></th>\n",
        "      <th>Isoforms</th>\n",
        "    </tr>\n",
        "  </thead>\n",
        "  <tbody>\n",
        "    <tr>\n",
        "      <th>Input</th>\n",
        "      <td> 2242</td>\n",
        "    </tr>\n",
        "    <tr>\n",
        "      <th>Strand Switched</th>\n",
        "      <td>   22</td>\n",
        "    </tr>\n",
        "  </tbody>\n",
        "</table>\n",
        "</div>"
       ],
       "metadata": {},
       "output_type": "pyout",
       "prompt_number": 17,
       "text": [
        "                 Isoforms\n",
        "Input                2242\n",
        "Strand Switched        22"
       ]
      }
     ],
     "prompt_number": 17
    },
    {
     "cell_type": "code",
     "collapsed": false,
     "input": [
      "matplotlib.rcParams['figure.figsize'] = (30.0, 30.0)\n",
      "figure=plt.figure()\n",
      "ax=plt.subplot2grid((25,25),(0,0),colspan=4,rowspan=4)\n",
      "a.plot(kind='barh',ax=ax)\n",
      "ax.set_title('All_Alignments', fontsize=20)\n",
      "ax.tick_params(axis='both', which='major', labelsize=14)\n",
      "\n",
      "ax=plt.subplot2grid((25,25),(0,5),colspan=4,rowspan=4)\n",
      "align4['Align_Exon'].value_counts().plot(kind='barh',ax=ax)\n",
      "ax.set_title('Exon4',fontsize=20)\n",
      "ax.tick_params(axis='both', which='major', labelsize=14)\n",
      "\n",
      "ax=plt.subplot2grid((25,25),(0,10),colspan=4,rowspan=4)\n",
      "align4['exon6'].value_counts().plot(kind='barh',ax=ax)\n",
      "ax.set_title('Exon6',fontsize=20)\n",
      "ax.tick_params(axis='both', which='major', labelsize=14)\n",
      "\n",
      "ax=plt.subplot2grid((25,25),(0,15),colspan=4,rowspan=4)\n",
      "align4['exon9'].value_counts().plot(kind='barh',ax=ax)\n",
      "ax.set_title('Exon9',fontsize=20)\n",
      "ax.tick_params(axis='both', which='major', labelsize=14)\n",
      "\n",
      "ax=plt.subplot2grid((25,25),(5,0),colspan=25,rowspan=20)\n",
      "align4['isoform'].value_counts().plot(kind='barh',ax=ax)\n",
      "ax.set_title('Isoforms',fontsize=20)\n",
      "ax.tick_params(axis='both', which='major', labelsize=14)\n",
      "ax.set_xlabel('No. of Alignments', fontsize=14)\n",
      "\n",
      "ax=plt.subplot2grid((25,25),(0,20),colspan=4,rowspan=4)\n",
      "ss.T.plot(kind='barh',ax=ax,stacked=True)\n",
      "ax.set_title('Isoforms',fontsize=20)\n",
      "ax.tick_params(axis='both', which='major', labelsize=14)"
     ],
     "language": "python",
     "metadata": {},
     "outputs": [
      {
       "metadata": {},
       "output_type": "display_data",
       "png": "[encoded data removed]",
       "text": [
        "<matplotlib.figure.Figure at 0x7f2b05869610>"
       ]
      }
     ],
     "prompt_number": 18
    },
    {
     "cell_type": "code",
     "collapsed": false,
     "input": [
      "figure.savefig('SpikeIns_20X_020415_Analysis.pdf',format='pdf',dpi=300)"
     ],
     "language": "python",
     "metadata": {},
     "outputs": [],
     "prompt_number": 20
    },
    {
     "cell_type": "code",
     "collapsed": false,
     "input": [
      "fasta='SpikeIns_021215.fasta'\n",
      "rdic={}\n",
      "with open(fasta,'rb') as f1:\n",
      "    for line in f1:\n",
      "        if '>' in line:\n",
      "            idx=line.strip().replace('>','')\n",
      "        else:\n",
      "            rlen=len(line.strip())\n",
      "            rdic.update({idx:rlen})\n",
      "\n",
      "reads=pd.DataFrame.from_dict(rdic,orient='index')"
     ],
     "language": "python",
     "metadata": {},
     "outputs": [],
     "prompt_number": 19
    },
    {
     "cell_type": "code",
     "collapsed": false,
     "input": [
      "reads.reset_index(inplace=True)\n",
      "reads['id']=reads['index'].apply(lambda x: '_'.join(x.split(' ')[0].split('_')[:2]))\n",
      "reads['direction']=reads['index'].apply(lambda x: x.split(' ')[0].split('_')[-1])\n",
      "reads['Read_id']=reads['index'].apply(lambda x: x.split(' ')[0])"
     ],
     "language": "python",
     "metadata": {},
     "outputs": [],
     "prompt_number": 20
    },
    {
     "cell_type": "code",
     "collapsed": false,
     "input": [
      "reads.head()"
     ],
     "language": "python",
     "metadata": {},
     "outputs": [
      {
       "html": [
        "<div style=\"max-height:1000px;max-width:1500px;overflow:auto;\">\n",
        "<table border=\"1\" class=\"dataframe\">\n",
        "  <thead>\n",
        "    <tr style=\"text-align: right;\">\n",
        "      <th></th>\n",
        "      <th>index</th>\n",
        "      <th>0</th>\n",
        "      <th>id</th>\n",
        "      <th>direction</th>\n",
        "      <th>Read_id</th>\n",
        "    </tr>\n",
        "  </thead>\n",
        "  <tbody>\n",
        "    <tr>\n",
        "      <th>0</th>\n",
        "      <td> ch38_file10_complement downloads/graveley_HP_d...</td>\n",
        "      <td> 1730</td>\n",
        "      <td>  ch38_file10</td>\n",
        "      <td>    complement</td>\n",
        "      <td>     ch38_file10_complement</td>\n",
        "    </tr>\n",
        "    <tr>\n",
        "      <th>1</th>\n",
        "      <td> ch242_file27_complement downloads/graveley_HP_...</td>\n",
        "      <td> 1823</td>\n",
        "      <td> ch242_file27</td>\n",
        "      <td>    complement</td>\n",
        "      <td>    ch242_file27_complement</td>\n",
        "    </tr>\n",
        "    <tr>\n",
        "      <th>2</th>\n",
        "      <td> ch458_file81_complement downloads/graveley_HP_...</td>\n",
        "      <td> 1760</td>\n",
        "      <td> ch458_file81</td>\n",
        "      <td>    complement</td>\n",
        "      <td>    ch458_file81_complement</td>\n",
        "    </tr>\n",
        "    <tr>\n",
        "      <th>3</th>\n",
        "      <td> ch244_file90_template downloads/graveley_HP_de...</td>\n",
        "      <td> 1732</td>\n",
        "      <td> ch244_file90</td>\n",
        "      <td>      template</td>\n",
        "      <td>      ch244_file90_template</td>\n",
        "    </tr>\n",
        "    <tr>\n",
        "      <th>4</th>\n",
        "      <td> ch234_file24_twodirections downloads/graveley_...</td>\n",
        "      <td> 1824</td>\n",
        "      <td> ch234_file24</td>\n",
        "      <td> twodirections</td>\n",
        "      <td> ch234_file24_twodirections</td>\n",
        "    </tr>\n",
        "  </tbody>\n",
        "</table>\n",
        "</div>"
       ],
       "metadata": {},
       "output_type": "pyout",
       "prompt_number": 21,
       "text": [
        "                                               index     0            id  \\\n",
        "0  ch38_file10_complement downloads/graveley_HP_d...  1730   ch38_file10   \n",
        "1  ch242_file27_complement downloads/graveley_HP_...  1823  ch242_file27   \n",
        "2  ch458_file81_complement downloads/graveley_HP_...  1760  ch458_file81   \n",
        "3  ch244_file90_template downloads/graveley_HP_de...  1732  ch244_file90   \n",
        "4  ch234_file24_twodirections downloads/graveley_...  1824  ch234_file24   \n",
        "\n",
        "       direction                     Read_id  \n",
        "0     complement      ch38_file10_complement  \n",
        "1     complement     ch242_file27_complement  \n",
        "2     complement     ch458_file81_complement  \n",
        "3       template       ch244_file90_template  \n",
        "4  twodirections  ch234_file24_twodirections  "
       ]
      }
     ],
     "prompt_number": 21
    },
    {
     "cell_type": "code",
     "collapsed": false,
     "input": [
      "reads.set_index('Read_id',inplace=True)"
     ],
     "language": "python",
     "metadata": {},
     "outputs": [],
     "prompt_number": 22
    },
    {
     "cell_type": "code",
     "collapsed": false,
     "input": [
      "new=align4.join(reads).dropna()"
     ],
     "language": "python",
     "metadata": {},
     "outputs": [],
     "prompt_number": 23
    },
    {
     "cell_type": "code",
     "collapsed": false,
     "input": [
      "new.head()"
     ],
     "language": "python",
     "metadata": {},
     "outputs": [
      {
       "html": [
        "<div style=\"max-height:1000px;max-width:1500px;overflow:auto;\">\n",
        "<table border=\"1\" class=\"dataframe\">\n",
        "  <thead>\n",
        "    <tr style=\"text-align: right;\">\n",
        "      <th></th>\n",
        "      <th>Align_Exon</th>\n",
        "      <th>Start</th>\n",
        "      <th>CIGAR</th>\n",
        "      <th>Read</th>\n",
        "      <th>Mismatches</th>\n",
        "      <th>Score</th>\n",
        "      <th>Length</th>\n",
        "      <th>exon6</th>\n",
        "      <th>exon9</th>\n",
        "      <th>isoform</th>\n",
        "      <th>index</th>\n",
        "      <th>0</th>\n",
        "      <th>id</th>\n",
        "      <th>direction</th>\n",
        "    </tr>\n",
        "    <tr>\n",
        "      <th>Read_id</th>\n",
        "      <th></th>\n",
        "      <th></th>\n",
        "      <th></th>\n",
        "      <th></th>\n",
        "      <th></th>\n",
        "      <th></th>\n",
        "      <th></th>\n",
        "      <th></th>\n",
        "      <th></th>\n",
        "      <th></th>\n",
        "      <th></th>\n",
        "      <th></th>\n",
        "      <th></th>\n",
        "      <th></th>\n",
        "    </tr>\n",
        "  </thead>\n",
        "  <tbody>\n",
        "    <tr>\n",
        "      <th>ch84_file1_twodirections</th>\n",
        "      <td> 4.5</td>\n",
        "      <td>  1</td>\n",
        "      <td> 91H18M1I9M4I6M1D51M1D8M1I4M1I6M2I7M1I6M2D9M1I1...</td>\n",
        "      <td> TCGTGAATCAGTATTACCCAGGCTGCGGCCTGTTGTTTCGAGTACG...</td>\n",
        "      <td> NM:i:27</td>\n",
        "      <td> 106</td>\n",
        "      <td> 167</td>\n",
        "      <td> 6.4</td>\n",
        "      <td> 9.4</td>\n",
        "      <td> 4.5.6.4.9.4</td>\n",
        "      <td> ch84_file1_twodirections downloads/graveley_HP...</td>\n",
        "      <td> 1936</td>\n",
        "      <td> ch84_file1</td>\n",
        "      <td> twodirections</td>\n",
        "    </tr>\n",
        "    <tr>\n",
        "      <th>ch64_file7_twodirections</th>\n",
        "      <td> 4.5</td>\n",
        "      <td>  1</td>\n",
        "      <td> 55H9M1I35M3D34M2I4M2D6M3I12M1D11M1I14M1D15M2D1...</td>\n",
        "      <td> TCGTGAATCGAGTATTACGAGGCTGAGGTTGTTCTCTAATACGTTC...</td>\n",
        "      <td> NM:i:27</td>\n",
        "      <td> 104</td>\n",
        "      <td> 158</td>\n",
        "      <td> 6.4</td>\n",
        "      <td> 9.4</td>\n",
        "      <td> 4.5.6.4.9.4</td>\n",
        "      <td> ch64_file7_twodirections downloads/graveley_HP...</td>\n",
        "      <td> 1875</td>\n",
        "      <td> ch64_file7</td>\n",
        "      <td> twodirections</td>\n",
        "    </tr>\n",
        "    <tr>\n",
        "      <th>ch64_file7_template</th>\n",
        "      <td> 4.5</td>\n",
        "      <td> 12</td>\n",
        "      <td> 96H13M6I11M1D1M1D6M2D1M2D16M1D13M1D5M2D8M5I8M1...</td>\n",
        "      <td> TATTACGAGGCTGCTCTCGAGGTTATCTCTATACGTTCTAGCAATA...</td>\n",
        "      <td> NM:i:36</td>\n",
        "      <td>  56</td>\n",
        "      <td> 125</td>\n",
        "      <td> 6.4</td>\n",
        "      <td> 9.4</td>\n",
        "      <td> 4.5.6.4.9.4</td>\n",
        "      <td> ch64_file7_template downloads/graveley_HP_defa...</td>\n",
        "      <td> 1763</td>\n",
        "      <td> ch64_file7</td>\n",
        "      <td>      template</td>\n",
        "    </tr>\n",
        "    <tr>\n",
        "      <th>ch64_file7_complement</th>\n",
        "      <td> 4.5</td>\n",
        "      <td>  1</td>\n",
        "      <td> 53H6M2I3M1I6M1I13M1I7M1D1M1D1M1D4M1D11M1D18M1D...</td>\n",
        "      <td> TCGTGAGAATCGAGTATTGACGAGGCTGAGGTGTGTTTACATCGTT...</td>\n",
        "      <td> NM:i:48</td>\n",
        "      <td>  57</td>\n",
        "      <td> 159</td>\n",
        "      <td> 6.4</td>\n",
        "      <td> 9.4</td>\n",
        "      <td> 4.5.6.4.9.4</td>\n",
        "      <td> ch64_file7_complement downloads/graveley_HP_de...</td>\n",
        "      <td> 1898</td>\n",
        "      <td> ch64_file7</td>\n",
        "      <td>    complement</td>\n",
        "    </tr>\n",
        "    <tr>\n",
        "      <th>ch64_file4_twodirections</th>\n",
        "      <td> 4.5</td>\n",
        "      <td>  7</td>\n",
        "      <td>       100H22M1D18M3I4M2I37M1D8M1I6M1I9M2I48M1644H</td>\n",
        "      <td> ATCAGTATTACGAGGCTGAGCTGTTTCCGAGTACGTTATCGCTCGT...</td>\n",
        "      <td> NM:i:18</td>\n",
        "      <td> 120</td>\n",
        "      <td> 161</td>\n",
        "      <td> 6.4</td>\n",
        "      <td> 9.4</td>\n",
        "      <td> 4.5.6.4.9.4</td>\n",
        "      <td> ch64_file4_twodirections downloads/graveley_HP...</td>\n",
        "      <td> 1905</td>\n",
        "      <td> ch64_file4</td>\n",
        "      <td> twodirections</td>\n",
        "    </tr>\n",
        "  </tbody>\n",
        "</table>\n",
        "</div>"
       ],
       "metadata": {},
       "output_type": "pyout",
       "prompt_number": 24,
       "text": [
        "                         Align_Exon  Start  \\\n",
        "Read_id                                      \n",
        "ch84_file1_twodirections        4.5      1   \n",
        "ch64_file7_twodirections        4.5      1   \n",
        "ch64_file7_template             4.5     12   \n",
        "ch64_file7_complement           4.5      1   \n",
        "ch64_file4_twodirections        4.5      7   \n",
        "\n",
        "                                                                      CIGAR  \\\n",
        "Read_id                                                                       \n",
        "ch84_file1_twodirections  91H18M1I9M4I6M1D51M1D8M1I4M1I6M2I7M1I6M2D9M1I1...   \n",
        "ch64_file7_twodirections  55H9M1I35M3D34M2I4M2D6M3I12M1D11M1I14M1D15M2D1...   \n",
        "ch64_file7_template       96H13M6I11M1D1M1D6M2D1M2D16M1D13M1D5M2D8M5I8M1...   \n",
        "ch64_file7_complement     53H6M2I3M1I6M1I13M1I7M1D1M1D1M1D4M1D11M1D18M1D...   \n",
        "ch64_file4_twodirections        100H22M1D18M3I4M2I37M1D8M1I6M1I9M2I48M1644H   \n",
        "\n",
        "                                                                       Read  \\\n",
        "Read_id                                                                       \n",
        "ch84_file1_twodirections  TCGTGAATCAGTATTACCCAGGCTGCGGCCTGTTGTTTCGAGTACG...   \n",
        "ch64_file7_twodirections  TCGTGAATCGAGTATTACGAGGCTGAGGTTGTTCTCTAATACGTTC...   \n",
        "ch64_file7_template       TATTACGAGGCTGCTCTCGAGGTTATCTCTATACGTTCTAGCAATA...   \n",
        "ch64_file7_complement     TCGTGAGAATCGAGTATTGACGAGGCTGAGGTGTGTTTACATCGTT...   \n",
        "ch64_file4_twodirections  ATCAGTATTACGAGGCTGAGCTGTTTCCGAGTACGTTATCGCTCGT...   \n",
        "\n",
        "                         Mismatches  Score  Length exon6 exon9      isoform  \\\n",
        "Read_id                                                                       \n",
        "ch84_file1_twodirections    NM:i:27    106     167   6.4   9.4  4.5.6.4.9.4   \n",
        "ch64_file7_twodirections    NM:i:27    104     158   6.4   9.4  4.5.6.4.9.4   \n",
        "ch64_file7_template         NM:i:36     56     125   6.4   9.4  4.5.6.4.9.4   \n",
        "ch64_file7_complement       NM:i:48     57     159   6.4   9.4  4.5.6.4.9.4   \n",
        "ch64_file4_twodirections    NM:i:18    120     161   6.4   9.4  4.5.6.4.9.4   \n",
        "\n",
        "                                                                      index  \\\n",
        "Read_id                                                                       \n",
        "ch84_file1_twodirections  ch84_file1_twodirections downloads/graveley_HP...   \n",
        "ch64_file7_twodirections  ch64_file7_twodirections downloads/graveley_HP...   \n",
        "ch64_file7_template       ch64_file7_template downloads/graveley_HP_defa...   \n",
        "ch64_file7_complement     ch64_file7_complement downloads/graveley_HP_de...   \n",
        "ch64_file4_twodirections  ch64_file4_twodirections downloads/graveley_HP...   \n",
        "\n",
        "                             0          id      direction  \n",
        "Read_id                                                    \n",
        "ch84_file1_twodirections  1936  ch84_file1  twodirections  \n",
        "ch64_file7_twodirections  1875  ch64_file7  twodirections  \n",
        "ch64_file7_template       1763  ch64_file7       template  \n",
        "ch64_file7_complement     1898  ch64_file7     complement  \n",
        "ch64_file4_twodirections  1905  ch64_file4  twodirections  "
       ]
      }
     ],
     "prompt_number": 24
    },
    {
     "cell_type": "code",
     "collapsed": false,
     "input": [
      "matplotlib.rcParams['figure.figsize'] = (5.0, 5.0)\n",
      "figure=plt.figure()\n",
      "ax=figure.add_subplot(111)\n",
      "reads.plot(kind='hist',bins=np.arange(0,5000,100),ax=ax)\n",
      "ax.set_title('Read_Lengths', fontsize=20)\n",
      "ax.tick_params(axis='both', which='major', labelsize=14)\n",
      "ax.set_ylabel('Reads',fontsize=16)\n",
      "ax.set_xlabel('Length',fontsize=16)"
     ],
     "language": "python",
     "metadata": {},
     "outputs": [
      {
       "metadata": {},
       "output_type": "pyout",
       "prompt_number": 25,
       "text": [
        "<matplotlib.text.Text at 0x7f2b05ae48d0>"
       ]
      },
      {
       "metadata": {},
       "output_type": "display_data",
       "png": "[encoded data removed]",
       "text": [
        "<matplotlib.figure.Figure at 0x7f2b05549250>"
       ]
      }
     ],
     "prompt_number": 25
    },
    {
     "cell_type": "code",
     "collapsed": false,
     "input": [
      "figure.savefig('SpikeIns_20X_020415_Read_Lengths.pdf',format='pdf',dpi=300)"
     ],
     "language": "python",
     "metadata": {},
     "outputs": [],
     "prompt_number": 28
    },
    {
     "cell_type": "code",
     "collapsed": false,
     "input": [
      "g = seaborn.FacetGrid(reads, col=\"direction\")\n",
      "g.map(plt.hist, 0, bins=np.arange(0,5000,100))\n",
      "g.set_xlabels('Read Length')"
     ],
     "language": "python",
     "metadata": {},
     "outputs": [
      {
       "metadata": {},
       "output_type": "pyout",
       "prompt_number": 26,
       "text": [
        "<seaborn.axisgrid.FacetGrid at 0x7f2b054e0b10>"
       ]
      },
      {
       "metadata": {},
       "output_type": "display_data",
       "png": "[encoded data removed]",
       "text": [
        "<matplotlib.figure.Figure at 0x7f2b04d09790>"
       ]
      }
     ],
     "prompt_number": 26
    },
    {
     "cell_type": "code",
     "collapsed": false,
     "input": [
      "gr=new.groupby('direction')['isoform'].value_counts().unstack()"
     ],
     "language": "python",
     "metadata": {},
     "outputs": [],
     "prompt_number": 27
    },
    {
     "cell_type": "code",
     "collapsed": false,
     "input": [
      "norm_gr=gr.div(gr.sum(axis=1), axis=0)"
     ],
     "language": "python",
     "metadata": {},
     "outputs": [],
     "prompt_number": 28
    },
    {
     "cell_type": "code",
     "collapsed": false,
     "input": [
      "matplotlib.rcParams['figure.figsize'] = (10.0, 10.0)\n",
      "fig=plt.figure()\n",
      "ax=plt.subplot2grid((2,2),(0,0),rowspan=1,colspan=1)\n",
      "norm_gr.T.plot(kind='barh',ax=ax)\n",
      "plt.xlabel('Fraction Aligned by Read Type')\n",
      "plt.ylabel('Isoform')\n",
      "ax=plt.subplot2grid((2,2),(0,1),rowspan=1,colspan=1)\n",
      "gr.T.sum().plot(kind='bar')\n",
      "plt.ylabel('Reads')"
     ],
     "language": "python",
     "metadata": {},
     "outputs": [
      {
       "metadata": {},
       "output_type": "pyout",
       "prompt_number": 29,
       "text": [
        "<matplotlib.text.Text at 0x7f2b04dfd490>"
       ]
      },
      {
       "metadata": {},
       "output_type": "display_data",
       "png": "[encoded data removed]",
       "text": [
        "<matplotlib.figure.Figure at 0x7f2b023e7a50>"
       ]
      }
     ],
     "prompt_number": 29
    },
    {
     "cell_type": "code",
     "collapsed": false,
     "input": [],
     "language": "python",
     "metadata": {},
     "outputs": []
    }
   ],
   "metadata": {}
  }
 ]
}